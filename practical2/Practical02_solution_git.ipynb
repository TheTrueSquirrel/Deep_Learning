{
 "cells": [
  {
   "cell_type": "markdown",
   "metadata": {
    "id": "ab2a1cd5-8894-41ae-a4d0-0daaea92b67f"
   },
   "source": [
    "# Deep Learning\n",
    "## Practical Session 02"
   ]
  },
  {
   "cell_type": "code",
   "execution_count": null,
   "metadata": {
    "colab": {
     "base_uri": "https://localhost:8080/"
    },
    "id": "uxyvaq7XwTtM",
    "outputId": "308882a5-d9fa-4da0-fef1-65221daa1e86"
   },
   "outputs": [
    {
     "name": "stdout",
     "output_type": "stream",
     "text": [
      "Mounted at /content/drive\n"
     ]
    }
   ],
   "source": [
    "from google.colab import drive\n",
    "drive.mount('/content/drive')"
   ]
  },
  {
   "cell_type": "markdown",
   "metadata": {
    "id": "e3b8e801-5fd6-49f8-82fb-5e4a60435de4"
   },
   "source": [
    "# 1. Convolutional Neural Networks\n",
    "In this notebook we will define a simple convolutional neural network to classify [MNIST digits](http://yann.lecun.com/exdb/mnist) and visualize the learned representation.\n",
    "\n",
    "The network to be created will have 3 Convolutional layers (`Conv2D`). The first two `Conv2D` layers will be followed by a 2D Max Pooling (`MaxPooling2D`). After the last convolution, two fully connected layers (`Dense`) will be added."
   ]
  },
  {
   "cell_type": "code",
   "execution_count": null,
   "metadata": {
    "id": "LTEiWrg6G9sL"
   },
   "outputs": [],
   "source": [
    "import keras\n",
    "# Remove some unwanted warnings\n",
    "import logging\n",
    "logging.getLogger('tensorflow').disabled = True \n",
    "import numpy as np\n",
    "import pandas as pd #\n",
    "import tensorflow as tf"
   ]
  },
  {
   "cell_type": "markdown",
   "metadata": {
    "id": "b7613fab-468e-44b5-bfed-15324dcec70e"
   },
   "source": [
    "### MNIST Dataset\n",
    "The MNIST dataset is an acronym that stands for the Modified National Institute of Standards and Technology dataset.\n",
    "\n",
    "It is a dataset of 70,000 small square 28×28 pixel grayscale images of handwritten single digits between 0 and 9.\n",
    "\n",
    "The task is to classify a given image of a handwritten digit into one of 10 classes representing integer values from 0 to 9, inclusively."
   ]
  },
  {
   "cell_type": "markdown",
   "metadata": {
    "id": "a3363a75-a440-4dcb-9b3a-aa29d2dca189"
   },
   "source": [
    "## Loading Dataset"
   ]
  },
  {
   "cell_type": "code",
   "execution_count": null,
   "metadata": {
    "colab": {
     "base_uri": "https://localhost:8080/"
    },
    "id": "a364665d-df35-4e4a-9adb-425569183017",
    "outputId": "11f35692-20fb-4737-e32a-e544fd92ea2e"
   },
   "outputs": [
    {
     "name": "stdout",
     "output_type": "stream",
     "text": [
      "num of classes = 10\n"
     ]
    }
   ],
   "source": [
    "from keras.datasets import mnist\n",
    "# The data, shuffled and split between train and test sets:\n",
    "(trainX, trainy), (testX, testy) = mnist.load_data()\n",
    "num_classes=len(np.unique(trainy))\n",
    "print(f'num of classes = {num_classes}')"
   ]
  },
  {
   "cell_type": "code",
   "execution_count": null,
   "metadata": {
    "colab": {
     "base_uri": "https://localhost:8080/"
    },
    "id": "61db6303-18d2-464c-bbb4-a98e6a35df86",
    "outputId": "65fc8176-fad3-4abd-c7df-8fec570c793b"
   },
   "outputs": [
    {
     "name": "stdout",
     "output_type": "stream",
     "text": [
      "(60000, 28, 28)\n",
      "(60000,)\n",
      "60000 train samples\n",
      "10000 test samples\n"
     ]
    }
   ],
   "source": [
    "print(trainX.shape)\n",
    "print(trainy.shape)\n",
    "print(str(trainX.shape[0]) + ' train samples')\n",
    "print(str(testX.shape[0]) + ' test samples')"
   ]
  },
  {
   "cell_type": "code",
   "execution_count": null,
   "metadata": {
    "colab": {
     "base_uri": "https://localhost:8080/",
     "height": 268
    },
    "id": "bf71163a-d066-48e2-b63d-9a353602974b",
    "outputId": "9cdd3c26-bd41-4201-d284-2411ff0d5100"
   },
   "outputs": [
    {
     "data": {
      "image/png": "[encoded data removed]",
      "text/plain": [
       "<Figure size 432x288 with 9 Axes>"
      ]
     },
     "metadata": {
      "needs_background": "light"
     },
     "output_type": "display_data"
    }
   ],
   "source": [
    "from matplotlib import pyplot as plt\n",
    "# plot first few images\n",
    "for i in range(9):\n",
    "\t# define subplot\n",
    "\tplt.subplot(330 + 1 + i)\n",
    "\t# plot raw pixel data\n",
    "\tplt.imshow(trainX[i], cmap=plt.get_cmap('gray'))\n",
    "# show the figure\n",
    "plt.show()"
   ]
  },
  {
   "cell_type": "markdown",
   "metadata": {
    "id": "RIwYaa5wIMuo"
   },
   "source": [
    "## 1.1. Dataset Preprocessing\n",
    "There are 10 classes and that classes are represented as unique integers. We can, therefore, use a one hot encoding for the class element of each sample, transforming the integer into a 10 element binary vector with a 1 for the index of the class value. We can achieve this with the `to_categorical()` utility function."
   ]
  },
  {
   "cell_type": "code",
   "execution_count": null,
   "metadata": {
    "id": "B7n-ThbWImWv"
   },
   "outputs": [],
   "source": [
    "from tensorflow.keras.utils import to_categorical\n",
    "# Convert a class vector (integers) to binary class matrix.\n",
    "# Get only first 6000 samples from training and first 1000 samples from test set.\n",
    "y_train = to_categorical(trainy[:6000]) \n",
    "y_test = to_categorical(testy[:1000])"
   ]
  },
  {
   "cell_type": "markdown",
   "metadata": {
    "id": "kVNATstdIpVB"
   },
   "source": [
    "We know that the pixel values for each image in the dataset are unsigned integers in the range between no color and full color, or 0 and 255.\n",
    "So, we need to normalize the pixel values, e.g. rescale them to the range [0,1]. This involves first converting the data type from unsigned integers to floats, then dividing the pixel values by the maximum value."
   ]
  },
  {
   "cell_type": "code",
   "execution_count": null,
   "metadata": {
    "id": "AjRVbjYoIsyE"
   },
   "outputs": [],
   "source": [
    "# convert from integers to floats\n",
    "X_train = trainX.astype('float32')\n",
    "X_test = testX.astype('float32')\n",
    "\n",
    "# reshape images to (28, 28, 1) and get only first 6000 training sample\n",
    "X_train = X_train.reshape((X_train.shape[0], X_train.shape[1], X_train.shape[2], 1))[:6000]\n",
    "X_test = X_test.reshape((X_test.shape[0], X_test.shape[1], X_test.shape[2], 1))[:1000]\n",
    "\n",
    "# normalize to range 0-1\n",
    "X_train = X_train / 255.0\n",
    "X_test = X_test / 255.0"
   ]
  },
  {
   "cell_type": "code",
   "execution_count": null,
   "metadata": {
    "colab": {
     "base_uri": "https://localhost:8080/"
    },
    "id": "oJjI4SJfIvtY",
    "outputId": "b9ff03cd-0c15-4f08-cb3d-7a3a2d11ebfd"
   },
   "outputs": [
    {
     "name": "stdout",
     "output_type": "stream",
     "text": [
      "(28, 28, 1)\n",
      "[[0. 0. 0. ... 0. 0. 0.]\n",
      " [1. 0. 0. ... 0. 0. 0.]\n",
      " [0. 0. 0. ... 0. 0. 0.]\n",
      " ...\n",
      " [0. 0. 0. ... 0. 1. 0.]\n",
      " [0. 0. 0. ... 0. 0. 0.]\n",
      " [0. 0. 0. ... 0. 0. 1.]]\n"
     ]
    }
   ],
   "source": [
    "# the size of single image\n",
    "print(X_train.shape[1:])\n",
    "print(y_train)"
   ]
  },
  {
   "cell_type": "markdown",
   "metadata": {
    "id": "7efa5ecc-da01-49de-bd87-94123279a15a"
   },
   "source": [
    "## 1.2. Building our network (Exercise 1)\n",
    "\n",
    "As in the first practical, we will be using a Keras sequential model.\n",
    " \n",
    "To start building our neural network, we add the convolutional and max pooling layers.\n",
    "It is important to note that a ConvNet takes as input tensors of shape `(image_height, image_width, image_channels)` (not including the batch dimension). \n",
    "In our case, we will configure our ConvNet to process inputs of size `(28, 28)`, which is the format of MNIST images. We do this by passing the argument `input_shape=(28, 28)` to our first convolutional layer.\n",
    "\n",
    "The first `Conv2D` layer should have 32 filters of size 3 by 3, and specify its input shape. The second and the third `Conv2D` layers should have 32 filters of size 3 by 3.\n",
    "Remember that the first two `Conv2D` layers should be followed by 2 by 2 `MaxPooling2D` layers. All `Conv2D` should have `relu` activation."
   ]
  },
  {
   "cell_type": "code",
   "execution_count": null,
   "metadata": {
    "id": "26f652e5-4962-4f05-b2d8-19fd9d30fe93"
   },
   "outputs": [],
   "source": [
    "from tensorflow.keras import Sequential\n",
    "from tensorflow.keras import layers\n",
    "\n",
    "# Create a sequential model\n",
    "model = Sequential()\n",
    "\n",
    "# Add convolutional and pooling layers\n",
    "model.add(layers.Conv2D(32, (3, 3), activation='relu', input_shape = X_train.shape[1:]))\n",
    "model.add(layers.MaxPooling2D((2, 2)))\n",
    "model.add(layers.Conv2D(32, (3, 3), activation='relu'))\n",
    "model.add(layers.MaxPooling2D((2, 2)))\n",
    "model.add(layers.Conv2D(32, (3, 3), activation='relu'))"
   ]
  },
  {
   "cell_type": "markdown",
   "metadata": {
    "id": "232ec863-9a09-43c3-8356-1b8292344e01"
   },
   "source": [
    "Let's display the architecture of our convnet so far:"
   ]
  },
  {
   "cell_type": "code",
   "execution_count": null,
   "metadata": {
    "colab": {
     "base_uri": "https://localhost:8080/"
    },
    "id": "2e8bd571-d5e3-47be-9ad7-8e0858d3e584",
    "outputId": "149ed717-aafd-4f91-801a-4825502014a4"
   },
   "outputs": [
    {
     "name": "stdout",
     "output_type": "stream",
     "text": [
      "Model: \"sequential_2\"\n",
      "_________________________________________________________________\n",
      " Layer (type)                Output Shape              Param #   \n",
      "=================================================================\n",
      " conv2d_4 (Conv2D)           (None, 26, 26, 32)        320       \n",
      "                                                                 \n",
      " max_pooling2d_2 (MaxPooling  (None, 13, 13, 32)       0         \n",
      " 2D)                                                             \n",
      "                                                                 \n",
      " conv2d_5 (Conv2D)           (None, 11, 11, 32)        9248      \n",
      "                                                                 \n",
      " max_pooling2d_3 (MaxPooling  (None, 5, 5, 32)         0         \n",
      " 2D)                                                             \n",
      "                                                                 \n",
      " conv2d_6 (Conv2D)           (None, 3, 3, 32)          9248      \n",
      "                                                                 \n",
      "=================================================================\n",
      "Total params: 18,816\n",
      "Trainable params: 18,816\n",
      "Non-trainable params: 0\n",
      "_________________________________________________________________\n"
     ]
    }
   ],
   "source": [
    "model.summary()"
   ]
  },
  {
   "cell_type": "code",
   "execution_count": null,
   "metadata": {
    "id": "badcb770-097c-4d92-8102-99346b97d3cf"
   },
   "outputs": [],
   "source": [
    "# Add a Flatten layer to the model\n",
    "model.add(layers.Flatten())\n",
    "# Add a Dense layer with 64 units and relu activation\n",
    "model.add(layers.Dense(64, activation='relu'))\n",
    "# Add the last Dense layer.\n",
    "model.add(layers.Dense(10, activation='softmax'))"
   ]
  },
  {
   "cell_type": "code",
   "execution_count": null,
   "metadata": {
    "colab": {
     "base_uri": "https://localhost:8080/"
    },
    "id": "046dc6b9-8cc2-4c47-b5df-0c6c04762664",
    "outputId": "38d3673a-7640-458f-ae8e-942e8f9b755e"
   },
   "outputs": [
    {
     "name": "stdout",
     "output_type": "stream",
     "text": [
      "Model: \"sequential_2\"\n",
      "_________________________________________________________________\n",
      " Layer (type)                Output Shape              Param #   \n",
      "=================================================================\n",
      " conv2d_4 (Conv2D)           (None, 26, 26, 32)        320       \n",
      "                                                                 \n",
      " max_pooling2d_2 (MaxPooling  (None, 13, 13, 32)       0         \n",
      " 2D)                                                             \n",
      "                                                                 \n",
      " conv2d_5 (Conv2D)           (None, 11, 11, 32)        9248      \n",
      "                                                                 \n",
      " max_pooling2d_3 (MaxPooling  (None, 5, 5, 32)         0         \n",
      " 2D)                                                             \n",
      "                                                                 \n",
      " conv2d_6 (Conv2D)           (None, 3, 3, 32)          9248      \n",
      "                                                                 \n",
      " flatten_1 (Flatten)         (None, 288)               0         \n",
      "                                                                 \n",
      " dense_2 (Dense)             (None, 64)                18496     \n",
      "                                                                 \n",
      " dense_3 (Dense)             (None, 10)                650       \n",
      "                                                                 \n",
      "=================================================================\n",
      "Total params: 37,962\n",
      "Trainable params: 37,962\n",
      "Non-trainable params: 0\n",
      "_________________________________________________________________\n"
     ]
    }
   ],
   "source": [
    "model.summary()"
   ]
  },
  {
   "cell_type": "code",
   "execution_count": null,
   "metadata": {
    "colab": {
     "base_uri": "https://localhost:8080/"
    },
    "id": "21faa798-a432-4af0-9e05-fda6a3329b87",
    "outputId": "15caa9a0-af86-49c4-8d78-64932003c7e0"
   },
   "outputs": [
    {
     "name": "stdout",
     "output_type": "stream",
     "text": [
      "Epoch 1/5\n",
      "94/94 [==============================] - 6s 58ms/step - loss: 0.8429 - accuracy: 0.7278 - val_loss: 0.4071 - val_accuracy: 0.8710\n",
      "Epoch 2/5\n",
      "94/94 [==============================] - 6s 60ms/step - loss: 0.2792 - accuracy: 0.9142 - val_loss: 0.4022 - val_accuracy: 0.8810\n",
      "Epoch 3/5\n",
      "94/94 [==============================] - 5s 54ms/step - loss: 0.1739 - accuracy: 0.9460 - val_loss: 0.1793 - val_accuracy: 0.9410\n",
      "Epoch 4/5\n",
      "94/94 [==============================] - 5s 51ms/step - loss: 0.1235 - accuracy: 0.9620 - val_loss: 0.1158 - val_accuracy: 0.9610\n",
      "Epoch 5/5\n",
      "94/94 [==============================] - 5s 52ms/step - loss: 0.0973 - accuracy: 0.9693 - val_loss: 0.0955 - val_accuracy: 0.9700\n",
      "32/32 [==============================] - 0s 9ms/step - loss: 0.0955 - accuracy: 0.9700\n"
     ]
    }
   ],
   "source": [
    "\n",
    "model.compile(optimizer='rmsprop',\n",
    "              loss='categorical_crossentropy',\n",
    "              metrics=['accuracy'])\n",
    "history = model.fit(X_train, y_train, epochs=5, batch_size=64, validation_data=(X_test, y_test))\n",
    "test_loss, test_acc = model.evaluate(X_test, y_test)"
   ]
  },
  {
   "cell_type": "code",
   "execution_count": null,
   "metadata": {
    "colab": {
     "base_uri": "https://localhost:8080/",
     "height": 281
    },
    "id": "ocF5fLvQOOHj",
    "outputId": "43c167b5-0072-4adb-c3de-243d9a28cf28"
   },
   "outputs": [
    {
     "data": {
      "image/png": "[encoded data removed]",
      "text/plain": [
       "<Figure size 432x288 with 2 Axes>"
      ]
     },
     "metadata": {
      "needs_background": "light"
     },
     "output_type": "display_data"
    }
   ],
   "source": [
    "# plot diagnostic learning curves\n",
    "def summarize_diagnostics(history):\n",
    "\t# plot loss\n",
    "\tplt.subplot(211)\n",
    "\tplt.title('Cross Entropy Loss')\n",
    "\tplt.plot(history.history['loss'], color='blue', label='train')\n",
    "\tplt.plot(history.history['val_loss'], color='orange', label='test')\n",
    "\t# plot accuracy\n",
    "\tplt.subplot(212)\n",
    "\tplt.title('Classification Accuracy')\n",
    "\tplt.plot(history.history['accuracy'], color='blue', label='train')\n",
    "\tplt.plot(history.history['val_accuracy'], color='orange', label='test')\n",
    "\tplt.legend(['training', 'validation'])\n",
    "\tplt.show()\n",
    " \n",
    "summarize_diagnostics(history)"
   ]
  },
  {
   "cell_type": "code",
   "execution_count": null,
   "metadata": {
    "colab": {
     "base_uri": "https://localhost:8080/"
    },
    "id": "78964bd5-1d01-4836-af18-02da9923ac20",
    "outputId": "e543d9ee-6727-4fd9-9d5c-f68d1284c779"
   },
   "outputs": [
    {
     "name": "stdout",
     "output_type": "stream",
     "text": [
      "[[ 84   0   0   0   0   0   1   0   0   0]\n",
      " [  1 125   0   0   0   0   0   0   0   0]\n",
      " [  1   1 112   0   0   0   1   1   0   0]\n",
      " [  1   0   1 103   0   2   0   0   0   0]\n",
      " [  0   1   0   0 107   0   1   0   0   1]\n",
      " [  0   0   0   2   0  84   0   0   1   0]\n",
      " [  0   0   0   0   0   0  87   0   0   0]\n",
      " [  2   1   1   0   1   0   0  94   0   0]\n",
      " [  2   0   1   1   1   0   0   1  81   2]\n",
      " [  1   0   0   0   1   0   0   2   0  90]]\n",
      "test_accuracy: 0.967\n"
     ]
    }
   ],
   "source": [
    "from sklearn.metrics import confusion_matrix, accuracy_score\n",
    "from sklearn.metrics import confusion_matrix\n",
    "\n",
    "y_pred = model.predict(X_test)\n",
    "y_pred = (y_pred > 0.5)\n",
    "\n",
    "cm = confusion_matrix(y_test.argmax(axis=1), y_pred.argmax(axis=1))\n",
    "print(cm)\n",
    "acc = accuracy_score(y_test.argmax(axis=1), y_pred.argmax(axis=1))\n",
    "print('test_accuracy: %.3f' % (acc))\n"
   ]
  },
  {
   "cell_type": "code",
   "execution_count": null,
   "metadata": {
    "colab": {
     "base_uri": "https://localhost:8080/",
     "height": 300
    },
    "id": "sPB3EoOH1IW4",
    "outputId": "5c83048b-8c55-4484-f2e9-5dec7654a938"
   },
   "outputs": [
    {
     "name": "stdout",
     "output_type": "stream",
     "text": [
      "Actual Label = 8\n",
      "Prediction Label = 8\n"
     ]
    },
    {
     "data": {
      "image/png": "[encoded data removed]",
      "text/plain": [
       "<Figure size 432x288 with 1 Axes>"
      ]
     },
     "metadata": {
      "needs_background": "light"
     },
     "output_type": "display_data"
    }
   ],
   "source": [
    "import matplotlib.pyplot as plt\n",
    "## Let's look at one of the images prediction\n",
    "index = 1120\n",
    "actual = testy[index]\n",
    "plt.imshow(testX[index], cmap=plt.get_cmap('gray'))\n",
    "pred = model.predict(testX)[index].argmax()\n",
    "print(f'Actual Label = {actual}')\n",
    "print(f'Prediction Label = {pred}')"
   ]
  },
  {
   "cell_type": "markdown",
   "metadata": {
    "id": "-v5LdmB6_0x4"
   },
   "source": [
    "## Exercise 5 - Transfer Learning\n",
    "\n",
    "Transfer learning is a machine learning method where a model developed for a task is reused as the starting point for a model on a second task.\n",
    "It is a popular approach in deep learning where pre-trained models are used as the starting point on computer vision and natural language processing tasks given the vast compute and time resources required to develop neural network models on these problems and from the huge jumps in skill that they provide on related problems.\n",
    "\n",
    "It is common to perform transfer learning with predictive modeling problems that use image data as input. This may be a prediction task that takes photographs or video data as input.\n",
    "\n",
    "For these types of problems, it is common to use a deep learning model pre-trained for a large and challenging image classification task such as the ImageNet 1000-class photograph classification competition.\n",
    "\n",
    "### CIFAR10 Dataset\n",
    "\n",
    "We will use transfer learning to classify images from [CIFAR10](https://www.cs.toronto.edu/~kriz/cifar.html) dataset. The dataset is comprised of 60,000 32×32 pixel color photographs of objects from 10 classes, such as frogs, birds, cats, ships, etc. Let's load the dataset and apply some preprocessing steps to make it ready as inputs of transfer learning:"
   ]
  },
  {
   "cell_type": "code",
   "execution_count": null,
   "metadata": {
    "id": "K5Uz2KZdPu1E"
   },
   "outputs": [],
   "source": [
    "from keras.datasets import cifar10\n",
    "# The data, shuffled and split between train and test sets:\n",
    "(X_train, y_train), (X_test, y_test) = cifar10.load_data()"
   ]
  },
  {
   "cell_type": "code",
   "execution_count": null,
   "metadata": {
    "id": "cACH0q4SP_W7"
   },
   "outputs": [],
   "source": [
    "from tensorflow.keras.utils import to_categorical\n",
    "# Dataset Preprocessing\n",
    "y_train = to_categorical(y_train) # Converts a class vector (integers) to binary class matrix.\n",
    "y_test = to_categorical(y_test)\n",
    "# convert from integers to floats\n",
    "X_train = X_train.astype('float32')\n",
    "X_test = X_test.astype('float32')\n",
    "# normalize to range 0-1\n",
    "X_train = X_train / 255.0\n",
    "X_test = X_test / 255.0"
   ]
  },
  {
   "cell_type": "markdown",
   "metadata": {
    "id": "gXXouPc1SQPV"
   },
   "source": [
    "Let's fit our model, constructed in previous section, on CIFAR10 dataset. And see the classification accuracy for test set. We won't apply any transfer learning in this step, just fit our previous model on CIFAR10 dataset."
   ]
  },
  {
   "cell_type": "code",
   "execution_count": null,
   "metadata": {
    "colab": {
     "base_uri": "https://localhost:8080/"
    },
    "id": "1SBclpkKSeJP",
    "outputId": "312844cf-801a-478c-900f-0287386e392a"
   },
   "outputs": [
    {
     "name": "stdout",
     "output_type": "stream",
     "text": [
      "Epoch 1/50\n",
      "782/782 [==============================] - 8s 7ms/step - loss: 1.7027 - accuracy: 0.3811 - val_loss: 1.4446 - val_accuracy: 0.4708\n",
      "Epoch 2/50\n",
      "782/782 [==============================] - 4s 5ms/step - loss: 1.3753 - accuracy: 0.5058 - val_loss: 1.3976 - val_accuracy: 0.5006\n",
      "Epoch 3/50\n",
      "782/782 [==============================] - 4s 5ms/step - loss: 1.2282 - accuracy: 0.5643 - val_loss: 1.1585 - val_accuracy: 0.5881\n",
      "Epoch 4/50\n",
      "782/782 [==============================] - 4s 5ms/step - loss: 1.1191 - accuracy: 0.6049 - val_loss: 1.2162 - val_accuracy: 0.5656\n",
      "Epoch 5/50\n",
      "782/782 [==============================] - 4s 5ms/step - loss: 1.0398 - accuracy: 0.6349 - val_loss: 1.0670 - val_accuracy: 0.6193\n",
      "Epoch 6/50\n",
      "782/782 [==============================] - 4s 5ms/step - loss: 0.9778 - accuracy: 0.6581 - val_loss: 1.1395 - val_accuracy: 0.6057\n",
      "Epoch 7/50\n",
      "782/782 [==============================] - 4s 6ms/step - loss: 0.9325 - accuracy: 0.6726 - val_loss: 1.0623 - val_accuracy: 0.6375\n",
      "Epoch 8/50\n",
      "782/782 [==============================] - 4s 6ms/step - loss: 0.8869 - accuracy: 0.6899 - val_loss: 0.9626 - val_accuracy: 0.6669\n",
      "Epoch 9/50\n",
      "782/782 [==============================] - 4s 6ms/step - loss: 0.8519 - accuracy: 0.7016 - val_loss: 0.9783 - val_accuracy: 0.6555\n",
      "Epoch 10/50\n",
      "782/782 [==============================] - 4s 6ms/step - loss: 0.8209 - accuracy: 0.7119 - val_loss: 1.0684 - val_accuracy: 0.6390\n",
      "Epoch 11/50\n",
      "782/782 [==============================] - 5s 6ms/step - loss: 0.7944 - accuracy: 0.7201 - val_loss: 1.0807 - val_accuracy: 0.6362\n",
      "Epoch 12/50\n",
      "782/782 [==============================] - 4s 6ms/step - loss: 0.7669 - accuracy: 0.7315 - val_loss: 1.0034 - val_accuracy: 0.6594\n",
      "Epoch 13/50\n",
      "782/782 [==============================] - 4s 6ms/step - loss: 0.7418 - accuracy: 0.7391 - val_loss: 0.9164 - val_accuracy: 0.6884\n",
      "Epoch 14/50\n",
      "782/782 [==============================] - 4s 5ms/step - loss: 0.7182 - accuracy: 0.7485 - val_loss: 0.9857 - val_accuracy: 0.6686\n",
      "Epoch 15/50\n",
      "782/782 [==============================] - 4s 5ms/step - loss: 0.6965 - accuracy: 0.7562 - val_loss: 0.9992 - val_accuracy: 0.6734\n",
      "Epoch 16/50\n",
      "782/782 [==============================] - 4s 6ms/step - loss: 0.6743 - accuracy: 0.7644 - val_loss: 0.9914 - val_accuracy: 0.6758\n",
      "Epoch 17/50\n",
      "782/782 [==============================] - 4s 5ms/step - loss: 0.6558 - accuracy: 0.7697 - val_loss: 0.9589 - val_accuracy: 0.6854\n",
      "Epoch 18/50\n",
      "782/782 [==============================] - 4s 6ms/step - loss: 0.6360 - accuracy: 0.7762 - val_loss: 1.0281 - val_accuracy: 0.6690\n",
      "Epoch 19/50\n",
      "782/782 [==============================] - 4s 6ms/step - loss: 0.6211 - accuracy: 0.7812 - val_loss: 1.1563 - val_accuracy: 0.6415\n",
      "Epoch 20/50\n",
      "782/782 [==============================] - 4s 5ms/step - loss: 0.6038 - accuracy: 0.7886 - val_loss: 0.9753 - val_accuracy: 0.6902\n",
      "Epoch 21/50\n",
      "782/782 [==============================] - 4s 5ms/step - loss: 0.5864 - accuracy: 0.7946 - val_loss: 1.0454 - val_accuracy: 0.6712\n",
      "Epoch 22/50\n",
      "782/782 [==============================] - 4s 5ms/step - loss: 0.5694 - accuracy: 0.7996 - val_loss: 1.0557 - val_accuracy: 0.6776\n",
      "Epoch 23/50\n",
      "782/782 [==============================] - 4s 6ms/step - loss: 0.5547 - accuracy: 0.8040 - val_loss: 0.9553 - val_accuracy: 0.7008\n",
      "Epoch 24/50\n",
      "782/782 [==============================] - 4s 6ms/step - loss: 0.5409 - accuracy: 0.8097 - val_loss: 1.1264 - val_accuracy: 0.6692\n",
      "Epoch 25/50\n",
      "782/782 [==============================] - 4s 5ms/step - loss: 0.5262 - accuracy: 0.8156 - val_loss: 1.1749 - val_accuracy: 0.6680\n",
      "Epoch 26/50\n",
      "782/782 [==============================] - 4s 5ms/step - loss: 0.5168 - accuracy: 0.8181 - val_loss: 1.0941 - val_accuracy: 0.6798\n",
      "Epoch 27/50\n",
      "782/782 [==============================] - 4s 5ms/step - loss: 0.5008 - accuracy: 0.8251 - val_loss: 1.1857 - val_accuracy: 0.6612\n",
      "Epoch 28/50\n",
      "782/782 [==============================] - 5s 6ms/step - loss: 0.4864 - accuracy: 0.8287 - val_loss: 1.1779 - val_accuracy: 0.6625\n",
      "Epoch 29/50\n",
      "782/782 [==============================] - 5s 6ms/step - loss: 0.4740 - accuracy: 0.8318 - val_loss: 1.2469 - val_accuracy: 0.6585\n",
      "Epoch 30/50\n",
      "782/782 [==============================] - 4s 6ms/step - loss: 0.4600 - accuracy: 0.8364 - val_loss: 1.1557 - val_accuracy: 0.6841\n",
      "Epoch 31/50\n",
      "782/782 [==============================] - 4s 6ms/step - loss: 0.4483 - accuracy: 0.8408 - val_loss: 1.1350 - val_accuracy: 0.6849\n",
      "Epoch 32/50\n",
      "782/782 [==============================] - 4s 5ms/step - loss: 0.4394 - accuracy: 0.8453 - val_loss: 1.2169 - val_accuracy: 0.6749\n",
      "Epoch 33/50\n",
      "782/782 [==============================] - 4s 6ms/step - loss: 0.4252 - accuracy: 0.8494 - val_loss: 1.2175 - val_accuracy: 0.6799\n",
      "Epoch 34/50\n",
      "782/782 [==============================] - 4s 6ms/step - loss: 0.4157 - accuracy: 0.8519 - val_loss: 1.2077 - val_accuracy: 0.6879\n",
      "Epoch 35/50\n",
      "782/782 [==============================] - 4s 5ms/step - loss: 0.4047 - accuracy: 0.8563 - val_loss: 1.3594 - val_accuracy: 0.6615\n",
      "Epoch 36/50\n",
      "782/782 [==============================] - 4s 5ms/step - loss: 0.3935 - accuracy: 0.8600 - val_loss: 1.3417 - val_accuracy: 0.6597\n",
      "Epoch 37/50\n",
      "782/782 [==============================] - 4s 6ms/step - loss: 0.3837 - accuracy: 0.8634 - val_loss: 1.3161 - val_accuracy: 0.6752\n",
      "Epoch 38/50\n",
      "782/782 [==============================] - 4s 5ms/step - loss: 0.3758 - accuracy: 0.8676 - val_loss: 1.3908 - val_accuracy: 0.6594\n",
      "Epoch 39/50\n",
      "782/782 [==============================] - 4s 5ms/step - loss: 0.3672 - accuracy: 0.8704 - val_loss: 1.4997 - val_accuracy: 0.6639\n",
      "Epoch 40/50\n",
      "782/782 [==============================] - 4s 5ms/step - loss: 0.3602 - accuracy: 0.8711 - val_loss: 1.4541 - val_accuracy: 0.6612\n",
      "Epoch 41/50\n",
      "782/782 [==============================] - 4s 6ms/step - loss: 0.3490 - accuracy: 0.8769 - val_loss: 1.5816 - val_accuracy: 0.6457\n",
      "Epoch 42/50\n",
      "782/782 [==============================] - 4s 6ms/step - loss: 0.3402 - accuracy: 0.8785 - val_loss: 1.5451 - val_accuracy: 0.6659\n",
      "Epoch 43/50\n",
      "782/782 [==============================] - 4s 5ms/step - loss: 0.3356 - accuracy: 0.8816 - val_loss: 1.7247 - val_accuracy: 0.6596\n",
      "Epoch 44/50\n",
      "782/782 [==============================] - 4s 6ms/step - loss: 0.3260 - accuracy: 0.8852 - val_loss: 1.5348 - val_accuracy: 0.6732\n",
      "Epoch 45/50\n",
      "782/782 [==============================] - 4s 6ms/step - loss: 0.3180 - accuracy: 0.8871 - val_loss: 1.7645 - val_accuracy: 0.6575\n",
      "Epoch 46/50\n",
      "782/782 [==============================] - 4s 6ms/step - loss: 0.3094 - accuracy: 0.8905 - val_loss: 1.6251 - val_accuracy: 0.6636\n",
      "Epoch 47/50\n",
      "782/782 [==============================] - 4s 5ms/step - loss: 0.3041 - accuracy: 0.8908 - val_loss: 1.6162 - val_accuracy: 0.6652\n",
      "Epoch 48/50\n",
      "782/782 [==============================] - 4s 6ms/step - loss: 0.2995 - accuracy: 0.8934 - val_loss: 1.7043 - val_accuracy: 0.6763\n",
      "Epoch 49/50\n",
      "782/782 [==============================] - 4s 5ms/step - loss: 0.2939 - accuracy: 0.8956 - val_loss: 1.7362 - val_accuracy: 0.6543\n",
      "Epoch 50/50\n",
      "782/782 [==============================] - 4s 5ms/step - loss: 0.2867 - accuracy: 0.8975 - val_loss: 1.7704 - val_accuracy: 0.6739\n",
      "313/313 [==============================] - 1s 3ms/step - loss: 1.7704 - accuracy: 0.6739\n",
      "0.6739000082015991\n"
     ]
    }
   ],
   "source": [
    "from tensorflow.keras import Sequential\n",
    "from tensorflow.keras import layers\n",
    "\n",
    "# Create a sequential model\n",
    "model = Sequential()\n",
    "# Add convolutional and pooling layers\n",
    "model.add(layers.Conv2D(32, (3, 3), activation='relu', input_shape = X_train.shape[1:]))\n",
    "model.add(layers.MaxPooling2D((2, 2)))\n",
    "model.add(layers.Conv2D(32, (3, 3), activation='relu'))\n",
    "model.add(layers.MaxPooling2D((2, 2)))\n",
    "model.add(layers.Conv2D(32, (3, 3), activation='relu'))\n",
    "# Add a Flatten layer to the model\n",
    "model.add(layers.Flatten())\n",
    "# Add a Dense layer with 64 units and relu activation\n",
    "model.add(layers.Dense(64, activation='relu'))\n",
    "# Add the last Dense layer.\n",
    "model.add(layers.Dense(10, activation='softmax'))\n",
    "model.compile(optimizer='rmsprop',\n",
    "              loss='categorical_crossentropy',\n",
    "              metrics=['accuracy'])\n",
    "history = model.fit(X_train, y_train, epochs=50, batch_size=64, validation_data=(X_test, y_test))\n",
    "test_loss, test_acc = model.evaluate(X_test, y_test)\n",
    "print(test_acc)\n",
    "\n",
    "# Create a sequential model\n",
    "model = Sequential()\n"
   ]
  },
  {
   "cell_type": "code",
   "execution_count": null,
   "metadata": {
    "colab": {
     "base_uri": "https://localhost:8080/"
    },
    "id": "Ry0vt9YSJVNs",
    "outputId": "f2777e8c-6d29-4e90-e5a2-ade64f4d2ed9"
   },
   "outputs": [
    {
     "name": "stdout",
     "output_type": "stream",
     "text": [
      "Model: \"vgg16\"\n",
      "_________________________________________________________________\n",
      " Layer (type)                Output Shape              Param #   \n",
      "=================================================================\n",
      " input_6 (InputLayer)        [(None, 224, 224, 3)]     0         \n",
      "                                                                 \n",
      " block1_conv1 (Conv2D)       (None, 224, 224, 64)      1792      \n",
      "                                                                 \n",
      " block1_conv2 (Conv2D)       (None, 224, 224, 64)      36928     \n",
      "                                                                 \n",
      " block1_pool (MaxPooling2D)  (None, 112, 112, 64)      0         \n",
      "                                                                 \n",
      " block2_conv1 (Conv2D)       (None, 112, 112, 128)     73856     \n",
      "                                                                 \n",
      " block2_conv2 (Conv2D)       (None, 112, 112, 128)     147584    \n",
      "                                                                 \n",
      " block2_pool (MaxPooling2D)  (None, 56, 56, 128)       0         \n",
      "                                                                 \n",
      " block3_conv1 (Conv2D)       (None, 56, 56, 256)       295168    \n",
      "                                                                 \n",
      " block3_conv2 (Conv2D)       (None, 56, 56, 256)       590080    \n",
      "                                                                 \n",
      " block3_conv3 (Conv2D)       (None, 56, 56, 256)       590080    \n",
      "                                                                 \n",
      " block3_pool (MaxPooling2D)  (None, 28, 28, 256)       0         \n",
      "                                                                 \n",
      " block4_conv1 (Conv2D)       (None, 28, 28, 512)       1180160   \n",
      "                                                                 \n",
      " block4_conv2 (Conv2D)       (None, 28, 28, 512)       2359808   \n",
      "                                                                 \n",
      " block4_conv3 (Conv2D)       (None, 28, 28, 512)       2359808   \n",
      "                                                                 \n",
      " block4_pool (MaxPooling2D)  (None, 14, 14, 512)       0         \n",
      "                                                                 \n",
      " block5_conv1 (Conv2D)       (None, 14, 14, 512)       2359808   \n",
      "                                                                 \n",
      " block5_conv2 (Conv2D)       (None, 14, 14, 512)       2359808   \n",
      "                                                                 \n",
      " block5_conv3 (Conv2D)       (None, 14, 14, 512)       2359808   \n",
      "                                                                 \n",
      " block5_pool (MaxPooling2D)  (None, 7, 7, 512)         0         \n",
      "                                                                 \n",
      " flatten (Flatten)           (None, 25088)             0         \n",
      "                                                                 \n",
      " fc1 (Dense)                 (None, 4096)              102764544 \n",
      "                                                                 \n",
      " fc2 (Dense)                 (None, 4096)              16781312  \n",
      "                                                                 \n",
      " predictions (Dense)         (None, 1000)              4097000   \n",
      "                                                                 \n",
      "=================================================================\n",
      "Total params: 138,357,544\n",
      "Trainable params: 138,357,544\n",
      "Non-trainable params: 0\n",
      "_________________________________________________________________\n"
     ]
    }
   ],
   "source": [
    "# example of loading the vgg16 model\n",
    "from keras.applications.vgg16 import VGG16\n",
    "# load model\n",
    "vgg_model = VGG16()\n",
    "# summarize the model\n",
    "vgg_model.summary()"
   ]
  },
  {
   "cell_type": "code",
   "execution_count": null,
   "metadata": {
    "id": "pNekWj34FVJC"
   },
   "outputs": [],
   "source": [
    "from keras.applications.vgg16 import VGG16\n",
    "# load model without output layer and specify a new input shape for images\n",
    "\n",
    "vgg_model = VGG16(include_top=False, input_shape=(32, 32, 3))"
   ]
  },
  {
   "cell_type": "code",
   "execution_count": null,
   "metadata": {
    "id": "5Q5vLOs2RDkR"
   },
   "outputs": [],
   "source": [
    "# mark loaded layers as not trainable\n",
    "for layer in vgg_model.layers:\n",
    "\tlayer.trainable = False"
   ]
  },
  {
   "cell_type": "code",
   "execution_count": null,
   "metadata": {
    "colab": {
     "base_uri": "https://localhost:8080/"
    },
    "id": "WgANiQbjKYLR",
    "outputId": "0462b896-f20a-48ad-90c6-80f5252b6844"
   },
   "outputs": [
    {
     "name": "stdout",
     "output_type": "stream",
     "text": [
      "Model: \"model_5\"\n",
      "_________________________________________________________________\n",
      " Layer (type)                Output Shape              Param #   \n",
      "=================================================================\n",
      " input_8 (InputLayer)        [(None, 32, 32, 3)]       0         \n",
      "                                                                 \n",
      " block1_conv1 (Conv2D)       (None, 32, 32, 64)        1792      \n",
      "                                                                 \n",
      " block1_conv2 (Conv2D)       (None, 32, 32, 64)        36928     \n",
      "                                                                 \n",
      " block1_pool (MaxPooling2D)  (None, 16, 16, 64)        0         \n",
      "                                                                 \n",
      " block2_conv1 (Conv2D)       (None, 16, 16, 128)       73856     \n",
      "                                                                 \n",
      " block2_conv2 (Conv2D)       (None, 16, 16, 128)       147584    \n",
      "                                                                 \n",
      " block2_pool (MaxPooling2D)  (None, 8, 8, 128)         0         \n",
      "                                                                 \n",
      " block3_conv1 (Conv2D)       (None, 8, 8, 256)         295168    \n",
      "                                                                 \n",
      " block3_conv2 (Conv2D)       (None, 8, 8, 256)         590080    \n",
      "                                                                 \n",
      " block3_conv3 (Conv2D)       (None, 8, 8, 256)         590080    \n",
      "                                                                 \n",
      " block3_pool (MaxPooling2D)  (None, 4, 4, 256)         0         \n",
      "                                                                 \n",
      " block4_conv1 (Conv2D)       (None, 4, 4, 512)         1180160   \n",
      "                                                                 \n",
      " block4_conv2 (Conv2D)       (None, 4, 4, 512)         2359808   \n",
      "                                                                 \n",
      " block4_conv3 (Conv2D)       (None, 4, 4, 512)         2359808   \n",
      "                                                                 \n",
      " block4_pool (MaxPooling2D)  (None, 2, 2, 512)         0         \n",
      "                                                                 \n",
      " block5_conv1 (Conv2D)       (None, 2, 2, 512)         2359808   \n",
      "                                                                 \n",
      " block5_conv2 (Conv2D)       (None, 2, 2, 512)         2359808   \n",
      "                                                                 \n",
      " block5_conv3 (Conv2D)       (None, 2, 2, 512)         2359808   \n",
      "                                                                 \n",
      " block5_pool (MaxPooling2D)  (None, 1, 1, 512)         0         \n",
      "                                                                 \n",
      " flatten_7 (Flatten)         (None, 512)               0         \n",
      "                                                                 \n",
      " dense_12 (Dense)            (None, 128)               65664     \n",
      "                                                                 \n",
      " dense_13 (Dense)            (None, 10)                1290      \n",
      "                                                                 \n",
      "=================================================================\n",
      "Total params: 14,781,642\n",
      "Trainable params: 14,781,642\n",
      "Non-trainable params: 0\n",
      "_________________________________________________________________\n"
     ]
    }
   ],
   "source": [
    "from tensorflow.keras import layers\n",
    "from keras.models import Model\n",
    "\n",
    "# add new classifier layers\n",
    "#add flatten layer\n",
    "flat1 = layers.Flatten()(vgg_model.layers[-1].output)\n",
    "#add Dense layer\n",
    "class1 = layers.Dense(128, activation='relu')(flat1)\n",
    "#add output layer with softmax activation\n",
    "output = layers.Dense(10, activation='softmax')(class1)\n",
    "# define new model\n",
    "vgg_model = Model(inputs=vgg_model.inputs, outputs=output)\n",
    "# summarize\n",
    "vgg_model.summary()"
   ]
  },
  {
   "cell_type": "code",
   "execution_count": null,
   "metadata": {
    "colab": {
     "base_uri": "https://localhost:8080/"
    },
    "id": "k1TUcjC4Hf4y",
    "outputId": "d4a6737d-ad43-404d-8d57-171219c5901f"
   },
   "outputs": [
    {
     "name": "stdout",
     "output_type": "stream",
     "text": [
      "Epoch 1/25\n",
      "1563/1563 [==============================] - 48s 30ms/step - loss: 0.2170 - accuracy: 0.9454 - val_loss: 0.9077 - val_accuracy: 0.7997\n",
      "Epoch 2/25\n",
      "1563/1563 [==============================] - 47s 30ms/step - loss: 0.1329 - accuracy: 0.9660 - val_loss: 1.2553 - val_accuracy: 0.8134\n",
      "Epoch 3/25\n",
      "1563/1563 [==============================] - 47s 30ms/step - loss: 0.2725 - accuracy: 0.9290 - val_loss: 2.0348 - val_accuracy: 0.7891\n",
      "Epoch 4/25\n",
      "1563/1563 [==============================] - 47s 30ms/step - loss: 0.1346 - accuracy: 0.9642 - val_loss: 1.0975 - val_accuracy: 0.7967\n",
      "Epoch 5/25\n",
      "1563/1563 [==============================] - 47s 30ms/step - loss: 0.2538 - accuracy: 0.9349 - val_loss: 1.0241 - val_accuracy: 0.7887\n",
      "Epoch 6/25\n",
      "1563/1563 [==============================] - 49s 31ms/step - loss: 0.1643 - accuracy: 0.9587 - val_loss: 1.1758 - val_accuracy: 0.8008\n",
      "Epoch 7/25\n",
      "1563/1563 [==============================] - 47s 30ms/step - loss: 0.1468 - accuracy: 0.9667 - val_loss: 1.1862 - val_accuracy: 0.7996\n",
      "Epoch 8/25\n",
      "1563/1563 [==============================] - 47s 30ms/step - loss: 0.1212 - accuracy: 0.9688 - val_loss: 1.0381 - val_accuracy: 0.7698\n",
      "Epoch 9/25\n",
      "1563/1563 [==============================] - 47s 30ms/step - loss: 0.1606 - accuracy: 0.9581 - val_loss: 1.2313 - val_accuracy: 0.6919\n",
      "Epoch 10/25\n",
      "1563/1563 [==============================] - 47s 30ms/step - loss: 0.3131 - accuracy: 0.9173 - val_loss: 0.9646 - val_accuracy: 0.7878\n",
      "Epoch 11/25\n",
      "1563/1563 [==============================] - 47s 30ms/step - loss: 0.1681 - accuracy: 0.9579 - val_loss: 1.0189 - val_accuracy: 0.7980\n",
      "Epoch 12/25\n",
      "1563/1563 [==============================] - 47s 30ms/step - loss: 0.2008 - accuracy: 0.9460 - val_loss: 1.1118 - val_accuracy: 0.8125\n",
      "Epoch 13/25\n",
      "1563/1563 [==============================] - 47s 30ms/step - loss: 0.2587 - accuracy: 0.9349 - val_loss: 1.0062 - val_accuracy: 0.7821\n",
      "Epoch 14/25\n",
      "1563/1563 [==============================] - 49s 31ms/step - loss: 0.1523 - accuracy: 0.9618 - val_loss: 1.3637 - val_accuracy: 0.7953\n",
      "Epoch 15/25\n",
      "1563/1563 [==============================] - 49s 32ms/step - loss: 0.0794 - accuracy: 0.9814 - val_loss: 1.1236 - val_accuracy: 0.8060\n",
      "Epoch 16/25\n",
      "1563/1563 [==============================] - 47s 30ms/step - loss: 0.2169 - accuracy: 0.9434 - val_loss: 1.0851 - val_accuracy: 0.7893\n",
      "Epoch 17/25\n",
      "1563/1563 [==============================] - 47s 30ms/step - loss: 0.2015 - accuracy: 0.9482 - val_loss: 1.3276 - val_accuracy: 0.8064\n",
      "Epoch 18/25\n",
      "1563/1563 [==============================] - 47s 30ms/step - loss: 0.1761 - accuracy: 0.9537 - val_loss: 1.0143 - val_accuracy: 0.8063\n",
      "Epoch 19/25\n",
      "1563/1563 [==============================] - 47s 30ms/step - loss: 0.1770 - accuracy: 0.9543 - val_loss: 1.0025 - val_accuracy: 0.7866\n",
      "Epoch 20/25\n",
      "1563/1563 [==============================] - 47s 30ms/step - loss: 0.2061 - accuracy: 0.9453 - val_loss: 1.1157 - val_accuracy: 0.8061\n",
      "Epoch 21/25\n",
      "1563/1563 [==============================] - 47s 30ms/step - loss: 0.2527 - accuracy: 0.9386 - val_loss: 0.9641 - val_accuracy: 0.7654\n",
      "Epoch 22/25\n",
      "1563/1563 [==============================] - 47s 30ms/step - loss: 1.0830 - accuracy: 0.7292 - val_loss: 1.5823 - val_accuracy: 0.4758\n",
      "Epoch 23/25\n",
      "1563/1563 [==============================] - 49s 31ms/step - loss: 0.6347 - accuracy: 0.8014 - val_loss: 0.9281 - val_accuracy: 0.7869\n",
      "Epoch 24/25\n",
      "1563/1563 [==============================] - 47s 30ms/step - loss: 1.6354 - accuracy: 0.4225 - val_loss: 2.2311 - val_accuracy: 0.1809\n",
      "Epoch 25/25\n",
      "1563/1563 [==============================] - 47s 30ms/step - loss: 2.1050 - accuracy: 0.1854 - val_loss: 1.9695 - val_accuracy: 0.2247\n"
     ]
    }
   ],
   "source": [
    "\n",
    "# compile model\n",
    "vgg_model.compile(loss='categorical_crossentropy', optimizer='adam', metrics=['accuracy'])\n",
    "# fit model\n",
    "history = vgg_model.fit(X_train, y_train, validation_data=(X_test, y_test), epochs=25, verbose=1)"
   ]
  },
  {
   "cell_type": "code",
   "execution_count": null,
   "metadata": {
    "colab": {
     "base_uri": "https://localhost:8080/"
    },
    "id": "rYzPylKTM86U",
    "outputId": "dc025123-5189-446e-b84b-56acce49fe75"
   },
   "outputs": [
    {
     "name": "stdout",
     "output_type": "stream",
     "text": [
      "313/313 [==============================] - 3s 10ms/step - loss: 1.0517 - accuracy: 0.7319\n",
      "0.7318999767303467\n"
     ]
    }
   ],
   "source": [
    "test_loss, test_acc = vgg_model.evaluate(X_test, y_test)\n",
    "print(test_acc)"
   ]
  }
 ],
 "metadata": {
  "accelerator": "GPU",
  "colab": {
   "provenance": []
  },
  "gpuClass": "standard",
  "kernelspec": {
   "display_name": "Python 3 (ipykernel)",
   "language": "python",
   "name": "python3"
  },
  "language_info": {
   "codemirror_mode": {
    "name": "ipython",
    "version": 3
   },
   "file_extension": ".py",
   "mimetype": "text/x-python",
   "name": "python",
   "nbconvert_exporter": "python",
   "pygments_lexer": "ipython3",
   "version": "3.7.4"
  }
 },
 "nbformat": 4,
 "nbformat_minor": 5
}
