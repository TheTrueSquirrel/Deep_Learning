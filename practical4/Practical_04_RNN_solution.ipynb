{
  "cells": [
    {
      "cell_type": "markdown",
      "metadata": {
        "id": "ATWNcSL3WTLe"
      },
      "source": [
        "# Deep Learning\n",
        "## Practical Session 04\n",
        "Görkem Saygili & Busra Ozgode Yigin, Department of Cognitive Science and Artificial Intelligence – Tilburg University"
      ]
    },
    {
      "cell_type": "code",
      "source": [
        "from google.colab import drive\n",
        "drive.mount('/content/drive')"
      ],
      "metadata": {
        "colab": {
          "base_uri": "https://localhost:8080/"
        },
        "id": "n9xt4WZXGyI5",
        "outputId": "b404c823-4e2c-4bf1-c6a3-30b79d34d2a7"
      },
      "execution_count": null,
      "outputs": [
        {
          "output_type": "stream",
          "name": "stdout",
          "text": [
            "Mounted at /content/drive\n"
          ]
        }
      ]
    },
    {
      "cell_type": "markdown",
      "metadata": {
        "id": "6h0IJhk1WbER"
      },
      "source": [
        "# Recurrent Neural Networks\n",
        "\n",
        "In this tutorial, we will focus on the analysis of electroencephalography (EEG) data, which is complex, weak, multivariate, nonlinear, and nonstationary time series, has been recently widely applied in neurocognitive disorder diagnoses and brain-machine interface developments. \n",
        "\n",
        "EEG data is frequently used in psychology and neuroscience, e.g. in seizure or stroke detection, as well as in areas such as emotion prediction and customer's behavior prediction.\n",
        "\n",
        "Epileptic Seizure Recognition, publicly available dataset will be analyzed in this study using a simple recurrent neural network. This data can be found here: https://www.kaggle.com/datasets/harunshimanto/epileptic-seizure-recognition .\n",
        "\n",
        "\n",
        "\n",
        "Online resources that are used while preparing this tutorial:\n",
        "<div class=\"alert alert-block alert-info\">\n",
        "    \n",
        "[1] https://machinelearningmastery.com/understanding-simple-recurrent-neural-networks-in-keras/\n",
        "\n",
        "[2] https://machinelearningmastery.com/how-to-get-started-with-deep-learning-for-time-series-forecasting-7-day-mini-course/.\n",
        "\n",
        "</div>\n",
        "\n",
        "\n",
        "First of all, we need to import libraries:"
      ]
    },
    {
      "cell_type": "code",
      "execution_count": null,
      "metadata": {
        "id": "KqQ0VoO_Vh_V"
      },
      "outputs": [],
      "source": [
        "import keras\n",
        "# Remove some unwanted warnings\n",
        "import logging\n",
        "logging.getLogger('tensorflow').disabled = True \n",
        "import numpy as np\n",
        "import pandas as pd \n",
        "import tensorflow as tf\n",
        "import seaborn as sn\n",
        "import matplotlib.pyplot as plt"
      ]
    },
    {
      "cell_type": "markdown",
      "metadata": {
        "id": "EFt0_yoHcvY6"
      },
      "source": [
        "### Epileptic Seizure Recognition Dataset\n",
        "\n",
        "This dataset is a pre-processed and re-structured/reshaped version of a commonly used dataset featuring epileptic seizure detection.\n",
        "\n",
        "- The original dataset from the reference consists of 5 different folders, each with 100 files, with each file representing a single subject/person. Each file is a recording of brain activity for 23.6 seconds.\n",
        "\n",
        "- The corresponding time-series is sampled into 4097 data points. Each data point is the value of the EEG recording at a different point in time. So we have a total of 500 individuals that each has 4097 data points for 23.6 seconds.\n",
        "\n",
        "- Every 4097 data points were divided and shuffled into 23 chunks, each chunk contains 178 data points for a second, and each data point is the value of the EEG recording at a different point in time.\n",
        "\n",
        "- In total there are 23 x 500 = 11500 pieces of information (row), each containing 178 data points for one second (column), the last column represents the label y {1,2,3,4,5}. All subjects falling in classes 2, 3, 4, and 5 are subjects who did not have epileptic seizure. Only subjects in class 1 have epileptic seizure. \n",
        "\n",
        "The response variable is y in column 179, the Explanatory variables X1, X2, ..., X178"
      ]
    },
    {
      "cell_type": "code",
      "execution_count": null,
      "metadata": {
        "colab": {
          "base_uri": "https://localhost:8080/",
          "height": 253
        },
        "id": "nYLSsOdicrQs",
        "outputId": "64750530-a0fa-43ea-a57b-e4ecd6ab30a3"
      },
      "outputs": [
        {
          "name": "stdout",
          "output_type": "stream",
          "text": [
            "Mounted at /content/drive\n"
          ]
        },
        {
          "data": {
            "text/html": [
              "\n",
              "  <div id=\"df-cf124517-4ea5-4519-bd82-f39a0b141439\">\n",
              "    <div class=\"colab-df-container\">\n",
              "      <div>\n",
              "<style scoped>\n",
              "    .dataframe tbody tr th:only-of-type {\n",
              "        vertical-align: middle;\n",
              "    }\n",
              "\n",
              "    .dataframe tbody tr th {\n",
              "        vertical-align: top;\n",
              "    }\n",
              "\n",
              "    .dataframe thead th {\n",
              "        text-align: right;\n",
              "    }\n",
              "</style>\n",
              "<table border=\"1\" class=\"dataframe\">\n",
              "  <thead>\n",
              "    <tr style=\"text-align: right;\">\n",
              "      <th></th>\n",
              "      <th>Unnamed</th>\n",
              "      <th>X1</th>\n",
              "      <th>X2</th>\n",
              "      <th>X3</th>\n",
              "      <th>X4</th>\n",
              "      <th>X5</th>\n",
              "      <th>X6</th>\n",
              "      <th>X7</th>\n",
              "      <th>X8</th>\n",
              "      <th>X9</th>\n",
              "      <th>...</th>\n",
              "      <th>X170</th>\n",
              "      <th>X171</th>\n",
              "      <th>X172</th>\n",
              "      <th>X173</th>\n",
              "      <th>X174</th>\n",
              "      <th>X175</th>\n",
              "      <th>X176</th>\n",
              "      <th>X177</th>\n",
              "      <th>X178</th>\n",
              "      <th>y</th>\n",
              "    </tr>\n",
              "  </thead>\n",
              "  <tbody>\n",
              "    <tr>\n",
              "      <th>0</th>\n",
              "      <td>X21.V1.791</td>\n",
              "      <td>135</td>\n",
              "      <td>190</td>\n",
              "      <td>229</td>\n",
              "      <td>223</td>\n",
              "      <td>192</td>\n",
              "      <td>125</td>\n",
              "      <td>55</td>\n",
              "      <td>-9</td>\n",
              "      <td>-33</td>\n",
              "      <td>...</td>\n",
              "      <td>-17</td>\n",
              "      <td>-15</td>\n",
              "      <td>-31</td>\n",
              "      <td>-77</td>\n",
              "      <td>-103</td>\n",
              "      <td>-127</td>\n",
              "      <td>-116</td>\n",
              "      <td>-83</td>\n",
              "      <td>-51</td>\n",
              "      <td>4</td>\n",
              "    </tr>\n",
              "    <tr>\n",
              "      <th>1</th>\n",
              "      <td>X15.V1.924</td>\n",
              "      <td>386</td>\n",
              "      <td>382</td>\n",
              "      <td>356</td>\n",
              "      <td>331</td>\n",
              "      <td>320</td>\n",
              "      <td>315</td>\n",
              "      <td>307</td>\n",
              "      <td>272</td>\n",
              "      <td>244</td>\n",
              "      <td>...</td>\n",
              "      <td>164</td>\n",
              "      <td>150</td>\n",
              "      <td>146</td>\n",
              "      <td>152</td>\n",
              "      <td>157</td>\n",
              "      <td>156</td>\n",
              "      <td>154</td>\n",
              "      <td>143</td>\n",
              "      <td>129</td>\n",
              "      <td>1</td>\n",
              "    </tr>\n",
              "    <tr>\n",
              "      <th>2</th>\n",
              "      <td>X8.V1.1</td>\n",
              "      <td>-32</td>\n",
              "      <td>-39</td>\n",
              "      <td>-47</td>\n",
              "      <td>-37</td>\n",
              "      <td>-32</td>\n",
              "      <td>-36</td>\n",
              "      <td>-57</td>\n",
              "      <td>-73</td>\n",
              "      <td>-85</td>\n",
              "      <td>...</td>\n",
              "      <td>57</td>\n",
              "      <td>64</td>\n",
              "      <td>48</td>\n",
              "      <td>19</td>\n",
              "      <td>-12</td>\n",
              "      <td>-30</td>\n",
              "      <td>-35</td>\n",
              "      <td>-35</td>\n",
              "      <td>-36</td>\n",
              "      <td>5</td>\n",
              "    </tr>\n",
              "    <tr>\n",
              "      <th>3</th>\n",
              "      <td>X16.V1.60</td>\n",
              "      <td>-105</td>\n",
              "      <td>-101</td>\n",
              "      <td>-96</td>\n",
              "      <td>-92</td>\n",
              "      <td>-89</td>\n",
              "      <td>-95</td>\n",
              "      <td>-102</td>\n",
              "      <td>-100</td>\n",
              "      <td>-87</td>\n",
              "      <td>...</td>\n",
              "      <td>-82</td>\n",
              "      <td>-81</td>\n",
              "      <td>-80</td>\n",
              "      <td>-77</td>\n",
              "      <td>-85</td>\n",
              "      <td>-77</td>\n",
              "      <td>-72</td>\n",
              "      <td>-69</td>\n",
              "      <td>-65</td>\n",
              "      <td>5</td>\n",
              "    </tr>\n",
              "    <tr>\n",
              "      <th>4</th>\n",
              "      <td>X20.V1.54</td>\n",
              "      <td>-9</td>\n",
              "      <td>-65</td>\n",
              "      <td>-98</td>\n",
              "      <td>-102</td>\n",
              "      <td>-78</td>\n",
              "      <td>-48</td>\n",
              "      <td>-16</td>\n",
              "      <td>0</td>\n",
              "      <td>-21</td>\n",
              "      <td>...</td>\n",
              "      <td>4</td>\n",
              "      <td>2</td>\n",
              "      <td>-12</td>\n",
              "      <td>-32</td>\n",
              "      <td>-41</td>\n",
              "      <td>-65</td>\n",
              "      <td>-83</td>\n",
              "      <td>-89</td>\n",
              "      <td>-73</td>\n",
              "      <td>5</td>\n",
              "    </tr>\n",
              "  </tbody>\n",
              "</table>\n",
              "<p>5 rows × 180 columns</p>\n",
              "</div>\n",
              "      <button class=\"colab-df-convert\" onclick=\"convertToInteractive('df-cf124517-4ea5-4519-bd82-f39a0b141439')\"\n",
              "              title=\"Convert this dataframe to an interactive table.\"\n",
              "              style=\"display:none;\">\n",
              "        \n",
              "  <svg xmlns=\"http://www.w3.org/2000/svg\" height=\"24px\"viewBox=\"0 0 24 24\"\n",
              "       width=\"24px\">\n",
              "    <path d=\"M0 0h24v24H0V0z\" fill=\"none\"/>\n",
              "    <path d=\"M18.56 5.44l.94 2.06.94-2.06 2.06-.94-2.06-.94-.94-2.06-.94 2.06-2.06.94zm-11 1L8.5 8.5l.94-2.06 2.06-.94-2.06-.94L8.5 2.5l-.94 2.06-2.06.94zm10 10l.94 2.06.94-2.06 2.06-.94-2.06-.94-.94-2.06-.94 2.06-2.06.94z\"/><path d=\"M17.41 7.96l-1.37-1.37c-.4-.4-.92-.59-1.43-.59-.52 0-1.04.2-1.43.59L10.3 9.45l-7.72 7.72c-.78.78-.78 2.05 0 2.83L4 21.41c.39.39.9.59 1.41.59.51 0 1.02-.2 1.41-.59l7.78-7.78 2.81-2.81c.8-.78.8-2.07 0-2.86zM5.41 20L4 18.59l7.72-7.72 1.47 1.35L5.41 20z\"/>\n",
              "  </svg>\n",
              "      </button>\n",
              "      \n",
              "  <style>\n",
              "    .colab-df-container {\n",
              "      display:flex;\n",
              "      flex-wrap:wrap;\n",
              "      gap: 12px;\n",
              "    }\n",
              "\n",
              "    .colab-df-convert {\n",
              "      background-color: #E8F0FE;\n",
              "      border: none;\n",
              "      border-radius: 50%;\n",
              "      cursor: pointer;\n",
              "      display: none;\n",
              "      fill: #1967D2;\n",
              "      height: 32px;\n",
              "      padding: 0 0 0 0;\n",
              "      width: 32px;\n",
              "    }\n",
              "\n",
              "    .colab-df-convert:hover {\n",
              "      background-color: #E2EBFA;\n",
              "      box-shadow: 0px 1px 2px rgba(60, 64, 67, 0.3), 0px 1px 3px 1px rgba(60, 64, 67, 0.15);\n",
              "      fill: #174EA6;\n",
              "    }\n",
              "\n",
              "    [theme=dark] .colab-df-convert {\n",
              "      background-color: #3B4455;\n",
              "      fill: #D2E3FC;\n",
              "    }\n",
              "\n",
              "    [theme=dark] .colab-df-convert:hover {\n",
              "      background-color: #434B5C;\n",
              "      box-shadow: 0px 1px 3px 1px rgba(0, 0, 0, 0.15);\n",
              "      filter: drop-shadow(0px 1px 2px rgba(0, 0, 0, 0.3));\n",
              "      fill: #FFFFFF;\n",
              "    }\n",
              "  </style>\n",
              "\n",
              "      <script>\n",
              "        const buttonEl =\n",
              "          document.querySelector('#df-cf124517-4ea5-4519-bd82-f39a0b141439 button.colab-df-convert');\n",
              "        buttonEl.style.display =\n",
              "          google.colab.kernel.accessAllowed ? 'block' : 'none';\n",
              "\n",
              "        async function convertToInteractive(key) {\n",
              "          const element = document.querySelector('#df-cf124517-4ea5-4519-bd82-f39a0b141439');\n",
              "          const dataTable =\n",
              "            await google.colab.kernel.invokeFunction('convertToInteractive',\n",
              "                                                     [key], {});\n",
              "          if (!dataTable) return;\n",
              "\n",
              "          const docLinkHtml = 'Like what you see? Visit the ' +\n",
              "            '<a target=\"_blank\" href=https://colab.research.google.com/notebooks/data_table.ipynb>data table notebook</a>'\n",
              "            + ' to learn more about interactive tables.';\n",
              "          element.innerHTML = '';\n",
              "          dataTable['output_type'] = 'display_data';\n",
              "          await google.colab.output.renderOutput(dataTable, element);\n",
              "          const docLink = document.createElement('div');\n",
              "          docLink.innerHTML = docLinkHtml;\n",
              "          element.appendChild(docLink);\n",
              "        }\n",
              "      </script>\n",
              "    </div>\n",
              "  </div>\n",
              "  "
            ],
            "text/plain": [
              "      Unnamed   X1   X2   X3   X4   X5   X6   X7   X8   X9  ...  X170  X171  \\\n",
              "0  X21.V1.791  135  190  229  223  192  125   55   -9  -33  ...   -17   -15   \n",
              "1  X15.V1.924  386  382  356  331  320  315  307  272  244  ...   164   150   \n",
              "2     X8.V1.1  -32  -39  -47  -37  -32  -36  -57  -73  -85  ...    57    64   \n",
              "3   X16.V1.60 -105 -101  -96  -92  -89  -95 -102 -100  -87  ...   -82   -81   \n",
              "4   X20.V1.54   -9  -65  -98 -102  -78  -48  -16    0  -21  ...     4     2   \n",
              "\n",
              "   X172  X173  X174  X175  X176  X177  X178  y  \n",
              "0   -31   -77  -103  -127  -116   -83   -51  4  \n",
              "1   146   152   157   156   154   143   129  1  \n",
              "2    48    19   -12   -30   -35   -35   -36  5  \n",
              "3   -80   -77   -85   -77   -72   -69   -65  5  \n",
              "4   -12   -32   -41   -65   -83   -89   -73  5  \n",
              "\n",
              "[5 rows x 180 columns]"
            ]
          },
          "execution_count": 2,
          "metadata": {},
          "output_type": "execute_result"
        }
      ],
      "source": [
        "\n",
        "#you need to change the direction of your dataset\n",
        "Data = pd.read_csv('/content/drive/MyDrive/Deep_Learning/Practical04/Epileptic_Seizure_Recognition.csv')\n",
        "Data.head()"
      ]
    },
    {
      "cell_type": "markdown",
      "metadata": {
        "id": "HC-9yT9xhJEm"
      },
      "source": [
        "## Exercise 1 - Preprocessing Data\n",
        "\n",
        "As the aim of this study is detecting epileptic seizure, although there are 5 classes we will apply binary classification, namely class 1 (Epileptic seizure) against the rest. In order to train our model, let's define our independent variables (X) and our dependent variable (y)."
      ]
    },
    {
      "cell_type": "code",
      "execution_count": null,
      "metadata": {
        "colab": {
          "base_uri": "https://localhost:8080/",
          "height": 455
        },
        "id": "OK4RDakUhJk5",
        "outputId": "4adcd031-abc6-409e-ee6e-e93f7b19456c"
      },
      "outputs": [
        {
          "name": "stdout",
          "output_type": "stream",
          "text": [
            "The number of trials for the non-seizure class is: 9200\n",
            "The number of trials for the seizure class is: 2300\n"
          ]
        },
        {
          "name": "stderr",
          "output_type": "stream",
          "text": [
            "/usr/local/lib/python3.7/dist-packages/ipykernel_launcher.py:5: SettingWithCopyWarning: \n",
            "A value is trying to be set on a copy of a slice from a DataFrame\n",
            "\n",
            "See the caveats in the documentation: https://pandas.pydata.org/pandas-docs/stable/user_guide/indexing.html#returning-a-view-versus-a-copy\n",
            "  \"\"\"\n",
            "/usr/local/lib/python3.7/dist-packages/seaborn/_decorators.py:43: FutureWarning: Pass the following variable as a keyword arg: x. From version 0.12, the only valid positional argument will be `data`, and passing other arguments without an explicit keyword will result in an error or misinterpretation.\n",
            "  FutureWarning\n"
          ]
        },
        {
          "data": {
            "image/png": "[encoded data removed]",
            "text/plain": [
              "<Figure size 432x288 with 1 Axes>"
            ]
          },
          "metadata": {
            "needs_background": "light"
          },
          "output_type": "display_data"
        }
      ],
      "source": [
        "cols = Data.columns\n",
        "tgt = Data.y\n",
        "\n",
        "#assign all the calesses as non-seizure except from 1\n",
        "tgt[tgt>1] = 0 \n",
        "\n",
        "#to see the number of samples from each class\n",
        "ax = sn.countplot(tgt,label=\"Count\")\n",
        "\n",
        "non_seizure, seizure = tgt.value_counts()\n",
        "print('The number of trials for the non-seizure class is:', non_seizure)\n",
        "print('The number of trials for the seizure class is:', seizure)"
      ]
    },
    {
      "cell_type": "code",
      "execution_count": null,
      "metadata": {
        "colab": {
          "base_uri": "https://localhost:8080/"
        },
        "id": "UaKDjl6KSjWX",
        "outputId": "c121b05a-5413-438e-a3ab-899ab7216e58"
      },
      "outputs": [
        {
          "name": "stdout",
          "output_type": "stream",
          "text": [
            "(11500, 178)\n",
            "[0 1 0 ... 0 0 0]\n"
          ]
        }
      ],
      "source": [
        "X = Data.iloc[:,1:179].values # the 0th column ('unnamed') will not be used\n",
        "print(X.shape)\n",
        "y = Data.iloc[:,179].values\n",
        "print(y)"
      ]
    },
    {
      "cell_type": "code",
      "execution_count": null,
      "metadata": {
        "colab": {
          "base_uri": "https://localhost:8080/",
          "height": 252
        },
        "id": "fbGekZazTa0v",
        "outputId": "701dd65c-cd34-4bef-ef6f-8f151f4078c2"
      },
      "outputs": [
        {
          "data": {
            "image/png": "[encoded data removed]",
            "text/plain": [
              "<Figure size 432x288 with 9 Axes>"
            ]
          },
          "metadata": {
            "needs_background": "light"
          },
          "output_type": "display_data"
        }
      ],
      "source": [
        "#Let's visualize some samples of EEG signals\n",
        "# plot first few images\n",
        "for i in range(9):\n",
        "\t# define subplot\n",
        "\tax = plt.subplot(331 + i)\n",
        "\t# plot raw pixel data\n",
        "\tplt.plot(X[i,:])\n",
        "\tax.axes.xaxis.set_visible(False)\n",
        "# show the figure\n",
        "plt.show()"
      ]
    },
    {
      "cell_type": "markdown",
      "metadata": {
        "id": "1WEZ9k-cVGzW"
      },
      "source": [
        "Let's first split the data into training and test sets and apply feature-wise standardization:\n",
        "\n",
        "Standardizing a dataset involves rescaling the distribution of values so that the mean of observed values is 0 and the standard deviation is 1.\n"
      ]
    },
    {
      "cell_type": "code",
      "execution_count": null,
      "metadata": {
        "colab": {
          "base_uri": "https://localhost:8080/"
        },
        "id": "7MfHWVi_UbjA",
        "outputId": "7d38c886-8acd-4a83-d7ae-0a01fa601282"
      },
      "outputs": [
        {
          "name": "stdout",
          "output_type": "stream",
          "text": [
            "(8050, 178)\n",
            "(3450, 178)\n",
            "(8050,)\n",
            "(3450,)\n"
          ]
        }
      ],
      "source": [
        "from sklearn.model_selection import train_test_split\n",
        "\n",
        "### PUT YOUR CODE HERE ###\n",
        "#Splitting your data into train and test set with test_size of 0.3\n",
        "X_train, X_test, y_train, y_test = train_test_split(X, y, test_size= 0.3, random_state=42)\n",
        "\n",
        "print(X_train.shape)\n",
        "print(X_test.shape)\n",
        "print(y_train.shape)\n",
        "print(y_test.shape)\n",
        "\n",
        "# Standardization of training and testing input data\n",
        "# you can also use standartscaler instead of calculate meand and std values manually\n",
        "# Computing mean and standard deviation of the training data\n",
        "mean = X_train.mean(axis=0)\n",
        "std = X_train.std(axis=0)\n",
        "\n",
        "# Standardizing training and test data\n",
        "X_train = (X_train - mean) / std\n",
        "X_test = (X_test - mean) / std\n",
        "### END ###\n"
      ]
    },
    {
      "cell_type": "markdown",
      "metadata": {
        "id": "W0de4vSZG4QG"
      },
      "source": [
        "Often there is confusion about how to convert your sequence data that may be a 1D or 2D matrix of numbers to the required 3D format of the RNN input layer.\n",
        "\n",
        "The 3D of the RNN input layer are:\n",
        "\n",
        "- **Samples:** One sequence is one sample. A batch is comprised of one or more samples.\n",
        "- **Time Steps:** One time step is one point of observation in the sample.\n",
        "- **Features:** One feature is one observation at a time step. For example, each channel of an EEG recording corresponds to a feature.\n",
        "\n",
        "This means that the input layer expects a 3D array of data (samples, time_steps, features) when fitting the model and when making predictions, even if specific dimensions of the array contain a single value, e.g. one sample or one feature.\n",
        "\n",
        " * Reshape data from **[samples, timesteps]** into **[samples, timesteps, features]**:\n"
      ]
    },
    {
      "cell_type": "code",
      "execution_count": null,
      "metadata": {
        "colab": {
          "base_uri": "https://localhost:8080/"
        },
        "id": "-ssMC0Wkkse4",
        "outputId": "16c85481-26c0-4157-ac1d-48701d501047"
      },
      "outputs": [
        {
          "name": "stdout",
          "output_type": "stream",
          "text": [
            "Train set shape (8050, 178, 1)\n",
            "Test set shape (3450, 178, 1)\n"
          ]
        }
      ],
      "source": [
        "### PUT YOUR CODE HERE ###\n",
        "X_train_series = np.reshape(X_train, (X_train.shape[0], X_train.shape[1], 1))\n",
        "X_test_series = np.reshape(X_test, (X_test.shape[0], X_test.shape[1], 1))\n",
        "### END ###\n",
        "print('Train set shape', X_train_series.shape)\n",
        "print('Test set shape', X_test_series.shape)"
      ]
    },
    {
      "cell_type": "markdown",
      "metadata": {
        "id": "ayEndxiXvUxU"
      },
      "source": [
        "## Exercise 2 - Building simple RNN, GRU and LSTM models\n",
        "\n",
        "Long Short-Term Memory Networks (LSTMs) are a special type of Recurrent neural networks (RNN). LSTMs can be used to learn features from EEG signals and then a dense layer is used for classification. RNNs and especially LSTMs are among the most popular deep neural network architectures for modeling the temporal characteristics of the brain activities.\n",
        "\n",
        "Your model should include two RNN layers of 64 units. After each RNN layer, we will put a dropout layer of 0.2. We will use `tanh` activation function in RNN layers, and `sigmoid` for output layer. \n",
        "\n",
        "Fill in the `build_model` function. Your model should use 3D array of EEG data. You should add a recurrent layer of 64 units, which type (e.g. `SimpleRNN`, `GRU`,`LSTM`) is specified through the parameter `rnn_layer_type`. This will allow us to easily compare the merits of the different types of layers.\n",
        "\n",
        "You can refer to https://keras.io/layers/recurrent for more information about recurrent layers in Keras."
      ]
    },
    {
      "cell_type": "code",
      "execution_count": null,
      "metadata": {
        "id": "Ll3-VJAAvTwq"
      },
      "outputs": [],
      "source": [
        "from keras.models import Sequential\n",
        "from keras.optimizers import SGD\n",
        "from keras.layers import Dense, Dropout\n",
        "from keras.layers import SimpleRNN, LSTM, GRU\n",
        "keras.backend.clear_session()\n",
        "\n",
        "def build_model(recurrent_layer_type):\n",
        "    ### PUT YOUR CODE HERE ###\n",
        "    model = Sequential()\n",
        "    model.add(recurrent_layer_type(64, input_shape = (X_train_series.shape[1], X_train_series.shape[2]), activation=\"tanh\", return_sequences=True))\n",
        "    model.add(Dropout(0.2))\n",
        "    model.add(recurrent_layer_type(64, activation = \"tanh\"))\n",
        "    model.add(Dropout(0.2))\n",
        "    model.add(Dense(1, activation = 'sigmoid'))\n",
        "\n",
        "    model.compile(loss = 'binary_crossentropy', optimizer = \"adam\", metrics = ['accuracy'])\n",
        "    return model\n",
        "    ### END ###\n"
      ]
    },
    {
      "cell_type": "markdown",
      "metadata": {
        "id": "AHM1q4IzzU4K"
      },
      "source": [
        "Fit each model in a loop and monitor the accuracy loss graphs during training."
      ]
    },
    {
      "cell_type": "code",
      "execution_count": null,
      "metadata": {
        "colab": {
          "base_uri": "https://localhost:8080/"
        },
        "id": "a6A9WRcGxdH1",
        "outputId": "a83488fb-b3d6-4b77-e204-5e3014ccf180"
      },
      "outputs": [
        {
          "name": "stdout",
          "output_type": "stream",
          "text": [
            "Model: \"sequential\"\n",
            "_________________________________________________________________\n",
            " Layer (type)                Output Shape              Param #   \n",
            "=================================================================\n",
            " simple_rnn (SimpleRNN)      (None, 178, 64)           4224      \n",
            "                                                                 \n",
            " dropout (Dropout)           (None, 178, 64)           0         \n",
            "                                                                 \n",
            " simple_rnn_1 (SimpleRNN)    (None, 64)                8256      \n",
            "                                                                 \n",
            " dropout_1 (Dropout)         (None, 64)                0         \n",
            "                                                                 \n",
            " dense (Dense)               (None, 1)                 65        \n",
            "                                                                 \n",
            "=================================================================\n",
            "Total params: 12,545\n",
            "Trainable params: 12,545\n",
            "Non-trainable params: 0\n",
            "_________________________________________________________________\n",
            "Epoch 1/10\n",
            "252/252 - 77s - loss: 0.2926 - accuracy: 0.8775 - val_loss: 0.1919 - val_accuracy: 0.9478 - 77s/epoch - 305ms/step\n",
            "Epoch 2/10\n",
            "252/252 - 68s - loss: 0.1825 - accuracy: 0.9394 - val_loss: 0.1537 - val_accuracy: 0.9533 - 68s/epoch - 269ms/step\n",
            "Epoch 3/10\n",
            "252/252 - 69s - loss: 0.2593 - accuracy: 0.9039 - val_loss: 0.4732 - val_accuracy: 0.9000 - 69s/epoch - 275ms/step\n",
            "Epoch 4/10\n",
            "252/252 - 66s - loss: 0.2770 - accuracy: 0.9020 - val_loss: 0.2516 - val_accuracy: 0.9191 - 66s/epoch - 264ms/step\n",
            "Epoch 5/10\n",
            "252/252 - 68s - loss: 0.2932 - accuracy: 0.9017 - val_loss: 0.5723 - val_accuracy: 0.7484 - 68s/epoch - 269ms/step\n",
            "Epoch 6/10\n",
            "252/252 - 66s - loss: 0.2545 - accuracy: 0.9103 - val_loss: 0.1788 - val_accuracy: 0.9351 - 66s/epoch - 263ms/step\n",
            "Epoch 7/10\n",
            "252/252 - 66s - loss: 0.2302 - accuracy: 0.9194 - val_loss: 0.2206 - val_accuracy: 0.9267 - 66s/epoch - 262ms/step\n",
            "Epoch 8/10\n",
            "252/252 - 69s - loss: 0.1865 - accuracy: 0.9381 - val_loss: 0.1766 - val_accuracy: 0.9478 - 69s/epoch - 273ms/step\n",
            "Epoch 9/10\n",
            "252/252 - 66s - loss: 0.1828 - accuracy: 0.9435 - val_loss: 0.2615 - val_accuracy: 0.8901 - 66s/epoch - 263ms/step\n",
            "Epoch 10/10\n",
            "252/252 - 68s - loss: 0.4186 - accuracy: 0.8060 - val_loss: 0.5259 - val_accuracy: 0.7270 - 68s/epoch - 269ms/step\n",
            "Model: \"sequential_1\"\n",
            "_________________________________________________________________\n",
            " Layer (type)                Output Shape              Param #   \n",
            "=================================================================\n",
            " lstm (LSTM)                 (None, 178, 64)           16896     \n",
            "                                                                 \n",
            " dropout_2 (Dropout)         (None, 178, 64)           0         \n",
            "                                                                 \n",
            " lstm_1 (LSTM)               (None, 64)                33024     \n",
            "                                                                 \n",
            " dropout_3 (Dropout)         (None, 64)                0         \n",
            "                                                                 \n",
            " dense_1 (Dense)             (None, 1)                 65        \n",
            "                                                                 \n",
            "=================================================================\n",
            "Total params: 49,985\n",
            "Trainable params: 49,985\n",
            "Non-trainable params: 0\n",
            "_________________________________________________________________\n",
            "Epoch 1/10\n",
            "252/252 - 10s - loss: 0.2159 - accuracy: 0.9309 - val_loss: 0.2342 - val_accuracy: 0.9232 - 10s/epoch - 40ms/step\n",
            "Epoch 2/10\n",
            "252/252 - 4s - loss: 0.1285 - accuracy: 0.9578 - val_loss: 0.0932 - val_accuracy: 0.9687 - 4s/epoch - 14ms/step\n",
            "Epoch 3/10\n",
            "252/252 - 4s - loss: 0.1242 - accuracy: 0.9570 - val_loss: 0.0981 - val_accuracy: 0.9699 - 4s/epoch - 15ms/step\n",
            "Epoch 4/10\n",
            "252/252 - 4s - loss: 0.1049 - accuracy: 0.9655 - val_loss: 0.0965 - val_accuracy: 0.9681 - 4s/epoch - 15ms/step\n",
            "Epoch 5/10\n",
            "252/252 - 4s - loss: 0.0977 - accuracy: 0.9658 - val_loss: 0.0827 - val_accuracy: 0.9725 - 4s/epoch - 15ms/step\n",
            "Epoch 6/10\n",
            "252/252 - 4s - loss: 0.0798 - accuracy: 0.9728 - val_loss: 0.0697 - val_accuracy: 0.9765 - 4s/epoch - 15ms/step\n",
            "Epoch 7/10\n",
            "252/252 - 4s - loss: 0.0791 - accuracy: 0.9718 - val_loss: 0.1154 - val_accuracy: 0.9574 - 4s/epoch - 15ms/step\n",
            "Epoch 8/10\n",
            "252/252 - 4s - loss: 0.0799 - accuracy: 0.9724 - val_loss: 0.0669 - val_accuracy: 0.9771 - 4s/epoch - 14ms/step\n",
            "Epoch 9/10\n",
            "252/252 - 4s - loss: 0.0992 - accuracy: 0.9653 - val_loss: 0.1360 - val_accuracy: 0.9417 - 4s/epoch - 14ms/step\n",
            "Epoch 10/10\n",
            "252/252 - 4s - loss: 0.1026 - accuracy: 0.9625 - val_loss: 0.0885 - val_accuracy: 0.9742 - 4s/epoch - 14ms/step\n",
            "Model: \"sequential_2\"\n",
            "_________________________________________________________________\n",
            " Layer (type)                Output Shape              Param #   \n",
            "=================================================================\n",
            " gru (GRU)                   (None, 178, 64)           12864     \n",
            "                                                                 \n",
            " dropout_4 (Dropout)         (None, 178, 64)           0         \n",
            "                                                                 \n",
            " gru_1 (GRU)                 (None, 64)                24960     \n",
            "                                                                 \n",
            " dropout_5 (Dropout)         (None, 64)                0         \n",
            "                                                                 \n",
            " dense_2 (Dense)             (None, 1)                 65        \n",
            "                                                                 \n",
            "=================================================================\n",
            "Total params: 37,889\n",
            "Trainable params: 37,889\n",
            "Non-trainable params: 0\n",
            "_________________________________________________________________\n",
            "Epoch 1/10\n",
            "252/252 - 7s - loss: 0.2096 - accuracy: 0.9199 - val_loss: 0.1245 - val_accuracy: 0.9499 - 7s/epoch - 27ms/step\n",
            "Epoch 2/10\n",
            "252/252 - 3s - loss: 0.1183 - accuracy: 0.9580 - val_loss: 0.1079 - val_accuracy: 0.9536 - 3s/epoch - 14ms/step\n",
            "Epoch 3/10\n",
            "252/252 - 3s - loss: 0.1220 - accuracy: 0.9545 - val_loss: 0.1435 - val_accuracy: 0.9513 - 3s/epoch - 14ms/step\n",
            "Epoch 4/10\n",
            "252/252 - 3s - loss: 0.1060 - accuracy: 0.9609 - val_loss: 0.0869 - val_accuracy: 0.9661 - 3s/epoch - 14ms/step\n",
            "Epoch 5/10\n",
            "252/252 - 3s - loss: 0.0877 - accuracy: 0.9686 - val_loss: 0.0747 - val_accuracy: 0.9751 - 3s/epoch - 14ms/step\n",
            "Epoch 6/10\n",
            "252/252 - 3s - loss: 0.0804 - accuracy: 0.9708 - val_loss: 0.0722 - val_accuracy: 0.9751 - 3s/epoch - 14ms/step\n",
            "Epoch 7/10\n",
            "252/252 - 3s - loss: 0.0787 - accuracy: 0.9728 - val_loss: 0.0775 - val_accuracy: 0.9722 - 3s/epoch - 14ms/step\n",
            "Epoch 8/10\n",
            "252/252 - 3s - loss: 0.0763 - accuracy: 0.9722 - val_loss: 0.1070 - val_accuracy: 0.9606 - 3s/epoch - 14ms/step\n",
            "Epoch 9/10\n",
            "252/252 - 3s - loss: 0.0768 - accuracy: 0.9725 - val_loss: 0.0669 - val_accuracy: 0.9745 - 3s/epoch - 14ms/step\n",
            "Epoch 10/10\n",
            "252/252 - 3s - loss: 0.0640 - accuracy: 0.9765 - val_loss: 0.0657 - val_accuracy: 0.9780 - 3s/epoch - 14ms/step\n"
          ]
        }
      ],
      "source": [
        "from keras.layers import SimpleRNN, LSTM, GRU\n",
        "\n",
        "acc = []\n",
        "val_acc = []\n",
        "loss = []\n",
        "val_loss = []\n",
        "\n",
        "for recurrent_layer in [SimpleRNN, LSTM, GRU]:\n",
        "    model = build_model(recurrent_layer)\n",
        "    model.summary()\n",
        "    history = model.fit(X_train_series, y_train, \n",
        "                        validation_data = (X_test_series, y_test), \n",
        "                        epochs = 10,\n",
        "                        verbose=2)\n",
        "    acc.append(history.history['accuracy'])\n",
        "    val_acc.append(history.history['val_accuracy'])\n",
        "    loss.append(history.history['loss'])\n",
        "    val_loss.append(history.history['val_loss'])\n",
        "\n",
        "    if (recurrent_layer == SimpleRNN):\n",
        "      model_simpleRNN = model\n",
        "    if (recurrent_layer == LSTM):\n",
        "      model_LSTM = model\n",
        "    if (recurrent_layer == GRU):\n",
        "      model_GRU = model"
      ]
    },
    {
      "cell_type": "code",
      "execution_count": null,
      "metadata": {
        "colab": {
          "base_uri": "https://localhost:8080/",
          "height": 573
        },
        "id": "XxgrfeWBxq2c",
        "outputId": "6bf8f603-9c1b-4d35-b93f-3661cc18d31e"
      },
      "outputs": [
        {
          "data": {
            "image/png": "[encoded data removed]",
            "text/plain": [
              "<Figure size 432x288 with 1 Axes>"
            ]
          },
          "metadata": {
            "needs_background": "light"
          },
          "output_type": "display_data"
        },
        {
          "data": {
            "image/png": "[encoded data removed]",
            "text/plain": [
              "<Figure size 432x288 with 1 Axes>"
            ]
          },
          "metadata": {
            "needs_background": "light"
          },
          "output_type": "display_data"
        }
      ],
      "source": [
        "import matplotlib.pyplot as plt\n",
        "\n",
        "def plot_history(data_list, label_list, title, ylabel):\n",
        "    ''' Plots a list of vectors.\n",
        "\n",
        "    Parameters:\n",
        "        data_list  : list of vectors containing the values to plot\n",
        "        label_list : list of labels describing the data, one per vector\n",
        "        title      : title of the plot\n",
        "        ylabel     : label for the y axis\n",
        "    '''\n",
        "    epochs = range(1, len(data_list[0]) + 1)\n",
        "\n",
        "    for data, label in zip(data_list, label_list):\n",
        "        plt.plot(epochs, data, label=label)\n",
        "    plt.title(title)\n",
        "    plt.xlabel('Epochs')\n",
        "    plt.ylabel(ylabel)\n",
        "    plt.legend()\n",
        "\n",
        "    plt.show()\n",
        "\n",
        "labels = ['SimpleRNN', 'LSTM', 'GRU']\n",
        "plot_history(data_list=val_loss,\n",
        "             label_list=labels,\n",
        "             title='Comparison of different recurrent layer types',\n",
        "             ylabel='Loss')\n",
        "plot_history(data_list=val_acc,\n",
        "             label_list=labels,\n",
        "             title='Comparison of different recurrent layer types',\n",
        "             ylabel='Validation accuracy')"
      ]
    },
    {
      "cell_type": "code",
      "execution_count": null,
      "metadata": {
        "colab": {
          "base_uri": "https://localhost:8080/"
        },
        "id": "OGXqnAtmyv4N",
        "outputId": "44beae8f-9a2a-488d-89e9-fd866b5a37e1"
      },
      "outputs": [
        {
          "name": "stdout",
          "output_type": "stream",
          "text": [
            "108/108 [==============================] - 3s 28ms/step - loss: 0.5259 - accuracy: 0.7270\n",
            "Accuracy for simpleRNN model: 0.7269565463066101\n"
          ]
        }
      ],
      "source": [
        "score, acc = model_simpleRNN.evaluate(X_test_series, y_test)\n",
        "print('Accuracy for simpleRNN model:',acc)\n",
        "# predict probabilities for test set\n",
        "yhat_probs_simpleRNN = model_simpleRNN.predict(X_test_series, verbose=0)\n",
        "# predict classes for test set\n",
        "yhat_classes_simpleRNN = np.where(yhat_probs_simpleRNN>0.5, 1, 0)"
      ]
    },
    {
      "cell_type": "markdown",
      "metadata": {
        "id": "yRAo3opozrLj"
      },
      "source": [
        "The most common metric used to evaluate the performance of a classification predictive model is classification accuracy. When the class distribution is slightly skewed, accuracy can still be a useful metric. When the skew in the class distributions is severe, accuracy becomes an unreliable measure of model performance. Achieving over 90 % classification accuracy classification accuracy without even learning is possible with highly-unbalanced datasets.\n",
        "\n",
        "This means that intuitions for classification accuracy developed on unbalanced class distributions could mislead us to think that a model has good or even excellent performance when it, in fact, does not.\n",
        "\n",
        "Therefore, it is common to use alternative metrics to summarize model performance for imbalanced classification problems, since the accuracy results can be misleading. In cases of imbalance data we are provided with many metrics like Recall, Precision, F1 Score, AUC and much more."
      ]
    },
    {
      "cell_type": "code",
      "execution_count": null,
      "metadata": {
        "colab": {
          "base_uri": "https://localhost:8080/"
        },
        "id": "B3OR5-OIzznu",
        "outputId": "6666aaf8-8238-4834-8ba8-cc9804ceba2b"
      },
      "outputs": [
        {
          "name": "stdout",
          "output_type": "stream",
          "text": [
            "Accuracy: 0.726957\n",
            "Precision: 0.350123\n",
            "Recall: 0.408309\n",
            "F1 score: 0.376984\n",
            "ROC AUC: 0.690911\n",
            "[[2223  529]\n",
            " [ 413  285]]\n"
          ]
        }
      ],
      "source": [
        "from sklearn.metrics import accuracy_score\n",
        "from sklearn.metrics import precision_score\n",
        "from sklearn.metrics import recall_score\n",
        "from sklearn.metrics import f1_score\n",
        "from sklearn.metrics import roc_auc_score\n",
        "from sklearn.metrics import confusion_matrix\n",
        "\n",
        "#In order to wrap the all results in a dataframe we will use a result list.\n",
        "col_names = ['Model_name','Accuracy','Precision', 'Recall', 'F1 score','AUC']\n",
        "all_results = []\n",
        "\n",
        "# accuracy: (tp + tn) / (p + n)\n",
        "accuracy = accuracy_score(y_test, yhat_classes_simpleRNN)\n",
        "print('Accuracy: %f' % accuracy)\n",
        "# precision tp / (tp + fp)\n",
        "precision = precision_score(y_test, yhat_classes_simpleRNN)\n",
        "print('Precision: %f' % precision)\n",
        "# recall: tp / (tp + fn)\n",
        "recall = recall_score(y_test, yhat_classes_simpleRNN)\n",
        "print('Recall: %f' % recall)\n",
        "# f1: 2 tp / (2 tp + fp + fn)\n",
        "f1 = f1_score(y_test, yhat_classes_simpleRNN)\n",
        "print('F1 score: %f' % f1)\n",
        "\n",
        "# ROC AUC\n",
        "auc = roc_auc_score(y_test, yhat_probs_simpleRNN)\n",
        "print('ROC AUC: %f' % auc)\n",
        "\n",
        "# confusion matrix\n",
        "matrix = confusion_matrix(y_test, yhat_classes_simpleRNN)\n",
        "print(matrix)\n",
        "\n",
        "all_results.append(['SimpleRNN',accuracy, precision, recall, f1, auc])"
      ]
    },
    {
      "cell_type": "markdown",
      "metadata": {
        "id": "rqBZCKrs0w_q"
      },
      "source": [
        "One great tool for evaluating the behavior and undrestanding the effectiveness of a binary or categorical classifier is the **Confusion Matrix**. If you want a more aesthetically pleasing visualization of the confusion matrix, we can use a heatmap from the **Seaborn** library:"
      ]
    },
    {
      "cell_type": "code",
      "execution_count": null,
      "metadata": {
        "colab": {
          "base_uri": "https://localhost:8080/",
          "height": 300
        },
        "id": "fXMfFTyY1Fpb",
        "outputId": "e6ebee40-4186-476e-9eb9-3e09cbc41542"
      },
      "outputs": [
        {
          "data": {
            "text/plain": [
              "[Text(0, 0.5, 'non-seizure'), Text(0, 1.5, 'seizure')]"
            ]
          },
          "execution_count": 15,
          "metadata": {},
          "output_type": "execute_result"
        },
        {
          "data": {
            "image/png": "[encoded data removed]",
            "text/plain": [
              "<Figure size 432x288 with 2 Axes>"
            ]
          },
          "metadata": {
            "needs_background": "light"
          },
          "output_type": "display_data"
        }
      ],
      "source": [
        "import seaborn as sns\n",
        "p = sns.heatmap(confusion_matrix(y_test, yhat_classes_simpleRNN), annot=True, fmt='g')\n",
        "p.set_xlabel(\"Predicted label\", fontsize = 20)\n",
        "p.set_ylabel(\"True Label\", fontsize = 20)\n",
        "p.xaxis.set_ticklabels(['non-seizure', 'seizure'], ha=\"center\", va=\"center\")\n",
        "p.yaxis.set_ticklabels(['non-seizure', 'seizure'], rotation=0, va=\"center\")"
      ]
    },
    {
      "cell_type": "markdown",
      "metadata": {
        "id": "XOBci4Hu04or"
      },
      "source": [
        "### Plot the ROC Curve\n",
        "An ROC curve (receiver operating characteristic curve) is a graph showing the performance of a classification model at all classification thresholds. This curve plots two parameters:\n",
        "\n",
        "- True Positive Rate\n",
        "- False Positive Rate\n",
        "\n",
        "True Positive Rate (TPR) is a synonym for recall and is therefore defined as follows:\n",
        "<center><span style=\"font-size: 150%\">$ TPR = \\frac{TP}{TP+FN} $</span></center>\n",
        "\n",
        "False Positive Rate (FPR) is defined as follows:\n",
        "\n",
        "<center><span style=\"font-size: 150%\">$ FPR = \\frac{FP}{FP+TN} $</span></center>\n",
        "\n",
        "The ROC curve shows the trade-off between sensitivity (or TPR) and specificity (1 – FPR). Classifiers that give curves closer to the top-left corner indicate a better performance. As a baseline, a random classifier is expected to give points lying along the diagonal (FPR = TPR). The closer the curve comes to the 45-degree diagonal of the ROC space, the less accurate the test.\n",
        "\n",
        "Note that the ROC does not depend on the class distribution. This makes it useful for evaluating classifiers predicting rare events such as diseases or disasters (for imbalance classification). In contrast, evaluating performance using accuracy (TP + TN)/(TP + TN + FN + FP) would favor classifiers that always predict a negative outcome for rare events.\n",
        "\n",
        "The following we plot the ROC curve to evaluate the performance of our model:\n",
        "\n"
      ]
    },
    {
      "cell_type": "code",
      "execution_count": null,
      "metadata": {
        "colab": {
          "base_uri": "https://localhost:8080/",
          "height": 295
        },
        "id": "LBGNSVZ209Fd",
        "outputId": "ba323a3a-7eec-4672-e22b-db34e631887a"
      },
      "outputs": [
        {
          "data": {
            "image/png": "[encoded data removed]",
            "text/plain": [
              "<Figure size 432x288 with 1 Axes>"
            ]
          },
          "metadata": {
            "needs_background": "light"
          },
          "output_type": "display_data"
        }
      ],
      "source": [
        "from sklearn.metrics import roc_curve, auc\n",
        "fpr, tpr, threshold = roc_curve(y_test, yhat_probs_simpleRNN)\n",
        "auc_val = auc(fpr, tpr)\n",
        "plt.figure()\n",
        "plt.plot([0, 1], [0, 1], 'k--')\n",
        "plt.plot(fpr, tpr, label='ROC (area = {:.3f})'.format(auc_val))\n",
        "plt.xlabel('False positive rate')\n",
        "plt.ylabel('True positive rate')\n",
        "plt.title('ROC curve')\n",
        "plt.legend(loc='best')\n",
        "plt.show()"
      ]
    },
    {
      "cell_type": "markdown",
      "metadata": {
        "id": "yUHbVLmT1aur"
      },
      "source": [
        "### Results for LSTM Model"
      ]
    },
    {
      "cell_type": "code",
      "execution_count": null,
      "metadata": {
        "colab": {
          "base_uri": "https://localhost:8080/",
          "height": 717
        },
        "id": "cTC7SnNS0bpk",
        "outputId": "074030c4-4f85-4c93-bbd1-f9e4eaf80cc4"
      },
      "outputs": [
        {
          "name": "stdout",
          "output_type": "stream",
          "text": [
            "108/108 [==============================] - 1s 8ms/step - loss: 0.0885 - accuracy: 0.9742\n",
            "Accuracy for LSTM model: 0.9742028713226318\n",
            "Accuracy: 0.974203\n",
            "Precision: 0.953800\n",
            "Recall: 0.916905\n",
            "F1 score: 0.934989\n",
            "ROC AUC: 0.993758\n",
            "[[2721   31]\n",
            " [  58  640]]\n"
          ]
        },
        {
          "data": {
            "image/png": "[encoded data removed]",
            "text/plain": [
              "<Figure size 432x288 with 2 Axes>"
            ]
          },
          "metadata": {
            "needs_background": "light"
          },
          "output_type": "display_data"
        },
        {
          "data": {
            "image/png": "[encoded data removed]",
            "text/plain": [
              "<Figure size 432x288 with 1 Axes>"
            ]
          },
          "metadata": {
            "needs_background": "light"
          },
          "output_type": "display_data"
        }
      ],
      "source": [
        "score, acc = model_LSTM.evaluate(X_test_series, y_test)\n",
        "print('Accuracy for LSTM model:',acc)\n",
        "# predict probabilities for test set\n",
        "yhat_probs_LSTM = model_LSTM.predict(X_test_series, verbose=0)\n",
        "# predict classes for test set\n",
        "yhat_classes_LSTM = np.where(yhat_probs_LSTM>0.5, 1, 0)\n",
        "\n",
        "from sklearn.metrics import accuracy_score\n",
        "from sklearn.metrics import precision_score\n",
        "from sklearn.metrics import recall_score\n",
        "from sklearn.metrics import f1_score\n",
        "from sklearn.metrics import cohen_kappa_score\n",
        "from sklearn.metrics import roc_auc_score\n",
        "from sklearn.metrics import confusion_matrix\n",
        "\n",
        "# accuracy: (tp + tn) / (p + n)\n",
        "accuracy = accuracy_score(y_test, yhat_classes_LSTM)\n",
        "print('Accuracy: %f' % accuracy)\n",
        "# precision tp / (tp + fp)\n",
        "precision = precision_score(y_test, yhat_classes_LSTM)\n",
        "print('Precision: %f' % precision)\n",
        "# recall: tp / (tp + fn)\n",
        "recall = recall_score(y_test, yhat_classes_LSTM)\n",
        "print('Recall: %f' % recall)\n",
        "# f1: 2 tp / (2 tp + fp + fn)\n",
        "f1 = f1_score(y_test, yhat_classes_LSTM)\n",
        "print('F1 score: %f' % f1)\n",
        "\n",
        "# ROC AUC\n",
        "auc = roc_auc_score(y_test, yhat_probs_LSTM)\n",
        "print('ROC AUC: %f' % auc)\n",
        "\n",
        "# confusion matrix\n",
        "matrix = confusion_matrix(y_test, yhat_classes_LSTM)\n",
        "print(matrix)\n",
        "\n",
        "all_results.append(['LSTM',accuracy, precision, recall, f1, auc])\n",
        "\n",
        "#plotting confusion matrix\n",
        "import seaborn as sns\n",
        "p = sns.heatmap(confusion_matrix(y_test, yhat_classes_LSTM), annot=True, fmt='g')\n",
        "p.set_xlabel(\"Predicted label\", fontsize = 20)\n",
        "p.set_ylabel(\"True Label\", fontsize = 20)\n",
        "p.xaxis.set_ticklabels(['non-seizure', 'seizure'], ha=\"center\", va=\"center\")\n",
        "p.yaxis.set_ticklabels(['non-seizure', 'seizure'], rotation=0, va=\"center\")\n",
        "\n",
        "#Plotting ROC curve\n",
        "from sklearn.metrics import roc_curve, auc\n",
        "fpr, tpr, threshold = roc_curve(y_test, yhat_probs_LSTM)\n",
        "auc_val = auc(fpr, tpr)\n",
        "plt.figure()\n",
        "plt.plot([0, 1], [0, 1], 'k--')\n",
        "plt.plot(fpr, tpr, label='ROC (area = {:.3f})'.format(auc_val))\n",
        "plt.xlabel('False positive rate')\n",
        "plt.ylabel('True positive rate')\n",
        "plt.title('ROC curve')\n",
        "plt.legend(loc='best')\n",
        "plt.show()"
      ]
    },
    {
      "cell_type": "markdown",
      "metadata": {
        "id": "-8IpDeBG1fvn"
      },
      "source": [
        "### Results for GRU Model"
      ]
    },
    {
      "cell_type": "code",
      "execution_count": null,
      "metadata": {
        "colab": {
          "base_uri": "https://localhost:8080/",
          "height": 717
        },
        "id": "czhs5XO61eni",
        "outputId": "23728883-8747-4508-d753-38797c331dee"
      },
      "outputs": [
        {
          "name": "stdout",
          "output_type": "stream",
          "text": [
            "108/108 [==============================] - 1s 7ms/step - loss: 0.0657 - accuracy: 0.9780\n",
            "Accuracy for GRU model: 0.9779710173606873\n",
            "Accuracy: 0.977971\n",
            "Precision: 0.949422\n",
            "Recall: 0.941261\n",
            "F1 score: 0.945324\n",
            "ROC AUC: 0.995739\n",
            "[[2717   35]\n",
            " [  41  657]]\n"
          ]
        },
        {
          "data": {
            "image/png": "[encoded data removed]",
            "text/plain": [
              "<Figure size 432x288 with 2 Axes>"
            ]
          },
          "metadata": {
            "needs_background": "light"
          },
          "output_type": "display_data"
        },
        {
          "data": {
            "image/png": "[encoded data removed]",
            "text/plain": [
              "<Figure size 432x288 with 1 Axes>"
            ]
          },
          "metadata": {
            "needs_background": "light"
          },
          "output_type": "display_data"
        }
      ],
      "source": [
        "score, acc = model_GRU.evaluate(X_test_series, y_test)\n",
        "print('Accuracy for GRU model:',acc)\n",
        "# predict probabilities for test set\n",
        "yhat_probs_GRU = model_GRU.predict(X_test_series, verbose=0)\n",
        "# predict classes for test set\n",
        "yhat_classes_GRU = np.where(yhat_probs_GRU>0.5, 1, 0)\n",
        "\n",
        "from sklearn.metrics import accuracy_score\n",
        "from sklearn.metrics import precision_score\n",
        "from sklearn.metrics import recall_score\n",
        "from sklearn.metrics import f1_score\n",
        "from sklearn.metrics import cohen_kappa_score\n",
        "from sklearn.metrics import roc_auc_score\n",
        "from sklearn.metrics import confusion_matrix\n",
        "\n",
        "# accuracy: (tp + tn) / (p + n)\n",
        "accuracy = accuracy_score(y_test, yhat_classes_GRU)\n",
        "print('Accuracy: %f' % accuracy)\n",
        "# precision tp / (tp + fp)\n",
        "precision = precision_score(y_test, yhat_classes_GRU)\n",
        "print('Precision: %f' % precision)\n",
        "# recall: tp / (tp + fn)\n",
        "recall = recall_score(y_test, yhat_classes_GRU)\n",
        "print('Recall: %f' % recall)\n",
        "# f1: 2 tp / (2 tp + fp + fn)\n",
        "f1 = f1_score(y_test, yhat_classes_GRU)\n",
        "print('F1 score: %f' % f1)\n",
        "\n",
        "# ROC AUC\n",
        "auc = roc_auc_score(y_test, yhat_probs_GRU)\n",
        "print('ROC AUC: %f' % auc)\n",
        "\n",
        "# confusion matrix\n",
        "matrix = confusion_matrix(y_test, yhat_classes_GRU)\n",
        "print(matrix)\n",
        "\n",
        "all_results.append(['GRU',accuracy, precision, recall, f1, auc])\n",
        "\n",
        "#plotting confusion matrix\n",
        "import seaborn as sns\n",
        "p = sns.heatmap(confusion_matrix(y_test, yhat_classes_GRU), annot=True, fmt='g')\n",
        "p.set_xlabel(\"Predicted label\", fontsize = 20)\n",
        "p.set_ylabel(\"True Label\", fontsize = 20)\n",
        "p.xaxis.set_ticklabels(['non-seizure', 'seizure'], ha=\"center\", va=\"center\")\n",
        "p.yaxis.set_ticklabels(['non-seizure', 'seizure'], rotation=0, va=\"center\")\n",
        "\n",
        "#Plotting ROC curve\n",
        "from sklearn.metrics import roc_curve, auc\n",
        "fpr, tpr, threshold = roc_curve(y_test, yhat_probs_GRU)\n",
        "auc_val = auc(fpr, tpr)\n",
        "plt.figure()\n",
        "plt.plot([0, 1], [0, 1], 'k--')\n",
        "plt.plot(fpr, tpr, label='ROC (area = {:.3f})'.format(auc_val))\n",
        "plt.xlabel('False positive rate')\n",
        "plt.ylabel('True positive rate')\n",
        "plt.title('ROC curve')\n",
        "plt.legend(loc='best')\n",
        "plt.show()"
      ]
    },
    {
      "cell_type": "markdown",
      "metadata": {
        "id": "7VkBwSkouwoE"
      },
      "source": [
        "## Exercise 3 - Building CNN-LSTM model\n",
        "\n",
        "* Input shape **[samples, subsequences, timesteps, features]**.\n",
        "\n",
        "\n",
        "> The benefit of this model is that the model can support very long input sequences that can be read as blocks or subsequences by the CNN model, then pieced together by the LSTM model.\n",
        ">\n",
        "> When using a hybrid CNN-LSTM model, we will further divide each sample into further subsequences. The CNN model will interpret each sub-sequence and the LSTM will piece together the interpretations from the subsequences. As such, we will split each sample into 2 subsequences of 2 times per subsequence.\n",
        ">\n",
        "> The CNN will be defined to expect 2 timesteps per subsequence with one feature. The entire CNN model is then wrapped in TimeDistributed wrapper layers so that it can be applied to each subsequence in the sample. The results are then interpreted by the LSTM layer before the model outputs a prediction.\n",
        "\n",
        "#### Data preprocess\n",
        "* Reshape from **[samples, timesteps, features]** into **[samples, subsequences, timesteps, features]**.\n",
        "\n",
        "*samples*: The number of samples or observations in your dataset. This could be, for example, the number of EEG recordings you have.\n",
        "\n",
        "*subsequences*: The number of subsequences into which you divide each sample. This is often referred to as the \"number of frames\" or \"frames per sample.\" Each subsequence represents a time window or segment of the signal.\n",
        "\n",
        "*timesteps*: The number of time steps in each subsequence. In the case of EEG signals, this is typically the number of time points in each segment.\n",
        "\n",
        "*features*: The number of features or channels in each time step. For EEG signals, this would typically be the number of electrodes or channels."
      ]
    },
    {
      "cell_type": "code",
      "execution_count": null,
      "metadata": {
        "colab": {
          "base_uri": "https://localhost:8080/"
        },
        "id": "vMxFhDsRwNJT",
        "outputId": "83a4927e-fa0f-40fc-f2a8-c225fee44c95"
      },
      "outputs": [
        {
          "name": "stdout",
          "output_type": "stream",
          "text": [
            "Train set shape (8050, 2, 89, 1)\n",
            "Test set shape (3450, 2, 89, 1)\n"
          ]
        }
      ],
      "source": [
        "subsequences = 2\n",
        "timesteps = X_train_series.shape[1]//subsequences\n",
        "X_train_series_sub = X_train_series.reshape((X_train_series.shape[0], subsequences, timesteps, 1))\n",
        "X_test_series_sub = X_test_series.reshape((X_test_series.shape[0], subsequences, timesteps, 1))\n",
        "print('Train set shape', X_train_series_sub.shape)\n",
        "print('Test set shape', X_test_series_sub.shape)"
      ]
    },
    {
      "cell_type": "code",
      "execution_count": null,
      "metadata": {
        "colab": {
          "base_uri": "https://localhost:8080/"
        },
        "id": "4GD0YrfRz9UQ",
        "outputId": "b05d2b76-b3a5-40d8-e640-9be2ab5e5239"
      },
      "outputs": [
        {
          "name": "stdout",
          "output_type": "stream",
          "text": [
            "Model: \"sequential_6\"\n",
            "_________________________________________________________________\n",
            " Layer (type)                Output Shape              Param #   \n",
            "=================================================================\n",
            " time_distributed_9 (TimeDis  (None, None, 87, 64)     256       \n",
            " tributed)                                                       \n",
            "                                                                 \n",
            " time_distributed_10 (TimeDi  (None, None, 43, 64)     0         \n",
            " stributed)                                                      \n",
            "                                                                 \n",
            " time_distributed_11 (TimeDi  (None, None, 2752)       0         \n",
            " stributed)                                                      \n",
            "                                                                 \n",
            " lstm_5 (LSTM)               (None, 50)                560600    \n",
            "                                                                 \n",
            " dense_6 (Dense)             (None, 1)                 51        \n",
            "                                                                 \n",
            "=================================================================\n",
            "Total params: 560,907\n",
            "Trainable params: 560,907\n",
            "Non-trainable params: 0\n",
            "_________________________________________________________________\n"
          ]
        }
      ],
      "source": [
        "from tensorflow.keras.layers import TimeDistributed, Conv1D, MaxPooling1D, Flatten\n",
        "def build_model():\n",
        "\n",
        "    ### PUT YOUR CODE HERE ###\n",
        "    model= Sequential()\n",
        "    model.add(TimeDistributed(Conv1D(filters=64, kernel_size=3, activation='relu'), input_shape=(None, X_train_series_sub.shape[2], X_train_series_sub.shape[3])))\n",
        "    model.add(TimeDistributed(MaxPooling1D(pool_size=2)))\n",
        "    model.add(TimeDistributed(Flatten()))\n",
        "    model.add(LSTM(50, activation='relu'))\n",
        "    model.add(Dense(1, activation='sigmoid'))\n",
        "    model.compile(loss = 'binary_crossentropy', optimizer = 'adam', metrics = ['accuracy'])\n",
        "    \n",
        "    ### END ###   \n",
        "    return model\n",
        "\n",
        "model_cnn_lstm = build_model()\n",
        "model_cnn_lstm.summary()"
      ]
    },
    {
      "cell_type": "markdown",
      "source": [
        "TimeDistributed layer allows us to apply convolutional layers to each frame of a sequence of input data in a CNN-LSTM network"
      ],
      "metadata": {
        "id": "ep5QmTvARLNG"
      }
    },
    {
      "cell_type": "code",
      "execution_count": null,
      "metadata": {
        "colab": {
          "base_uri": "https://localhost:8080/"
        },
        "id": "Rjl8Tvyl0nFq",
        "outputId": "1ab9c335-becf-4e29-dc32-55d4c79ddf9d"
      },
      "outputs": [
        {
          "name": "stdout",
          "output_type": "stream",
          "text": [
            "Epoch 1/10\n",
            "252/252 - 4s - loss: 0.1571 - accuracy: 0.9439 - val_loss: 0.0792 - val_accuracy: 0.9690 - 4s/epoch - 14ms/step\n",
            "Epoch 2/10\n",
            "252/252 - 2s - loss: 0.0714 - accuracy: 0.9759 - val_loss: 0.0737 - val_accuracy: 0.9710 - 2s/epoch - 8ms/step\n",
            "Epoch 3/10\n",
            "252/252 - 2s - loss: 0.0522 - accuracy: 0.9794 - val_loss: 0.0817 - val_accuracy: 0.9762 - 2s/epoch - 8ms/step\n",
            "Epoch 4/10\n",
            "252/252 - 2s - loss: 0.0474 - accuracy: 0.9826 - val_loss: 0.0609 - val_accuracy: 0.9765 - 2s/epoch - 8ms/step\n",
            "Epoch 5/10\n",
            "252/252 - 2s - loss: 0.0394 - accuracy: 0.9848 - val_loss: 0.0580 - val_accuracy: 0.9780 - 2s/epoch - 8ms/step\n",
            "Epoch 6/10\n",
            "252/252 - 2s - loss: 0.0309 - accuracy: 0.9882 - val_loss: 0.0660 - val_accuracy: 0.9786 - 2s/epoch - 8ms/step\n",
            "Epoch 7/10\n",
            "252/252 - 2s - loss: 0.0276 - accuracy: 0.9913 - val_loss: 0.0763 - val_accuracy: 0.9765 - 2s/epoch - 8ms/step\n",
            "Epoch 8/10\n",
            "252/252 - 2s - loss: 0.0206 - accuracy: 0.9933 - val_loss: 0.0723 - val_accuracy: 0.9765 - 2s/epoch - 8ms/step\n",
            "Epoch 9/10\n",
            "252/252 - 2s - loss: 0.0227 - accuracy: 0.9911 - val_loss: 0.0687 - val_accuracy: 0.9757 - 2s/epoch - 8ms/step\n",
            "Epoch 10/10\n",
            "252/252 - 2s - loss: 0.0175 - accuracy: 0.9944 - val_loss: 0.0792 - val_accuracy: 0.9786 - 2s/epoch - 8ms/step\n",
            "108/108 [==============================] - 0s 3ms/step - loss: 0.0792 - accuracy: 0.9786\n"
          ]
        }
      ],
      "source": [
        "cnn_lstm_history = model_cnn_lstm.fit(X_train_series_sub, y_train, validation_data=(X_test_series_sub, y_test), epochs=10, verbose=2)\n",
        "score, acc = model_cnn_lstm.evaluate(X_test_series_sub, y_test)"
      ]
    },
    {
      "cell_type": "code",
      "execution_count": null,
      "metadata": {
        "colab": {
          "base_uri": "https://localhost:8080/"
        },
        "id": "7Nr3ZhaR-Ogm",
        "outputId": "e3a53694-1eb4-4338-89a6-950ad713e39f"
      },
      "outputs": [
        {
          "name": "stdout",
          "output_type": "stream",
          "text": [
            "Accuracy: 0.978551\n",
            "Precision: 0.978528\n",
            "Recall: 0.914040\n",
            "F1 score: 0.945185\n",
            "ROC AUC: 0.996823\n",
            "[[2738   14]\n",
            " [  60  638]]\n"
          ]
        }
      ],
      "source": [
        "# predict probabilities for test set\n",
        "yhat_probs_cnnlstm = model_cnn_lstm.predict(X_test_series_sub, verbose=0)\n",
        "# predict classes for test set\n",
        "yhat_classes_cnnlstm = np.where(yhat_probs_cnnlstm>0.5, 1, 0)\n",
        "\n",
        "# accuracy: (tp + tn) / (p + n)\n",
        "accuracy = accuracy_score(y_test, yhat_classes_cnnlstm)\n",
        "print('Accuracy: %f' % accuracy)\n",
        "\n",
        "# precision tp / (tp + fp)\n",
        "precision = precision_score(y_test, yhat_classes_cnnlstm)\n",
        "print('Precision: %f' % precision)\n",
        "\n",
        "# recall: tp / (tp + fn)\n",
        "recall = recall_score(y_test, yhat_classes_cnnlstm)\n",
        "print('Recall: %f' % recall)\n",
        "\n",
        "# f1: 2 tp / (2 tp + fp + fn)\n",
        "f1 = f1_score(y_test, yhat_classes_cnnlstm)\n",
        "print('F1 score: %f' % f1)\n",
        "\n",
        "# ROC AUC\n",
        "auc = roc_auc_score(y_test, yhat_probs_cnnlstm)\n",
        "print('ROC AUC: %f' % auc)\n",
        "\n",
        "# confusion matrix\n",
        "matrix = confusion_matrix(y_test, yhat_classes_cnnlstm)\n",
        "print(matrix)\n",
        "\n",
        "all_results.append(['CNN-LSTM',accuracy, precision, recall, f1, auc])"
      ]
    },
    {
      "cell_type": "code",
      "execution_count": null,
      "metadata": {
        "colab": {
          "base_uri": "https://localhost:8080/",
          "height": 295
        },
        "id": "70u9aXbw-n1-",
        "outputId": "7e5e6366-a798-4a8b-d06e-222c8791c80e"
      },
      "outputs": [
        {
          "data": {
            "image/png": "[encoded data removed]",
            "text/plain": [
              "<Figure size 432x288 with 1 Axes>"
            ]
          },
          "metadata": {
            "needs_background": "light"
          },
          "output_type": "display_data"
        }
      ],
      "source": [
        "from sklearn.metrics import roc_curve, auc\n",
        "fpr, tpr, threshold = roc_curve(y_test, yhat_probs_cnnlstm)\n",
        "auc_val = auc(fpr, tpr)\n",
        "plt.figure()\n",
        "plt.plot([0, 1], [0, 1], 'k--')\n",
        "plt.plot(fpr, tpr, label='ROC (area = {:.3f})'.format(auc_val))\n",
        "plt.xlabel('False positive rate')\n",
        "plt.ylabel('True positive rate')\n",
        "plt.title('ROC curve')\n",
        "plt.legend(loc='best')\n",
        "plt.show()"
      ]
    },
    {
      "cell_type": "markdown",
      "metadata": {
        "id": "2ix9umbe1QXO"
      },
      "source": [
        "### Comparing models"
      ]
    },
    {
      "cell_type": "code",
      "execution_count": null,
      "metadata": {
        "colab": {
          "base_uri": "https://localhost:8080/",
          "height": 295
        },
        "id": "zssgQ30C-54b",
        "outputId": "6cda902f-c455-402f-805c-d6f41ac6cf05"
      },
      "outputs": [
        {
          "data": {
            "image/png": "[encoded data removed]",
            "text/plain": [
              "<Figure size 432x288 with 1 Axes>"
            ]
          },
          "metadata": {
            "needs_background": "light"
          },
          "output_type": "display_data"
        }
      ],
      "source": [
        "from sklearn.metrics import roc_curve, auc\n",
        "fpr1, tpr1, threshold1 = roc_curve(y_test, model_simpleRNN.predict(X_test_series, verbose=0))\n",
        "fpr2, tpr2, threshold2 = roc_curve(y_test, model_LSTM.predict(X_test_series, verbose=0))\n",
        "fpr3, tpr3, threshold3 = roc_curve(y_test, model_GRU.predict(X_test_series, verbose=0))\n",
        "fpr4, tpr4, threshold24 = roc_curve(y_test, model_cnn_lstm.predict(X_test_series_sub, verbose=0))\n",
        "auc_val_simpleRNN = auc(fpr1, tpr1)\n",
        "auc_val_LSTM = auc(fpr2, tpr2)\n",
        "auc_val_GRU = auc(fpr3, tpr3)\n",
        "auc_val_cnnlstm = auc(fpr4, tpr4)\n",
        "\n",
        "plt.figure()\n",
        "plt.plot([0, 1], [0, 1], 'k--')\n",
        "plt.plot(fpr1, tpr1, label='ROC for SimpleRNN (area = {:.3f})'.format(auc_val_simpleRNN))\n",
        "plt.plot(fpr2, tpr2, label='ROC for LSTM (area = {:.3f})'.format(auc_val_LSTM))\n",
        "plt.plot(fpr3, tpr3, label='ROC for GRU (area = {:.3f})'.format(auc_val_GRU))\n",
        "plt.plot(fpr4, tpr4, label='ROC for CNN-LSTM (area = {:.3f})'.format(auc_val_cnnlstm))\n",
        "plt.xlabel('False positive rate')\n",
        "plt.ylabel('True positive rate')\n",
        "plt.title('ROC curve')\n",
        "plt.legend(loc='best')\n",
        "plt.show()"
      ]
    },
    {
      "cell_type": "code",
      "execution_count": null,
      "metadata": {
        "colab": {
          "base_uri": "https://localhost:8080/",
          "height": 206
        },
        "id": "6clkLxLCFdP8",
        "outputId": "917f09db-cd83-4b12-9e97-b5f9cd6a534d"
      },
      "outputs": [
        {
          "data": {
            "text/html": [
              "\n",
              "  <div id=\"df-00364db3-e21a-4e72-89a5-3a3a994d5b1c\">\n",
              "    <div class=\"colab-df-container\">\n",
              "      <div>\n",
              "<style scoped>\n",
              "    .dataframe tbody tr th:only-of-type {\n",
              "        vertical-align: middle;\n",
              "    }\n",
              "\n",
              "    .dataframe tbody tr th {\n",
              "        vertical-align: top;\n",
              "    }\n",
              "\n",
              "    .dataframe thead th {\n",
              "        text-align: right;\n",
              "    }\n",
              "</style>\n",
              "<table border=\"1\" class=\"dataframe\">\n",
              "  <thead>\n",
              "    <tr style=\"text-align: right;\">\n",
              "      <th></th>\n",
              "      <th>Model_name</th>\n",
              "      <th>Accuracy</th>\n",
              "      <th>Precision</th>\n",
              "      <th>Recall</th>\n",
              "      <th>F1 score</th>\n",
              "      <th>AUC</th>\n",
              "    </tr>\n",
              "  </thead>\n",
              "  <tbody>\n",
              "    <tr>\n",
              "      <th>0</th>\n",
              "      <td>SimpleRNN</td>\n",
              "      <td>0.726957</td>\n",
              "      <td>0.350123</td>\n",
              "      <td>0.408309</td>\n",
              "      <td>0.376984</td>\n",
              "      <td>0.690911</td>\n",
              "    </tr>\n",
              "    <tr>\n",
              "      <th>1</th>\n",
              "      <td>LSTM</td>\n",
              "      <td>0.974203</td>\n",
              "      <td>0.953800</td>\n",
              "      <td>0.916905</td>\n",
              "      <td>0.934989</td>\n",
              "      <td>0.993758</td>\n",
              "    </tr>\n",
              "    <tr>\n",
              "      <th>2</th>\n",
              "      <td>GRU</td>\n",
              "      <td>0.977971</td>\n",
              "      <td>0.949422</td>\n",
              "      <td>0.941261</td>\n",
              "      <td>0.945324</td>\n",
              "      <td>0.995739</td>\n",
              "    </tr>\n",
              "    <tr>\n",
              "      <th>3</th>\n",
              "      <td>CNN-LSTM</td>\n",
              "      <td>0.797681</td>\n",
              "      <td>0.000000</td>\n",
              "      <td>0.000000</td>\n",
              "      <td>0.000000</td>\n",
              "      <td>0.012887</td>\n",
              "    </tr>\n",
              "    <tr>\n",
              "      <th>4</th>\n",
              "      <td>CNN-LSTM</td>\n",
              "      <td>0.978551</td>\n",
              "      <td>0.978528</td>\n",
              "      <td>0.914040</td>\n",
              "      <td>0.945185</td>\n",
              "      <td>0.996823</td>\n",
              "    </tr>\n",
              "  </tbody>\n",
              "</table>\n",
              "</div>\n",
              "      <button class=\"colab-df-convert\" onclick=\"convertToInteractive('df-00364db3-e21a-4e72-89a5-3a3a994d5b1c')\"\n",
              "              title=\"Convert this dataframe to an interactive table.\"\n",
              "              style=\"display:none;\">\n",
              "        \n",
              "  <svg xmlns=\"http://www.w3.org/2000/svg\" height=\"24px\"viewBox=\"0 0 24 24\"\n",
              "       width=\"24px\">\n",
              "    <path d=\"M0 0h24v24H0V0z\" fill=\"none\"/>\n",
              "    <path d=\"M18.56 5.44l.94 2.06.94-2.06 2.06-.94-2.06-.94-.94-2.06-.94 2.06-2.06.94zm-11 1L8.5 8.5l.94-2.06 2.06-.94-2.06-.94L8.5 2.5l-.94 2.06-2.06.94zm10 10l.94 2.06.94-2.06 2.06-.94-2.06-.94-.94-2.06-.94 2.06-2.06.94z\"/><path d=\"M17.41 7.96l-1.37-1.37c-.4-.4-.92-.59-1.43-.59-.52 0-1.04.2-1.43.59L10.3 9.45l-7.72 7.72c-.78.78-.78 2.05 0 2.83L4 21.41c.39.39.9.59 1.41.59.51 0 1.02-.2 1.41-.59l7.78-7.78 2.81-2.81c.8-.78.8-2.07 0-2.86zM5.41 20L4 18.59l7.72-7.72 1.47 1.35L5.41 20z\"/>\n",
              "  </svg>\n",
              "      </button>\n",
              "      \n",
              "  <style>\n",
              "    .colab-df-container {\n",
              "      display:flex;\n",
              "      flex-wrap:wrap;\n",
              "      gap: 12px;\n",
              "    }\n",
              "\n",
              "    .colab-df-convert {\n",
              "      background-color: #E8F0FE;\n",
              "      border: none;\n",
              "      border-radius: 50%;\n",
              "      cursor: pointer;\n",
              "      display: none;\n",
              "      fill: #1967D2;\n",
              "      height: 32px;\n",
              "      padding: 0 0 0 0;\n",
              "      width: 32px;\n",
              "    }\n",
              "\n",
              "    .colab-df-convert:hover {\n",
              "      background-color: #E2EBFA;\n",
              "      box-shadow: 0px 1px 2px rgba(60, 64, 67, 0.3), 0px 1px 3px 1px rgba(60, 64, 67, 0.15);\n",
              "      fill: #174EA6;\n",
              "    }\n",
              "\n",
              "    [theme=dark] .colab-df-convert {\n",
              "      background-color: #3B4455;\n",
              "      fill: #D2E3FC;\n",
              "    }\n",
              "\n",
              "    [theme=dark] .colab-df-convert:hover {\n",
              "      background-color: #434B5C;\n",
              "      box-shadow: 0px 1px 3px 1px rgba(0, 0, 0, 0.15);\n",
              "      filter: drop-shadow(0px 1px 2px rgba(0, 0, 0, 0.3));\n",
              "      fill: #FFFFFF;\n",
              "    }\n",
              "  </style>\n",
              "\n",
              "      <script>\n",
              "        const buttonEl =\n",
              "          document.querySelector('#df-00364db3-e21a-4e72-89a5-3a3a994d5b1c button.colab-df-convert');\n",
              "        buttonEl.style.display =\n",
              "          google.colab.kernel.accessAllowed ? 'block' : 'none';\n",
              "\n",
              "        async function convertToInteractive(key) {\n",
              "          const element = document.querySelector('#df-00364db3-e21a-4e72-89a5-3a3a994d5b1c');\n",
              "          const dataTable =\n",
              "            await google.colab.kernel.invokeFunction('convertToInteractive',\n",
              "                                                     [key], {});\n",
              "          if (!dataTable) return;\n",
              "\n",
              "          const docLinkHtml = 'Like what you see? Visit the ' +\n",
              "            '<a target=\"_blank\" href=https://colab.research.google.com/notebooks/data_table.ipynb>data table notebook</a>'\n",
              "            + ' to learn more about interactive tables.';\n",
              "          element.innerHTML = '';\n",
              "          dataTable['output_type'] = 'display_data';\n",
              "          await google.colab.output.renderOutput(dataTable, element);\n",
              "          const docLink = document.createElement('div');\n",
              "          docLink.innerHTML = docLinkHtml;\n",
              "          element.appendChild(docLink);\n",
              "        }\n",
              "      </script>\n",
              "    </div>\n",
              "  </div>\n",
              "  "
            ],
            "text/plain": [
              "  Model_name  Accuracy  Precision    Recall  F1 score       AUC\n",
              "0  SimpleRNN  0.726957   0.350123  0.408309  0.376984  0.690911\n",
              "1       LSTM  0.974203   0.953800  0.916905  0.934989  0.993758\n",
              "2        GRU  0.977971   0.949422  0.941261  0.945324  0.995739\n",
              "3   CNN-LSTM  0.797681   0.000000  0.000000  0.000000  0.012887\n",
              "4   CNN-LSTM  0.978551   0.978528  0.914040  0.945185  0.996823"
            ]
          },
          "execution_count": 35,
          "metadata": {},
          "output_type": "execute_result"
        }
      ],
      "source": [
        "all_results_df = pd.DataFrame(all_results, columns=col_names)\n",
        "all_results_df"
      ]
    },
    {
      "cell_type": "markdown",
      "metadata": {
        "id": "pZ-qYC46hBNU"
      },
      "source": [
        "# Wrapping up:\n",
        "\n",
        "In this practical, you will discover how to develop a recurrent neural network model and how to apply it on EEG data.\n",
        "\n",
        "Here's what you should take away from this example:\n",
        "\n",
        "* When you are working with RNN models, you should reshape your input data according to model so that it can be trained sequentially by the layers.\n",
        "* In recurrent neural networks such as the long short-term memory (LSTM), the sigmoid and hyperbolic tangent functions are commonly used as activation functions in the network units.\n",
        "* When you are dealing with an imbalanced dataset, you must choose a metric that best captures what is important about predictions. The F1-Score is a popular metric for imbalanced classification. Always keep in mind that relying on just one metric such as accuracy can be misleading.\n"
      ]
    }
  ],
  "metadata": {
    "accelerator": "GPU",
    "colab": {
      "provenance": []
    },
    "gpuClass": "standard",
    "kernelspec": {
      "display_name": "Python 3",
      "language": "python",
      "name": "python3"
    },
    "language_info": {
      "name": "python",
      "version": "3.9.1"
    },
    "vscode": {
      "interpreter": {
        "hash": "0d591c6e422414675974e227c13f5382000c440fedd3c5006ef2be5d887f0ba7"
      }
    }
  },
  "nbformat": 4,
  "nbformat_minor": 0
}