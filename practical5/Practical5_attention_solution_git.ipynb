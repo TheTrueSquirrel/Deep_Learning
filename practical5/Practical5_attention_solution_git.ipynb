{
  "cells": [
    {
      "cell_type": "markdown",
      "metadata": {
        "id": "5-yF0Cb5HlD1"
      },
      "source": [
        "# Deep Learning\n",
        "## Practical Session 05"
      ]
    },
    {
      "cell_type": "markdown",
      "metadata": {
        "id": "T9nb3ZaFIjqi"
      },
      "source": [
        "# Recurrent Neural Networks with Attention Mechanism\n"
      ]
    },
    {
      "cell_type": "markdown",
      "metadata": {
        "id": "sT7u5nLHHs3w"
      },
      "source": [
        "## Part 1 - Movie Review Classification with LSTMs"
      ]
    },
    {
      "cell_type": "markdown",
      "metadata": {
        "id": "S7Ky07j5I7Qy"
      },
      "source": [
        "### Data preprocessing"
      ]
    },
    {
      "cell_type": "code",
      "execution_count": null,
      "metadata": {
        "colab": {
          "base_uri": "https://localhost:8080/"
        },
        "id": "-tBVZdH_HoeU",
        "outputId": "d7633b0f-c07b-43f0-ea04-5e5b5d86d592"
      },
      "outputs": [
        {
          "name": "stdout",
          "output_type": "stream",
          "text": [
            "Loading data...\n",
            "x_train shape: (5000, 200)\n",
            "x_test shape: (5000, 200)\n"
          ]
        }
      ],
      "source": [
        "from keras.datasets import imdb  \n",
        "from keras.preprocessing import sequence\n",
        "\n",
        "# initialization\n",
        "num_words = 2500  # number of words to consider as features\n",
        "maxlen = 200  # cut texts after this number of words (among top max_features most common words)\n",
        "\n",
        "pad_id = 0\n",
        "start_id = 1\n",
        "oov_id = 2\n",
        "index_offset = 2\n",
        "\n",
        "print('Loading data...')\n",
        "(x_train, y_train), (x_test, y_test) = imdb.load_data(num_words=num_words, start_char=start_id, oov_char=oov_id, index_from=index_offset)\n",
        "\n",
        "word2idx = imdb.get_word_index()\n",
        "idx2word = {v + index_offset: k for k,v in word2idx.items()}\n",
        "\n",
        "idx2word [pad_id]= '<PAD>'\n",
        "idx2word [start_id]= '<START>'\n",
        "idx2word [oov_id]= '<OOV>'\n",
        "\n",
        "x_train = sequence.pad_sequences(x_train, maxlen=maxlen, truncating='post', padding='post', value=pad_id)\n",
        "x_test = sequence.pad_sequences(x_test, maxlen=maxlen, truncating='post', padding='post', value=pad_id)\n",
        "\n",
        "# Reducing the size of the dataset\n",
        "x_train = x_train[:5000]\n",
        "y_train = y_train[:5000]\n",
        "x_test = x_test[:5000]\n",
        "y_test = y_test[:5000]\n",
        "print('x_train shape:', x_train.shape)\n",
        "print('x_test shape:', x_test.shape)"
      ]
    },
    {
      "cell_type": "markdown",
      "metadata": {
        "id": "kdeVpWZhJy62"
      },
      "source": [
        "``` python\n",
        "from keras.layers import Embedding\n",
        "\n",
        "# The Embedding layer takes at least two arguments:\n",
        "# the number of possible tokens, here 1000 (1 + maximum word index),\n",
        "# and the dimensionality of the embeddings, here 64.\n",
        "embedding_layer = Embedding(1000, 64)\n",
        "```"
      ]
    },
    {
      "cell_type": "markdown",
      "metadata": {
        "id": "pmtm81E8J7jh"
      },
      "source": [
        "### Exercise 1 - Building the LSTM model\n",
        "\n",
        "Now, create a self embedding layer and embed the input sentences as a vector of numbers. There are two main approaches to perform this embedding pre-trained embeddings like Word2Vec or GloVe or randomly initializing. \n",
        "\n",
        "In this tutorial, we will be using a random initialization. To perform this embedding we use the `embedding` function from the layers package.The parameters of this matrix will then be trained with the rest of the graph.\n",
        "\n",
        "Let's apply this idea to our sentiment prediction task. We will use functional API to construct the model because it is more flexible and branching or sharing of layers is allowed. Your model should use 32-dimensional word embeddings. After the embedding layer, we will put an LSTM layer of 64 units. "
      ]
    },
    {
      "cell_type": "code",
      "execution_count": null,
      "metadata": {
        "colab": {
          "base_uri": "https://localhost:8080/"
        },
        "id": "blf8TQXGEquc",
        "outputId": "dfd4dc1c-9ad7-4d19-f018-49e83e5c32a4"
      },
      "outputs": [
        {
          "name": "stdout",
          "output_type": "stream",
          "text": [
            "Model: \"model_4\"\n",
            "_________________________________________________________________\n",
            " Layer (type)                Output Shape              Param #   \n",
            "=================================================================\n",
            " input_5 (InputLayer)        [(None, 200)]             0         \n",
            "                                                                 \n",
            " embedding_13 (Embedding)    (None, 200, 32)           80000     \n",
            "                                                                 \n",
            " lstm_13 (LSTM)              (None, 64)                24832     \n",
            "                                                                 \n",
            " dense_14 (Dense)            (None, 1)                 65        \n",
            "                                                                 \n",
            "=================================================================\n",
            "Total params: 104,897\n",
            "Trainable params: 104,897\n",
            "Non-trainable params: 0\n",
            "_________________________________________________________________\n"
          ]
        }
      ],
      "source": [
        "from keras.models import Sequential\n",
        "from keras.layers import Embedding, Dense, LSTM, Input\n",
        "from keras.models import Model\n",
        "from keras.regularizers import l2\n",
        "\n",
        "inputs1 = Input(shape = (maxlen,))\n",
        "x1 = Embedding(num_words, 32, input_length = maxlen, embeddings_regularizer = l2(.001))(inputs1) \n",
        "recurrent_output = LSTM(64, dropout = 0.3, recurrent_dropout = 0.2)(x1)\n",
        "outputs1 = Dense(1,activation = 'sigmoid')(recurrent_output)\n",
        "model_lstm = Model(inputs1, outputs1)\n",
        "model_lstm.compile(optimizer = 'adam', loss = 'binary_crossentropy', metrics = ['acc'])\n",
        "model_lstm.summary()"
      ]
    },
    {
      "cell_type": "code",
      "execution_count": null,
      "metadata": {
        "colab": {
          "base_uri": "https://localhost:8080/"
        },
        "id": "Z6SZL5GCLwHx",
        "outputId": "a33268bf-296a-4e9e-8685-d0fc4cc31ca0"
      },
      "outputs": [
        {
          "name": "stdout",
          "output_type": "stream",
          "text": [
            "Epoch 1/10\n",
            "79/79 - 30s - loss: 0.7068 - acc: 0.5086 - val_loss: 0.6945 - val_acc: 0.4858 - 30s/epoch - 376ms/step\n",
            "Epoch 2/10\n",
            "79/79 - 27s - loss: 0.6932 - acc: 0.5038 - val_loss: 0.6948 - val_acc: 0.4892 - 27s/epoch - 343ms/step\n",
            "Epoch 3/10\n",
            "79/79 - 27s - loss: 0.6921 - acc: 0.5126 - val_loss: 0.6881 - val_acc: 0.5522 - 27s/epoch - 341ms/step\n",
            "Epoch 4/10\n",
            "79/79 - 28s - loss: 0.6919 - acc: 0.5446 - val_loss: 0.6752 - val_acc: 0.5888 - 28s/epoch - 355ms/step\n",
            "Epoch 5/10\n",
            "79/79 - 28s - loss: 0.6389 - acc: 0.6720 - val_loss: 0.7471 - val_acc: 0.6982 - 28s/epoch - 355ms/step\n",
            "Epoch 6/10\n",
            "79/79 - 29s - loss: 0.6283 - acc: 0.7290 - val_loss: 0.7623 - val_acc: 0.6190 - 29s/epoch - 368ms/step\n",
            "Epoch 7/10\n",
            "79/79 - 28s - loss: 0.6275 - acc: 0.7266 - val_loss: 0.5827 - val_acc: 0.7618 - 28s/epoch - 354ms/step\n",
            "Epoch 8/10\n",
            "79/79 - 28s - loss: 0.6208 - acc: 0.7378 - val_loss: 0.6975 - val_acc: 0.6720 - 28s/epoch - 352ms/step\n",
            "Epoch 9/10\n",
            "79/79 - 28s - loss: 0.6644 - acc: 0.7088 - val_loss: 0.7190 - val_acc: 0.5106 - 28s/epoch - 352ms/step\n",
            "Epoch 10/10\n",
            "79/79 - 28s - loss: 0.7064 - acc: 0.5750 - val_loss: 0.7110 - val_acc: 0.5474 - 28s/epoch - 351ms/step\n",
            "Epoch 10: early stopping\n",
            "157/157 [==============================] - 5s 32ms/step - loss: 0.7110 - acc: 0.5474\n"
          ]
        }
      ],
      "source": [
        "from keras.callbacks import EarlyStopping\n",
        "callback = EarlyStopping(monitor = 'val_loss', mode = 'min', verbose = 1, patience = 3)\n",
        "\n",
        "lstm_history = model_lstm.fit(x_train, y_train, validation_data=(x_test, y_test), batch_size=64, epochs=10, verbose=2, callbacks = [callback])\n",
        "score, acc = model_lstm.evaluate(x_test, y_test)"
      ]
    },
    {
      "cell_type": "code",
      "execution_count": null,
      "metadata": {
        "colab": {
          "base_uri": "https://localhost:8080/",
          "height": 301
        },
        "id": "MOhGkEafSbca",
        "outputId": "43e722a8-be94-4e3c-c964-74cd53bd5a57"
      },
      "outputs": [
        {
          "data": {
            "text/plain": [
              "[Text(0, 0.5, 'negative'), Text(0, 1.5, 'positive')]"
            ]
          },
          "execution_count": 36,
          "metadata": {},
          "output_type": "execute_result"
        },
        {
          "data": {
            "image/png": "[encoded data removed]",
            "text/plain": [
              "<Figure size 432x288 with 2 Axes>"
            ]
          },
          "metadata": {
            "needs_background": "light"
          },
          "output_type": "display_data"
        }
      ],
      "source": [
        "import numpy as np\n",
        "from sklearn.metrics import confusion_matrix\n",
        "import seaborn as sns\n",
        "\n",
        "# predict probabilities for test set\n",
        "yhat_probs = model_lstm.predict(x_test, verbose=0)\n",
        "# predict classes for test set\n",
        "yhat_classes = np.where(yhat_probs>0.5, 1, 0)\n",
        "\n",
        "p = sns.heatmap(confusion_matrix(y_test, yhat_classes), annot=True, fmt='g')\n",
        "p.set_xlabel(\"Predicted label\", fontsize = 20)\n",
        "p.set_ylabel(\"True Label\", fontsize = 20)\n",
        "p.xaxis.set_ticklabels(['negative', 'positive'], ha=\"center\", va=\"center\")\n",
        "p.yaxis.set_ticklabels(['negative', 'positive'], rotation=0, va=\"center\")"
      ]
    },
    {
      "cell_type": "markdown",
      "metadata": {
        "id": "GBd-mF8qiSXY"
      },
      "source": [
        "## Exercise 2 - LSTM + attention neural network on IMDB movie reviews\n",
        "\n",
        "### Create Attention Layer"
      ]
    },
    {
      "cell_type": "code",
      "execution_count": null,
      "metadata": {
        "id": "tLAx6aE7iTty"
      },
      "outputs": [],
      "source": [
        "import tensorflow as tf\n",
        "from keras.layers import Layer, Input, Dropout, Bidirectional\n",
        "from keras.layers import *\n",
        "from keras.models import *\n",
        "from keras import backend as K\n",
        "\n",
        "# Add attention layer to the deep learning network\n",
        "\n",
        "class attention(Layer):\n",
        "    def __init__(self,**kwargs):\n",
        "        super(attention,self).__init__(**kwargs)\n",
        "\n",
        "    def build(self,input_shape):\n",
        "        self.W=self.add_weight(name=\"att_weight\",shape=(input_shape[-1],1), initializer=\"normal\")\n",
        "        self.b=self.add_weight(name=\"att_bias\",shape=(input_shape[1],1), initializer=\"zeros\")        \n",
        "        super(attention, self).build(input_shape)\n",
        "\n",
        "    def call(self,x):\n",
        "        et=K.squeeze(K.tanh(K.dot(x,self.W)+self.b),axis=-1)\n",
        "        at=K.softmax(et)\n",
        "        at=K.expand_dims(at,axis=-1)\n",
        "        output=x*at\n",
        "        return K.sum(output,axis=1)\n",
        "\n",
        "    def get_config(self):\n",
        "        return super(attention,self).get_config()"
      ]
    },
    {
      "cell_type": "code",
      "execution_count": null,
      "metadata": {
        "colab": {
          "base_uri": "https://localhost:8080/"
        },
        "id": "SasB6jTtjGii",
        "outputId": "f515eb1d-132f-43fd-b865-34aeff7cd617"
      },
      "outputs": [
        {
          "name": "stdout",
          "output_type": "stream",
          "text": [
            "Model: \"model_5\"\n",
            "_________________________________________________________________\n",
            " Layer (type)                Output Shape              Param #   \n",
            "=================================================================\n",
            " input_6 (InputLayer)        [(None, 200)]             0         \n",
            "                                                                 \n",
            " embedding_14 (Embedding)    (None, 200, 32)           80000     \n",
            "                                                                 \n",
            " lstm_14 (LSTM)              (None, 200, 64)           24832     \n",
            "                                                                 \n",
            " attention_6 (attention)     (None, 64)                264       \n",
            "                                                                 \n",
            " dense_15 (Dense)            (None, 1)                 65        \n",
            "                                                                 \n",
            "=================================================================\n",
            "Total params: 105,161\n",
            "Trainable params: 105,161\n",
            "Non-trainable params: 0\n",
            "_________________________________________________________________\n"
          ]
        }
      ],
      "source": [
        "from keras.layers import Embedding, Dense, LSTM, Input\n",
        "from keras.models import Model\n",
        "from keras.regularizers import l2\n",
        "\n",
        "### PUT YOUR CODE HERE ###\n",
        "inputs=Input((maxlen,))\n",
        "x = Embedding(num_words, 32, input_length=maxlen, embeddings_regularizer = l2(.001))(inputs)\n",
        "att_in = LSTM(64, return_sequences = True, dropout = 0.3, recurrent_dropout = 0.2)(x)\n",
        "att_out = attention()(att_in)\n",
        "outputs = Dense(1, activation='sigmoid', trainable = True)(att_out)\n",
        "### END ###\n",
        "\n",
        "model_attention = Model(inputs, outputs)\n",
        "model_attention.compile(loss='binary_crossentropy', optimizer='adam', metrics=['accuracy']) \n",
        "model_attention.summary()\n"
      ]
    },
    {
      "cell_type": "code",
      "execution_count": null,
      "metadata": {
        "colab": {
          "base_uri": "https://localhost:8080/"
        },
        "id": "Q06P5yd8kAj1",
        "outputId": "4215f48e-bd75-4e73-ab2b-12bcc7bc0311"
      },
      "outputs": [
        {
          "name": "stdout",
          "output_type": "stream",
          "text": [
            "Epoch 1/10\n",
            "79/79 - 32s - loss: 0.7013 - accuracy: 0.5352 - val_loss: 0.6802 - val_accuracy: 0.6034 - 32s/epoch - 403ms/step\n",
            "Epoch 2/10\n",
            "79/79 - 29s - loss: 0.6465 - accuracy: 0.6468 - val_loss: 0.6405 - val_accuracy: 0.6728 - 29s/epoch - 361ms/step\n",
            "Epoch 3/10\n",
            "79/79 - 30s - loss: 0.5969 - accuracy: 0.7492 - val_loss: 0.7095 - val_accuracy: 0.6904 - 30s/epoch - 377ms/step\n",
            "Epoch 4/10\n",
            "79/79 - 30s - loss: 0.5146 - accuracy: 0.8038 - val_loss: 0.4842 - val_accuracy: 0.7958 - 30s/epoch - 374ms/step\n",
            "Epoch 5/10\n",
            "79/79 - 29s - loss: 0.4303 - accuracy: 0.8410 - val_loss: 0.5217 - val_accuracy: 0.7862 - 29s/epoch - 363ms/step\n",
            "Epoch 6/10\n",
            "79/79 - 32s - loss: 0.3982 - accuracy: 0.8660 - val_loss: 0.5162 - val_accuracy: 0.7818 - 32s/epoch - 410ms/step\n",
            "Epoch 7/10\n",
            "79/79 - 35s - loss: 0.3760 - accuracy: 0.8772 - val_loss: 0.5558 - val_accuracy: 0.7938 - 35s/epoch - 445ms/step\n",
            "Epoch 7: early stopping\n",
            "157/157 [==============================] - 5s 34ms/step - loss: 0.5558 - accuracy: 0.7938\n",
            "[0.5557907223701477, 0.7937999963760376]\n"
          ]
        }
      ],
      "source": [
        "from keras.callbacks import EarlyStopping\n",
        "callback = EarlyStopping(monitor = 'val_loss', mode = 'min', verbose = 1, patience = 3)\n",
        "\n",
        "#Fit the model with attention for 10 epoch, batch size of 64, with early stopping\n",
        "\n",
        "history_att = model_attention.fit(x_train, y_train,\n",
        "                    epochs = 10,\n",
        "                    batch_size = 64,\n",
        "                    validation_data = (x_test, y_test),\n",
        "                    verbose = 2,\n",
        "                    callbacks = [callback])\n",
        "\n",
        "\n",
        "result = model_attention.evaluate(x_test, y_test)\n",
        "print(result)"
      ]
    },
    {
      "cell_type": "code",
      "execution_count": null,
      "metadata": {
        "colab": {
          "base_uri": "https://localhost:8080/",
          "height": 300
        },
        "id": "c-YHK2CSCrAn",
        "outputId": "edc877a3-c2c7-4342-b3be-3a8f1ac1408b"
      },
      "outputs": [
        {
          "data": {
            "text/plain": [
              "[Text(0, 0.5, 'negative'), Text(0, 1.5, 'positive')]"
            ]
          },
          "execution_count": 49,
          "metadata": {},
          "output_type": "execute_result"
        },
        {
          "data": {
            "image/png": "[encoded data removed]",
            "text/plain": [
              "<Figure size 432x288 with 2 Axes>"
            ]
          },
          "metadata": {
            "needs_background": "light"
          },
          "output_type": "display_data"
        }
      ],
      "source": [
        "import numpy as np\n",
        "from sklearn.metrics import confusion_matrix\n",
        "import seaborn as sns\n",
        "\n",
        "# predict probabilities for test set\n",
        "yhat_probs = model_attention.predict(x_test, verbose=0)\n",
        "# predict classes for test set\n",
        "yhat_classes = np.where(yhat_probs>0.5, 1, 0)\n",
        "\n",
        "p = sns.heatmap(confusion_matrix(y_test, yhat_classes), annot=True, fmt='g')\n",
        "p.set_xlabel(\"Predicted label\", fontsize = 20)\n",
        "p.set_ylabel(\"True Label\", fontsize = 20)\n",
        "p.xaxis.set_ticklabels(['negative', 'positive'], ha=\"center\", va=\"center\")\n",
        "p.yaxis.set_ticklabels(['negative', 'positive'], rotation=0, va=\"center\")"
      ]
    },
    {
      "cell_type": "markdown",
      "metadata": {
        "id": "Of26kVshbJSN"
      },
      "source": [
        "## Part 2 - Sequence-to-sequence learning for performing additions"
      ]
    },
    {
      "cell_type": "code",
      "execution_count": 3,
      "metadata": {
        "colab": {
          "base_uri": "https://localhost:8080/"
        },
        "id": "72zk0DgEd1nN",
        "outputId": "e40dd726-a290-4f30-843a-0ba437d91761"
      },
      "outputs": [
        {
          "name": "stdout",
          "output_type": "stream",
          "text": [
            "Drive already mounted at /content/drive; to attempt to forcibly remount, call drive.mount(\"/content/drive\", force_remount=True).\n",
            "Generating data...\n",
            "Total addition questions: 1000\n",
            "Vectorization...\n",
            "Training Data:\n",
            "(800, 5, 14)\n",
            "(800, 5, 14)\n",
            "Validation Data:\n",
            "(100, 5, 14)\n",
            "(100, 5, 14)\n",
            "Test Data:\n",
            "(100, 5, 14)\n",
            "(100, 5, 14)\n"
          ]
        }
      ],
      "source": [
        "from google.colab import drive\n",
        "drive.mount('/content/drive')\n",
        "import sys    \n",
        "import numpy as np \n",
        "\n",
        "#to call functions from another file, we need to append its path then import it from this path\n",
        "path_to_module = '/content/drive/MyDrive/Deep_Learning_Spring23/Practical 5'\n",
        "sys.path.append(path_to_module)\n",
        "from charactertable import CharacterTable\n",
        "from additions_dataset import load_data\n",
        "\n",
        "\n",
        "# Parameters for dataset.\n",
        "num_examples = 1000 #we will have 1000 calculations in our dataset\n",
        "max_num_digits = 2\n",
        "maxlen_input = 2 * max_num_digits + 1 # max '99+99' --> 5 digit (1 for + sign)\n",
        "reverse = False\n",
        "# All the numbers, plus sign and s/e for <SOS>/<EOS>.\n",
        "chars = '0123456789+se'\n",
        "ctable = CharacterTable(chars) #we initialize character table with those characters\n",
        "\n",
        "print('Generating data...')\n",
        "questions, expected = load_data(num_examples, max_num_digits, reverse)\n",
        "print('Total addition questions:', len(questions))\n",
        "\n",
        "print('Vectorization...')\n",
        "x = np.zeros((len(questions), maxlen_input, ctable.num_tokens))\n",
        "y = np.zeros((len(questions), max_num_digits + 3, ctable.num_tokens))\n",
        "for i, sentence in enumerate(questions):\n",
        "    x[i] = ctable.encode(sentence, maxlen_input)\n",
        "# Characters 's' and 'e' correspond to <SOS> and <EOS>\n",
        "for i, sentence in enumerate(expected):\n",
        "    y[i] = ctable.encode('s' + sentence + 'e', max_num_digits + 3) #C: string, to be encoded.\n",
        "                    #num_rows: Number of rows in the returned one-hot encoding. This is used to keep the # of rows for each data the same.\n",
        "    \n",
        "# Explicitly set apart 10% for validation and test data.\n",
        "num_examples_val = len(x) // 10\n",
        "split_at_val = len(x) - num_examples_val * 2\n",
        "split_at_test = len(x) - num_examples_val\n",
        "x_train = x[:split_at_val]\n",
        "y_train = y[:split_at_val]\n",
        "x_val = x[split_at_val:split_at_test]\n",
        "y_val = y[split_at_val:split_at_test]\n",
        "x_test = x[split_at_test:]\n",
        "y_test = y[split_at_test:]\n",
        "\n",
        "print('Training Data:')\n",
        "print(x_train.shape)\n",
        "print(y_train.shape)\n",
        "print('Validation Data:')\n",
        "print(x_val.shape)\n",
        "print(y_val.shape)\n",
        "print('Test Data:')\n",
        "print(x_test.shape)\n",
        "print(y_test.shape)"
      ]
    },
    {
      "cell_type": "markdown",
      "metadata": {
        "id": "n5bY9Qh4ciIH"
      },
      "source": [
        "### Exercise 3 - Building the model for training\n",
        "\n",
        "\n",
        "\n"
      ]
    },
    {
      "cell_type": "code",
      "execution_count": null,
      "metadata": {
        "colab": {
          "base_uri": "https://localhost:8080/"
        },
        "id": "wmsJr7s3cmhX",
        "outputId": "c2f99098-df74-4900-cc37-133fec496679"
      },
      "outputs": [
        {
          "name": "stdout",
          "output_type": "stream",
          "text": [
            "Model: \"model_16\"\n",
            "__________________________________________________________________________________________________\n",
            " Layer (type)                   Output Shape         Param #     Connected to                     \n",
            "==================================================================================================\n",
            " input_31 (InputLayer)          [(None, 5, 14)]      0           []                               \n",
            "                                                                                                  \n",
            " input_32 (InputLayer)          [(None, None, 14)]   0           []                               \n",
            "                                                                                                  \n",
            " gru_14 (GRU)                   [(None, 32),         4608        ['input_31[0][0]']               \n",
            "                                 (None, 32)]                                                      \n",
            "                                                                                                  \n",
            " gru_15 (GRU)                   [(None, None, 32),   4608        ['input_32[0][0]',               \n",
            "                                 (None, 32)]                      'gru_14[0][1]']                 \n",
            "                                                                                                  \n",
            " dense_22 (Dense)               (None, None, 14)     462         ['gru_15[0][0]']                 \n",
            "                                                                                                  \n",
            "==================================================================================================\n",
            "Total params: 9,678\n",
            "Trainable params: 9,678\n",
            "Non-trainable params: 0\n",
            "__________________________________________________________________________________________________\n"
          ]
        }
      ],
      "source": [
        "from keras.models import Model\n",
        "from keras.layers import Input, Dense, GRU\n",
        "\n",
        "# Parameters for the model.\n",
        "hidden_size = 32\n",
        "\n",
        "# Define an input sequence and process it.\n",
        "encoder_inputs = Input(shape=(maxlen_input, ctable.num_tokens))\n",
        "encoder_rnn_layer = GRU(hidden_size, return_state=True)\n",
        "# We discard the output of the layer and only keep the states.\n",
        "_, encoder_state = encoder_rnn_layer(encoder_inputs)\n",
        "\n",
        "### UPDATE CODE HERE ###\n",
        "# Set up the decoder, using `encoder_states` as initial state.\n",
        "decoder_inputs = Input(shape=(None, ctable.num_tokens))\n",
        "# We set up our decoder to return full output sequences,\n",
        "# and to return internal states as well. We don't use the\n",
        "# return states in the training model, but we will use them in inference.\n",
        "decoder_rnn_layer = GRU(hidden_size, return_sequences=True, return_state=True)\n",
        "decoder_outputs, _ = decoder_rnn_layer(decoder_inputs,\n",
        "                                       initial_state=encoder_state)\n",
        "decoder_dense = Dense(ctable.num_tokens, activation='softmax')\n",
        "decoder_outputs = decoder_dense(decoder_outputs)\n",
        "### END ###\n",
        "\n",
        "# Define the model that will turn\n",
        "# `encoder_inputs` & `decoder_inputs` into `decoder_outputs`\n",
        "model = Model([encoder_inputs, decoder_inputs], decoder_outputs)\n",
        "model.compile(loss='categorical_crossentropy',\n",
        "                  optimizer='rmsprop',\n",
        "                  metrics=['accuracy'])\n",
        "model.summary()"
      ]
    },
    {
      "cell_type": "code",
      "execution_count": 9,
      "metadata": {
        "colab": {
          "base_uri": "https://localhost:8080/"
        },
        "id": "GkUXCAQqMVSG",
        "outputId": "055ab933-458d-4fac-a130-015bd0b5326b"
      },
      "outputs": [
        {
          "name": "stdout",
          "output_type": "stream",
          "text": [
            "[[0. 0. 0. 0. 0. 0. 1. 0. 0. 0. 0. 0. 0. 0.]\n",
            " [0. 0. 0. 0. 0. 0. 0. 0. 0. 0. 0. 1. 0. 0.]\n",
            " [0. 1. 0. 0. 0. 0. 0. 0. 0. 0. 0. 0. 0. 0.]\n",
            " [0. 0. 0. 1. 0. 0. 0. 0. 0. 0. 0. 0. 0. 0.]\n",
            " [0. 0. 1. 0. 0. 0. 0. 0. 0. 0. 0. 0. 0. 0.]]\n",
            "[[0. 0. 0. 0. 0. 0. 0. 0. 0. 0. 0. 0. 0.]\n",
            " [0. 0. 0. 0. 0. 0. 0. 1. 0. 0. 0. 0. 0.]\n",
            " [0. 0. 0. 0. 0. 0. 0. 0. 0. 0. 0. 1. 0.]\n",
            " [0. 0. 0. 0. 0. 0. 0. 0. 0. 0. 0. 0. 1.]\n",
            " [1. 0. 0. 0. 0. 0. 0. 0. 0. 0. 0. 0. 0.]]\n",
            "[[0. 0. 0. 0. 0. 0. 0. 0. 0. 0. 0. 0. 1.]\n",
            " [0. 0. 0. 0. 0. 0. 1. 0. 0. 0. 0. 0. 0.]\n",
            " [0. 0. 0. 0. 0. 0. 0. 0. 0. 0. 1. 0. 0.]\n",
            " [0. 0. 0. 0. 0. 0. 0. 0. 0. 0. 0. 1. 0.]\n",
            " [0. 0. 0. 0. 0. 0. 0. 0. 0. 0. 0. 0. 0.]]\n"
          ]
        }
      ],
      "source": [
        "print(x_train[0,:,:]) #x_train will be our encoder_input_data (num_pairs, max_query_sequence_length, num_tokens)\n",
        "print(y_train[0, :, :-1]) # y_train[:, :-1] will be our decoder_input_data (num_pairs, max_answer_sequence_length, num_tokens)\n",
        "print(y_train[0, :, 1:])# y_train[:, 1:] will be our decoder_target_data is the same as decoder_input_data but offset by one timestep."
      ]
    },
    {
      "cell_type": "code",
      "execution_count": null,
      "metadata": {
        "colab": {
          "base_uri": "https://localhost:8080/"
        },
        "id": "eRohzI7Ucqdx",
        "outputId": "7e0babfe-a852-47f0-8e98-1bcaba4f9c6a"
      },
      "outputs": [
        {
          "name": "stdout",
          "output_type": "stream",
          "text": [
            "Epoch 1/100\n",
            "50/50 - 3s - loss: 2.3189 - accuracy: 0.3128 - val_loss: 2.0470 - val_accuracy: 0.3875 - 3s/epoch - 59ms/step\n",
            "Epoch 2/100\n",
            "50/50 - 0s - loss: 1.8243 - accuracy: 0.4681 - val_loss: 1.8118 - val_accuracy: 0.4275 - 141ms/epoch - 3ms/step\n",
            "Epoch 3/100\n",
            "50/50 - 0s - loss: 1.6194 - accuracy: 0.5391 - val_loss: 1.7302 - val_accuracy: 0.4325 - 132ms/epoch - 3ms/step\n",
            "Epoch 4/100\n",
            "50/50 - 0s - loss: 1.4829 - accuracy: 0.5403 - val_loss: 1.6795 - val_accuracy: 0.4700 - 146ms/epoch - 3ms/step\n",
            "Epoch 5/100\n",
            "50/50 - 0s - loss: 1.3857 - accuracy: 0.5419 - val_loss: 1.6117 - val_accuracy: 0.4725 - 127ms/epoch - 3ms/step\n",
            "Epoch 6/100\n",
            "50/50 - 0s - loss: 1.3242 - accuracy: 0.5472 - val_loss: 1.6269 - val_accuracy: 0.4925 - 132ms/epoch - 3ms/step\n",
            "Epoch 7/100\n",
            "50/50 - 0s - loss: 1.2892 - accuracy: 0.5506 - val_loss: 1.6086 - val_accuracy: 0.4875 - 133ms/epoch - 3ms/step\n",
            "Epoch 8/100\n",
            "50/50 - 0s - loss: 1.2641 - accuracy: 0.5537 - val_loss: 1.6834 - val_accuracy: 0.5075 - 136ms/epoch - 3ms/step\n",
            "Epoch 9/100\n",
            "50/50 - 0s - loss: 1.2448 - accuracy: 0.5559 - val_loss: 1.6839 - val_accuracy: 0.5150 - 144ms/epoch - 3ms/step\n",
            "Epoch 10/100\n",
            "50/50 - 0s - loss: 1.2284 - accuracy: 0.5578 - val_loss: 1.7972 - val_accuracy: 0.4825 - 131ms/epoch - 3ms/step\n",
            "Epoch 11/100\n",
            "50/50 - 0s - loss: 1.2132 - accuracy: 0.5572 - val_loss: 1.7468 - val_accuracy: 0.4925 - 132ms/epoch - 3ms/step\n",
            "Epoch 12/100\n",
            "50/50 - 0s - loss: 1.2005 - accuracy: 0.5578 - val_loss: 1.7555 - val_accuracy: 0.4925 - 140ms/epoch - 3ms/step\n",
            "Epoch 13/100\n",
            "50/50 - 0s - loss: 1.1867 - accuracy: 0.5653 - val_loss: 1.7833 - val_accuracy: 0.4825 - 145ms/epoch - 3ms/step\n",
            "Epoch 14/100\n",
            "50/50 - 0s - loss: 1.1729 - accuracy: 0.5675 - val_loss: 1.8174 - val_accuracy: 0.4850 - 131ms/epoch - 3ms/step\n",
            "Epoch 15/100\n",
            "50/50 - 0s - loss: 1.1608 - accuracy: 0.5659 - val_loss: 1.7119 - val_accuracy: 0.4875 - 130ms/epoch - 3ms/step\n",
            "Epoch 16/100\n",
            "50/50 - 0s - loss: 1.1456 - accuracy: 0.5688 - val_loss: 1.6045 - val_accuracy: 0.4775 - 130ms/epoch - 3ms/step\n",
            "Epoch 17/100\n",
            "50/50 - 0s - loss: 1.1322 - accuracy: 0.5738 - val_loss: 1.7228 - val_accuracy: 0.4950 - 138ms/epoch - 3ms/step\n",
            "Epoch 18/100\n",
            "50/50 - 0s - loss: 1.1165 - accuracy: 0.5813 - val_loss: 1.7994 - val_accuracy: 0.4850 - 134ms/epoch - 3ms/step\n",
            "Epoch 19/100\n",
            "50/50 - 0s - loss: 1.1009 - accuracy: 0.5853 - val_loss: 1.8739 - val_accuracy: 0.4950 - 136ms/epoch - 3ms/step\n",
            "Epoch 20/100\n",
            "50/50 - 0s - loss: 1.0870 - accuracy: 0.5897 - val_loss: 1.5564 - val_accuracy: 0.4850 - 131ms/epoch - 3ms/step\n",
            "Epoch 21/100\n",
            "50/50 - 0s - loss: 1.0732 - accuracy: 0.5978 - val_loss: 1.6576 - val_accuracy: 0.4925 - 129ms/epoch - 3ms/step\n",
            "Epoch 22/100\n",
            "50/50 - 0s - loss: 1.0623 - accuracy: 0.6037 - val_loss: 1.8811 - val_accuracy: 0.4975 - 132ms/epoch - 3ms/step\n",
            "Epoch 23/100\n",
            "50/50 - 0s - loss: 1.0521 - accuracy: 0.6019 - val_loss: 1.7574 - val_accuracy: 0.5125 - 143ms/epoch - 3ms/step\n",
            "Epoch 24/100\n",
            "50/50 - 0s - loss: 1.0430 - accuracy: 0.6072 - val_loss: 1.8580 - val_accuracy: 0.4975 - 147ms/epoch - 3ms/step\n",
            "Epoch 25/100\n",
            "50/50 - 0s - loss: 1.0328 - accuracy: 0.6144 - val_loss: 1.8666 - val_accuracy: 0.5000 - 131ms/epoch - 3ms/step\n",
            "Epoch 26/100\n",
            "50/50 - 0s - loss: 1.0218 - accuracy: 0.6197 - val_loss: 1.8674 - val_accuracy: 0.5100 - 132ms/epoch - 3ms/step\n",
            "Epoch 27/100\n",
            "50/50 - 0s - loss: 1.0125 - accuracy: 0.6259 - val_loss: 1.8553 - val_accuracy: 0.4900 - 129ms/epoch - 3ms/step\n",
            "Epoch 28/100\n",
            "50/50 - 0s - loss: 1.0042 - accuracy: 0.6409 - val_loss: 1.9342 - val_accuracy: 0.4775 - 135ms/epoch - 3ms/step\n",
            "Epoch 29/100\n",
            "50/50 - 0s - loss: 0.9953 - accuracy: 0.6359 - val_loss: 1.7738 - val_accuracy: 0.4750 - 130ms/epoch - 3ms/step\n",
            "Epoch 30/100\n",
            "50/50 - 0s - loss: 0.9856 - accuracy: 0.6450 - val_loss: 1.8666 - val_accuracy: 0.4750 - 132ms/epoch - 3ms/step\n",
            "Epoch 31/100\n",
            "50/50 - 0s - loss: 0.9762 - accuracy: 0.6459 - val_loss: 1.8703 - val_accuracy: 0.4650 - 135ms/epoch - 3ms/step\n",
            "Epoch 32/100\n",
            "50/50 - 0s - loss: 0.9673 - accuracy: 0.6534 - val_loss: 1.8988 - val_accuracy: 0.4775 - 139ms/epoch - 3ms/step\n",
            "Epoch 33/100\n",
            "50/50 - 0s - loss: 0.9600 - accuracy: 0.6556 - val_loss: 1.8288 - val_accuracy: 0.4600 - 131ms/epoch - 3ms/step\n",
            "Epoch 34/100\n",
            "50/50 - 0s - loss: 0.9490 - accuracy: 0.6650 - val_loss: 1.8821 - val_accuracy: 0.4650 - 139ms/epoch - 3ms/step\n",
            "Epoch 35/100\n",
            "50/50 - 0s - loss: 0.9431 - accuracy: 0.6631 - val_loss: 1.8760 - val_accuracy: 0.4600 - 146ms/epoch - 3ms/step\n",
            "Epoch 36/100\n",
            "50/50 - 0s - loss: 0.9336 - accuracy: 0.6722 - val_loss: 2.0855 - val_accuracy: 0.4725 - 138ms/epoch - 3ms/step\n",
            "Epoch 37/100\n",
            "50/50 - 0s - loss: 0.9265 - accuracy: 0.6775 - val_loss: 2.0404 - val_accuracy: 0.4850 - 137ms/epoch - 3ms/step\n",
            "Epoch 38/100\n",
            "50/50 - 0s - loss: 0.9169 - accuracy: 0.6806 - val_loss: 2.0066 - val_accuracy: 0.4875 - 130ms/epoch - 3ms/step\n",
            "Epoch 39/100\n",
            "50/50 - 0s - loss: 0.9077 - accuracy: 0.6872 - val_loss: 2.0025 - val_accuracy: 0.4800 - 147ms/epoch - 3ms/step\n",
            "Epoch 40/100\n",
            "50/50 - 0s - loss: 0.9010 - accuracy: 0.6875 - val_loss: 2.0162 - val_accuracy: 0.4850 - 138ms/epoch - 3ms/step\n",
            "Epoch 41/100\n",
            "50/50 - 0s - loss: 0.8932 - accuracy: 0.6909 - val_loss: 2.1258 - val_accuracy: 0.4850 - 141ms/epoch - 3ms/step\n",
            "Epoch 42/100\n",
            "50/50 - 0s - loss: 0.8855 - accuracy: 0.6919 - val_loss: 2.0976 - val_accuracy: 0.4875 - 140ms/epoch - 3ms/step\n",
            "Epoch 43/100\n",
            "50/50 - 0s - loss: 0.8792 - accuracy: 0.6981 - val_loss: 2.1387 - val_accuracy: 0.4925 - 131ms/epoch - 3ms/step\n",
            "Epoch 44/100\n",
            "50/50 - 0s - loss: 0.8721 - accuracy: 0.7013 - val_loss: 2.1454 - val_accuracy: 0.4900 - 121ms/epoch - 2ms/step\n",
            "Epoch 45/100\n",
            "50/50 - 0s - loss: 0.8649 - accuracy: 0.7075 - val_loss: 2.1574 - val_accuracy: 0.4950 - 126ms/epoch - 3ms/step\n",
            "Epoch 46/100\n",
            "50/50 - 0s - loss: 0.8571 - accuracy: 0.7075 - val_loss: 2.1754 - val_accuracy: 0.4950 - 132ms/epoch - 3ms/step\n",
            "Epoch 47/100\n",
            "50/50 - 0s - loss: 0.8531 - accuracy: 0.7044 - val_loss: 2.2258 - val_accuracy: 0.4950 - 130ms/epoch - 3ms/step\n",
            "Epoch 48/100\n",
            "50/50 - 0s - loss: 0.8448 - accuracy: 0.7216 - val_loss: 2.2527 - val_accuracy: 0.5025 - 128ms/epoch - 3ms/step\n",
            "Epoch 49/100\n",
            "50/50 - 0s - loss: 0.8403 - accuracy: 0.7075 - val_loss: 2.2948 - val_accuracy: 0.5075 - 140ms/epoch - 3ms/step\n",
            "Epoch 50/100\n",
            "50/50 - 0s - loss: 0.8336 - accuracy: 0.7206 - val_loss: 2.2561 - val_accuracy: 0.5050 - 131ms/epoch - 3ms/step\n",
            "Epoch 51/100\n",
            "50/50 - 0s - loss: 0.8282 - accuracy: 0.7219 - val_loss: 2.3088 - val_accuracy: 0.5075 - 141ms/epoch - 3ms/step\n",
            "Epoch 52/100\n",
            "50/50 - 0s - loss: 0.8227 - accuracy: 0.7253 - val_loss: 2.3338 - val_accuracy: 0.5100 - 132ms/epoch - 3ms/step\n",
            "Epoch 53/100\n",
            "50/50 - 0s - loss: 0.8174 - accuracy: 0.7216 - val_loss: 2.3005 - val_accuracy: 0.5050 - 139ms/epoch - 3ms/step\n",
            "Epoch 54/100\n",
            "50/50 - 0s - loss: 0.8120 - accuracy: 0.7275 - val_loss: 2.3877 - val_accuracy: 0.5075 - 127ms/epoch - 3ms/step\n",
            "Epoch 55/100\n",
            "50/50 - 0s - loss: 0.8050 - accuracy: 0.7297 - val_loss: 2.3262 - val_accuracy: 0.5100 - 139ms/epoch - 3ms/step\n",
            "Epoch 56/100\n",
            "50/50 - 0s - loss: 0.8028 - accuracy: 0.7309 - val_loss: 2.3905 - val_accuracy: 0.5075 - 162ms/epoch - 3ms/step\n",
            "Epoch 57/100\n",
            "50/50 - 0s - loss: 0.7944 - accuracy: 0.7337 - val_loss: 2.4170 - val_accuracy: 0.5225 - 136ms/epoch - 3ms/step\n",
            "Epoch 58/100\n",
            "50/50 - 0s - loss: 0.7905 - accuracy: 0.7300 - val_loss: 2.4803 - val_accuracy: 0.5200 - 136ms/epoch - 3ms/step\n",
            "Epoch 59/100\n",
            "50/50 - 0s - loss: 0.7850 - accuracy: 0.7419 - val_loss: 2.4436 - val_accuracy: 0.5175 - 137ms/epoch - 3ms/step\n",
            "Epoch 60/100\n",
            "50/50 - 0s - loss: 0.7826 - accuracy: 0.7366 - val_loss: 2.4560 - val_accuracy: 0.5200 - 143ms/epoch - 3ms/step\n",
            "Epoch 61/100\n",
            "50/50 - 0s - loss: 0.7757 - accuracy: 0.7403 - val_loss: 2.5279 - val_accuracy: 0.5150 - 133ms/epoch - 3ms/step\n",
            "Epoch 62/100\n",
            "50/50 - 0s - loss: 0.7719 - accuracy: 0.7441 - val_loss: 2.5398 - val_accuracy: 0.5200 - 130ms/epoch - 3ms/step\n",
            "Epoch 63/100\n",
            "50/50 - 0s - loss: 0.7676 - accuracy: 0.7425 - val_loss: 2.5486 - val_accuracy: 0.5225 - 132ms/epoch - 3ms/step\n",
            "Epoch 64/100\n",
            "50/50 - 0s - loss: 0.7630 - accuracy: 0.7400 - val_loss: 2.5274 - val_accuracy: 0.5000 - 125ms/epoch - 3ms/step\n",
            "Epoch 65/100\n",
            "50/50 - 0s - loss: 0.7578 - accuracy: 0.7475 - val_loss: 2.5560 - val_accuracy: 0.5125 - 147ms/epoch - 3ms/step\n",
            "Epoch 66/100\n",
            "50/50 - 0s - loss: 0.7542 - accuracy: 0.7428 - val_loss: 2.6140 - val_accuracy: 0.5100 - 125ms/epoch - 2ms/step\n",
            "Epoch 67/100\n",
            "50/50 - 0s - loss: 0.7496 - accuracy: 0.7516 - val_loss: 2.6213 - val_accuracy: 0.5225 - 128ms/epoch - 3ms/step\n",
            "Epoch 68/100\n",
            "50/50 - 0s - loss: 0.7429 - accuracy: 0.7528 - val_loss: 2.6329 - val_accuracy: 0.5125 - 142ms/epoch - 3ms/step\n",
            "Epoch 69/100\n",
            "50/50 - 0s - loss: 0.7423 - accuracy: 0.7522 - val_loss: 2.6015 - val_accuracy: 0.5150 - 128ms/epoch - 3ms/step\n",
            "Epoch 70/100\n",
            "50/50 - 0s - loss: 0.7371 - accuracy: 0.7519 - val_loss: 2.6277 - val_accuracy: 0.5175 - 134ms/epoch - 3ms/step\n",
            "Epoch 71/100\n",
            "50/50 - 0s - loss: 0.7289 - accuracy: 0.7609 - val_loss: 2.6953 - val_accuracy: 0.5150 - 125ms/epoch - 2ms/step\n",
            "Epoch 72/100\n",
            "50/50 - 0s - loss: 0.7266 - accuracy: 0.7591 - val_loss: 2.6651 - val_accuracy: 0.5075 - 135ms/epoch - 3ms/step\n",
            "Epoch 73/100\n",
            "50/50 - 0s - loss: 0.7231 - accuracy: 0.7569 - val_loss: 2.7272 - val_accuracy: 0.5100 - 140ms/epoch - 3ms/step\n",
            "Epoch 74/100\n",
            "50/50 - 0s - loss: 0.7174 - accuracy: 0.7628 - val_loss: 2.7175 - val_accuracy: 0.5175 - 131ms/epoch - 3ms/step\n",
            "Epoch 75/100\n",
            "50/50 - 0s - loss: 0.7128 - accuracy: 0.7613 - val_loss: 2.7219 - val_accuracy: 0.5250 - 137ms/epoch - 3ms/step\n",
            "Epoch 76/100\n",
            "50/50 - 0s - loss: 0.7098 - accuracy: 0.7650 - val_loss: 2.7278 - val_accuracy: 0.5075 - 143ms/epoch - 3ms/step\n",
            "Epoch 77/100\n",
            "50/50 - 0s - loss: 0.7042 - accuracy: 0.7672 - val_loss: 2.7771 - val_accuracy: 0.5200 - 145ms/epoch - 3ms/step\n",
            "Epoch 78/100\n",
            "50/50 - 0s - loss: 0.6995 - accuracy: 0.7675 - val_loss: 2.7930 - val_accuracy: 0.5300 - 135ms/epoch - 3ms/step\n",
            "Epoch 79/100\n",
            "50/50 - 0s - loss: 0.6960 - accuracy: 0.7638 - val_loss: 2.7796 - val_accuracy: 0.5250 - 143ms/epoch - 3ms/step\n",
            "Epoch 80/100\n",
            "50/50 - 0s - loss: 0.6893 - accuracy: 0.7728 - val_loss: 2.8747 - val_accuracy: 0.5250 - 135ms/epoch - 3ms/step\n",
            "Epoch 81/100\n",
            "50/50 - 0s - loss: 0.6852 - accuracy: 0.7769 - val_loss: 2.8434 - val_accuracy: 0.4975 - 148ms/epoch - 3ms/step\n",
            "Epoch 82/100\n",
            "50/50 - 0s - loss: 0.6791 - accuracy: 0.7728 - val_loss: 2.8450 - val_accuracy: 0.5100 - 143ms/epoch - 3ms/step\n",
            "Epoch 83/100\n",
            "50/50 - 0s - loss: 0.6773 - accuracy: 0.7766 - val_loss: 2.8897 - val_accuracy: 0.5050 - 141ms/epoch - 3ms/step\n",
            "Epoch 84/100\n",
            "50/50 - 0s - loss: 0.6726 - accuracy: 0.7759 - val_loss: 2.9376 - val_accuracy: 0.5200 - 141ms/epoch - 3ms/step\n",
            "Epoch 85/100\n",
            "50/50 - 0s - loss: 0.6682 - accuracy: 0.7741 - val_loss: 2.9178 - val_accuracy: 0.5175 - 139ms/epoch - 3ms/step\n",
            "Epoch 86/100\n",
            "50/50 - 0s - loss: 0.6619 - accuracy: 0.7809 - val_loss: 2.9510 - val_accuracy: 0.5075 - 143ms/epoch - 3ms/step\n",
            "Epoch 87/100\n",
            "50/50 - 0s - loss: 0.6590 - accuracy: 0.7797 - val_loss: 3.0125 - val_accuracy: 0.5175 - 126ms/epoch - 3ms/step\n",
            "Epoch 88/100\n",
            "50/50 - 0s - loss: 0.6536 - accuracy: 0.7850 - val_loss: 3.0676 - val_accuracy: 0.5200 - 130ms/epoch - 3ms/step\n",
            "Epoch 89/100\n",
            "50/50 - 0s - loss: 0.6488 - accuracy: 0.7937 - val_loss: 3.0328 - val_accuracy: 0.5225 - 142ms/epoch - 3ms/step\n",
            "Epoch 90/100\n",
            "50/50 - 0s - loss: 0.6462 - accuracy: 0.7791 - val_loss: 3.0344 - val_accuracy: 0.5025 - 142ms/epoch - 3ms/step\n",
            "Epoch 91/100\n",
            "50/50 - 0s - loss: 0.6407 - accuracy: 0.7862 - val_loss: 3.0492 - val_accuracy: 0.5125 - 148ms/epoch - 3ms/step\n",
            "Epoch 92/100\n",
            "50/50 - 0s - loss: 0.6361 - accuracy: 0.7828 - val_loss: 3.0695 - val_accuracy: 0.5150 - 147ms/epoch - 3ms/step\n",
            "Epoch 93/100\n",
            "50/50 - 0s - loss: 0.6293 - accuracy: 0.7906 - val_loss: 3.0654 - val_accuracy: 0.5175 - 128ms/epoch - 3ms/step\n",
            "Epoch 94/100\n",
            "50/50 - 0s - loss: 0.6284 - accuracy: 0.7875 - val_loss: 3.1347 - val_accuracy: 0.5175 - 129ms/epoch - 3ms/step\n",
            "Epoch 95/100\n",
            "50/50 - 0s - loss: 0.6217 - accuracy: 0.7894 - val_loss: 3.1048 - val_accuracy: 0.5175 - 134ms/epoch - 3ms/step\n",
            "Epoch 96/100\n",
            "50/50 - 0s - loss: 0.6182 - accuracy: 0.7869 - val_loss: 3.1356 - val_accuracy: 0.5175 - 144ms/epoch - 3ms/step\n",
            "Epoch 97/100\n",
            "50/50 - 0s - loss: 0.6157 - accuracy: 0.7922 - val_loss: 3.1848 - val_accuracy: 0.5050 - 140ms/epoch - 3ms/step\n",
            "Epoch 98/100\n",
            "50/50 - 0s - loss: 0.6087 - accuracy: 0.7937 - val_loss: 3.2090 - val_accuracy: 0.5125 - 153ms/epoch - 3ms/step\n",
            "Epoch 99/100\n",
            "50/50 - 0s - loss: 0.6031 - accuracy: 0.7978 - val_loss: 3.1931 - val_accuracy: 0.5100 - 136ms/epoch - 3ms/step\n",
            "Epoch 100/100\n",
            "50/50 - 0s - loss: 0.6011 - accuracy: 0.7972 - val_loss: 3.1936 - val_accuracy: 0.5225 - 144ms/epoch - 3ms/step\n"
          ]
        }
      ],
      "source": [
        "num_epochs = 100\n",
        "batch_size = 16\n",
        "\n",
        "history = model.fit([x_train, y_train[:, :-1]], y_train[:, 1:], #[encoder_input_data, decoder_input_data], decoder_target_data\n",
        "                    batch_size=batch_size,\n",
        "                    epochs=num_epochs,\n",
        "                    validation_data=([x_val, x_val[:, :-1]], y_val[:, 1:]),\n",
        "                    verbose=2)"
      ]
    },
    {
      "cell_type": "code",
      "execution_count": null,
      "metadata": {
        "colab": {
          "base_uri": "https://localhost:8080/",
          "height": 573
        },
        "id": "75SQ2Y-DcwYx",
        "outputId": "154d6968-ee59-4a52-d23a-dba675b4968a"
      },
      "outputs": [
        {
          "data": {
            "image/png": "[encoded data removed]",
            "text/plain": [
              "<Figure size 432x288 with 1 Axes>"
            ]
          },
          "metadata": {
            "needs_background": "light"
          },
          "output_type": "display_data"
        },
        {
          "data": {
            "image/png": "[encoded data removed]",
            "text/plain": [
              "<Figure size 432x288 with 1 Axes>"
            ]
          },
          "metadata": {
            "needs_background": "light"
          },
          "output_type": "display_data"
        }
      ],
      "source": [
        "import matplotlib.pyplot as plt\n",
        "\n",
        "def plot_history(data_list, label_list, title, ylabel):\n",
        "    ''' Plots a list of vectors.\n",
        "\n",
        "    Parameters:\n",
        "        data_list  : list of vectors containing the values to plot\n",
        "        label_list : list of labels describing the data, one per vector\n",
        "        title      : title of the plot\n",
        "        ylabel     : label for the y axis\n",
        "    '''\n",
        "    epochs = range(1, len(data_list[0]) + 1)\n",
        "\n",
        "    for data, label in zip(data_list, label_list):\n",
        "        plt.plot(epochs, data, label=label)\n",
        "    plt.title(title)\n",
        "    plt.xlabel('Epochs')\n",
        "    plt.ylabel(ylabel)\n",
        "    plt.legend()\n",
        "\n",
        "    plt.show()\n",
        "    \n",
        "acc = history.history['accuracy']\n",
        "val_acc = history.history['val_accuracy']\n",
        "loss = history.history['loss']\n",
        "val_loss = history.history['val_loss']\n",
        "\n",
        "plot_history(data_list=[loss, val_loss],\n",
        "             label_list=['Training loss', 'Validation loss'],\n",
        "             title='Training and validation loss',\n",
        "             ylabel='Loss')\n",
        "plot_history(data_list=[acc, val_acc],\n",
        "             label_list=['Training acc.', 'Validation acc.'],\n",
        "             title='Training and validation accuracy',\n",
        "             ylabel='Accuracy')"
      ]
    },
    {
      "cell_type": "markdown",
      "metadata": {
        "id": "zQqSy7WYc_-c"
      },
      "source": [
        "### Exercise 4 - Building the model for inference"
      ]
    },
    {
      "cell_type": "code",
      "execution_count": null,
      "metadata": {
        "id": "c2hp9P2VdA9n"
      },
      "outputs": [],
      "source": [
        "encoder_model = Model(encoder_inputs, encoder_state)\n",
        "\n",
        "decoder_state_input = Input(shape=(hidden_size,))\n",
        "decoder_outputs, decoder_state = decoder_rnn_layer(\n",
        "    decoder_inputs, initial_state=decoder_state_input)\n",
        "decoder_outputs = decoder_dense(decoder_outputs)\n",
        "\n",
        "decoder_model = Model(\n",
        "    [decoder_inputs, decoder_state_input],\n",
        "    [decoder_outputs, decoder_state])"
      ]
    },
    {
      "cell_type": "code",
      "execution_count": null,
      "metadata": {
        "id": "LNWPKEWSdGNa"
      },
      "outputs": [],
      "source": [
        "def decode_sequence(input_seq, max_decoder_seq_length):\n",
        "    # Encode the input as state vectors.\n",
        "    state_value = encoder_model.predict(input_seq)\n",
        "\n",
        "    # Generate empty target sequence of length 1.\n",
        "    target_seq = np.zeros((1, 1, ctable.num_tokens))\n",
        "    # Populate the first character of target sequence with the start character.\n",
        "    target_seq[0, 0, ctable.char_indices['s']] = 1.\n",
        "\n",
        "    # Sampling loop for a batch of sequences\n",
        "    # (to simplify, here we assume a batch of size 1).\n",
        "    stop_condition = False\n",
        "    decoded_sentence = ''\n",
        "    while not stop_condition:\n",
        "        output_tokens, state_value = decoder_model.predict(\n",
        "            [target_seq, state_value])\n",
        "\n",
        "        # Sample a token\n",
        "        sampled_token_index = np.argmax(output_tokens[0, -1, :])\n",
        "        sampled_char = ctable.indices_char[sampled_token_index]\n",
        "        decoded_sentence += sampled_char\n",
        "\n",
        "        # Exit condition: either hit max length\n",
        "        # or find stop character.\n",
        "        if (sampled_char == 'e' or\n",
        "           len(decoded_sentence) > max_decoder_seq_length):\n",
        "            stop_condition = True\n",
        "\n",
        "        # Update the target sequence (of length 1).\n",
        "        target_seq = np.zeros((1, 1, ctable.num_tokens))\n",
        "        target_seq[0, 0, sampled_token_index] = 1.\n",
        "\n",
        "    return decoded_sentence\n"
      ]
    },
    {
      "cell_type": "code",
      "execution_count": null,
      "metadata": {
        "colab": {
          "base_uri": "https://localhost:8080/"
        },
        "id": "SDt_tEuWdLMT",
        "outputId": "aa6e78fe-a159-4c1c-b0da-5c1d0483cb2d"
      },
      "outputs": [
        {
          "name": "stdout",
          "output_type": "stream",
          "text": [
            "Q 36+13 T 49 \u001b[91m☒\u001b[0m 50\n",
            "Q 30+57 T 87 \u001b[91m☒\u001b[0m 89\n",
            "Q 63+91 T 154 \u001b[92m☑\u001b[0m 154\n",
            "Q 13+77 T 90 \u001b[91m☒\u001b[0m 98\n",
            "Q 4+75 T 79 \u001b[91m☒\u001b[0m 89\n",
            "Q 16+50 T 66 \u001b[91m☒\u001b[0m 60\n",
            "Q 53+76 T 129 \u001b[92m☑\u001b[0m 129\n",
            "Q 91+47 T 138 \u001b[91m☒\u001b[0m 139\n",
            "Q 47+93 T 140 \u001b[91m☒\u001b[0m 149\n",
            "Q 36+13 T 49 \u001b[91m☒\u001b[0m 50\n"
          ]
        }
      ],
      "source": [
        "class colors:\n",
        "    ok = '\\033[92m'\n",
        "    fail = '\\033[91m'\n",
        "    close = '\\033[0m'\n",
        "    \n",
        "# Select 10 samples from the validation set at random so we can visualize\n",
        "# errors.\n",
        "for i in range(10):\n",
        "    ind = np.random.randint(0, len(x_test))\n",
        "    q, ea = x_test[np.array([ind])], y_test[np.array([ind])]\n",
        "    pred = decode_sequence(q, max_num_digits + 2)[:-1]\n",
        "    q = ctable.decode(q[0])\n",
        "    correct = ctable.decode(ea[0])[1:-1]\n",
        "    print('Q', q[::-1] if reverse else q, end=' ')\n",
        "    print('T', correct, end=' ')\n",
        "    if correct == pred:\n",
        "        print(colors.ok + '☑' + colors.close, end=' ')\n",
        "    else:\n",
        "        print(colors.fail + '☒' + colors.close, end=' ')\n",
        "    print(pred)"
      ]
    }
  ],
  "metadata": {
    "colab": {
      "collapsed_sections": [
        "5-yF0Cb5HlD1"
      ],
      "provenance": []
    },
    "kernelspec": {
      "display_name": "Python 3 (ipykernel)",
      "language": "python",
      "name": "python3"
    },
    "language_info": {
      "codemirror_mode": {
        "name": "ipython",
        "version": 3
      },
      "file_extension": ".py",
      "mimetype": "text/x-python",
      "name": "python",
      "nbconvert_exporter": "python",
      "pygments_lexer": "ipython3",
      "version": "3.7.4"
    }
  },
  "nbformat": 4,
  "nbformat_minor": 0
}
