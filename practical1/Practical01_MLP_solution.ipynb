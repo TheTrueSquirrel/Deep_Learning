{
 "cells": [
  {
   "cell_type": "markdown",
   "metadata": {
    "id": "a1ce1dde-0b94-4e3d-8e57-dacbac8f4b1d"
   },
   "source": [
    "# Deep Learning\n",
    "## Practical Session 01\n",
    "Görkem Saygili & Busra Ozgode Yigin, Department of Cognitive Science and Artificial Intelligence – Tilburg University"
   ]
  },
  {
   "cell_type": "markdown",
   "metadata": {
    "id": "fc258712-34e9-4c80-a749-9be56cf66114"
   },
   "source": [
    "In this worksheet, we will introduce two datasets for regression and classification; [World Happiness Report Dataset](https://www.kaggle.com/datasets/unsdsn/world-happiness) and [Churn Modelling Dataset](https://www.kaggle.com/datasets/shrutimechlearn/churn-modelling?select=Churn_Modelling.csv).\n",
    "\n",
    "The goal of the exercise is to build and use a simple feedforward neural networks to perform \"regression\", that is predict a continuous value based on some input variables. Examples of regression problems are predicting the temperature tomorrow, given meteorological data, or predicting the time that a software project will take to be completed, given its specifications.\n",
    "\n",
    "In this serie of  tutorials, we will use Keras deep learning library. Keras provides a high-level API for TensorFlow, CNTK, or Theano. Written in Python, it was developed with a focus on enabling easy and fast experimentation with deep neural networks, abstracting away some of its complexity. Before we start, we have to import it:"
   ]
  },
  {
   "cell_type": "code",
   "execution_count": 1,
   "metadata": {
    "colab": {
     "base_uri": "https://localhost:8080/",
     "height": 35
    },
    "executionInfo": {
     "elapsed": 589,
     "status": "ok",
     "timestamp": 1662136116466,
     "user": {
      "displayName": "Büşra Özgöde Yigin",
      "userId": "13797786838741619288"
     },
     "user_tz": -120
    },
    "id": "1a52d2de-497d-4ffe-9071-c1e70c15bdff",
    "outputId": "99e25675-507e-4ed1-e265-fdc1c22c6240"
   },
   "outputs": [
    {
     "data": {
      "text/plain": [
       "'2.7.0'"
      ]
     },
     "execution_count": 1,
     "metadata": {},
     "output_type": "execute_result"
    }
   ],
   "source": [
    "import keras\n",
    "keras.__version__"
   ]
  },
  {
   "cell_type": "markdown",
   "metadata": {
    "id": "22cde07c-a18c-4230-b448-61a8af58457c"
   },
   "source": [
    "## World Happiness Report Dataset"
   ]
  },
  {
   "cell_type": "markdown",
   "metadata": {
    "id": "ebf7851a-0c90-4806-abbb-310ac3662305"
   },
   "source": [
    "The World Happiness Report is a landmark survey of the state of global happiness. This dataset contains the Happiness Score for 156 countries along with the factors used to explain the score. The happiness scores and rankings data has been collected by asking individuals to rank their life from 0 (worst possible life) to 10 (best possible life).\n"
   ]
  },
  {
   "cell_type": "markdown",
   "metadata": {
    "id": "f628b507-ccbd-44e3-8424-a7b8af9a4704"
   },
   "source": [
    "## Loading Dataset"
   ]
  },
  {
   "cell_type": "code",
   "execution_count": 3,
   "metadata": {
    "id": "95f18bea-cc84-4a9b-a580-c5323a7facb6"
   },
   "outputs": [],
   "source": [
    "import pandas as pd\n",
    "import numpy as np\n",
    "\n",
    "df_2015 = pd.read_csv('2015.csv')\n",
    "df_2016 = pd.read_csv('2016.csv')"
   ]
  },
  {
   "cell_type": "markdown",
   "metadata": {
    "id": "e46b34d5-d7b1-4e05-9c12-57ec522af860"
   },
   "source": [
    "We will use two different .csv file for years 2015 and 2016. In each file there are different number of samples and features. The total 11 features in the dataset are as follow:\n",
    "\n",
    "0. Country: The country in question\n",
    "\n",
    "1. Region: The region that the country belongs to (different than continent)\n",
    "\n",
    "2. Happiness Rank: Rank of the country based on the Happiness Score.\n",
    "\n",
    "3. Happiness Score: A metric measured by asking the subjects the question: \"How would you rate your happiness on a scale of 0 to 10 where 10 is the happiest.\"\n",
    "\n",
    "4. Standard Error: The standard error of the happiness score.\n",
    "\n",
    "5. Economy (GDP per Capita): individuals rank the quality of life based on the amount they earn\n",
    "\n",
    "6. Family: quality of family life, nuclear and joint family\n",
    "\n",
    "7. Health: ranking healthcare availability and average life expectancy in the country\n",
    "\n",
    "8. Freedom: how much an individual is able to conduct themselves based on their free will\n",
    "\n",
    "9. Trust: in the government to not be corrupt\n",
    "\n",
    "10. Generosity: how much their country is involved in peacekeeping and global aid\n",
    "\n",
    "11. Dystopia Residual: Dystopia happiness score (1.85) i.e. the score of a hypothetical country that has a lower rank than the lowest ranking country on the report, plus the residual value of each country (a number that is left over from the normalization of the variables which cannot be explained).\n",
    "\n",
    "Happiness Score will be our target values. We need some preprocessing steps to rearrange the features of the dataset for each year."
   ]
  },
  {
   "cell_type": "markdown",
   "metadata": {
    "id": "fa44069c-5f5f-496f-b61b-8b450ccfaa38"
   },
   "source": [
    "## Preprocessing \n",
    "Rearranging the columns of each data so that they can be joined."
   ]
  },
  {
   "cell_type": "code",
   "execution_count": 4,
   "metadata": {
    "colab": {
     "base_uri": "https://localhost:8080/",
     "height": 268
    },
    "executionInfo": {
     "elapsed": 72,
     "status": "ok",
     "timestamp": 1662136116472,
     "user": {
      "displayName": "Büşra Özgöde Yigin",
      "userId": "13797786838741619288"
     },
     "user_tz": -120
    },
    "id": "4ed54736-05c0-43c6-afc7-5a4b8c0bf2dc",
    "outputId": "077b54c3-4184-45e9-979f-3d8f7f612343"
   },
   "outputs": [
    {
     "data": {
      "text/html": [
       "<div>\n",
       "<style scoped>\n",
       "    .dataframe tbody tr th:only-of-type {\n",
       "        vertical-align: middle;\n",
       "    }\n",
       "\n",
       "    .dataframe tbody tr th {\n",
       "        vertical-align: top;\n",
       "    }\n",
       "\n",
       "    .dataframe thead th {\n",
       "        text-align: right;\n",
       "    }\n",
       "</style>\n",
       "<table border=\"1\" class=\"dataframe\">\n",
       "  <thead>\n",
       "    <tr style=\"text-align: right;\">\n",
       "      <th></th>\n",
       "      <th>Happiness Score</th>\n",
       "      <th>Economy (GDP per Capita)</th>\n",
       "      <th>Family</th>\n",
       "      <th>Health (Life Expectancy)</th>\n",
       "      <th>Freedom</th>\n",
       "      <th>Trust (Government Corruption)</th>\n",
       "      <th>Generosity</th>\n",
       "    </tr>\n",
       "  </thead>\n",
       "  <tbody>\n",
       "    <tr>\n",
       "      <th>0</th>\n",
       "      <td>7.587</td>\n",
       "      <td>1.39651</td>\n",
       "      <td>1.34951</td>\n",
       "      <td>0.94143</td>\n",
       "      <td>0.66557</td>\n",
       "      <td>0.41978</td>\n",
       "      <td>0.29678</td>\n",
       "    </tr>\n",
       "    <tr>\n",
       "      <th>1</th>\n",
       "      <td>7.561</td>\n",
       "      <td>1.30232</td>\n",
       "      <td>1.40223</td>\n",
       "      <td>0.94784</td>\n",
       "      <td>0.62877</td>\n",
       "      <td>0.14145</td>\n",
       "      <td>0.43630</td>\n",
       "    </tr>\n",
       "    <tr>\n",
       "      <th>2</th>\n",
       "      <td>7.527</td>\n",
       "      <td>1.32548</td>\n",
       "      <td>1.36058</td>\n",
       "      <td>0.87464</td>\n",
       "      <td>0.64938</td>\n",
       "      <td>0.48357</td>\n",
       "      <td>0.34139</td>\n",
       "    </tr>\n",
       "    <tr>\n",
       "      <th>3</th>\n",
       "      <td>7.522</td>\n",
       "      <td>1.45900</td>\n",
       "      <td>1.33095</td>\n",
       "      <td>0.88521</td>\n",
       "      <td>0.66973</td>\n",
       "      <td>0.36503</td>\n",
       "      <td>0.34699</td>\n",
       "    </tr>\n",
       "    <tr>\n",
       "      <th>4</th>\n",
       "      <td>7.427</td>\n",
       "      <td>1.32629</td>\n",
       "      <td>1.32261</td>\n",
       "      <td>0.90563</td>\n",
       "      <td>0.63297</td>\n",
       "      <td>0.32957</td>\n",
       "      <td>0.45811</td>\n",
       "    </tr>\n",
       "  </tbody>\n",
       "</table>\n",
       "</div>"
      ],
      "text/plain": [
       "   Happiness Score  Economy (GDP per Capita)   Family  \\\n",
       "0            7.587                   1.39651  1.34951   \n",
       "1            7.561                   1.30232  1.40223   \n",
       "2            7.527                   1.32548  1.36058   \n",
       "3            7.522                   1.45900  1.33095   \n",
       "4            7.427                   1.32629  1.32261   \n",
       "\n",
       "   Health (Life Expectancy)  Freedom  Trust (Government Corruption)  \\\n",
       "0                   0.94143  0.66557                        0.41978   \n",
       "1                   0.94784  0.62877                        0.14145   \n",
       "2                   0.87464  0.64938                        0.48357   \n",
       "3                   0.88521  0.66973                        0.36503   \n",
       "4                   0.90563  0.63297                        0.32957   \n",
       "\n",
       "   Generosity  \n",
       "0     0.29678  \n",
       "1     0.43630  \n",
       "2     0.34139  \n",
       "3     0.34699  \n",
       "4     0.45811  "
      ]
     },
     "execution_count": 4,
     "metadata": {},
     "output_type": "execute_result"
    }
   ],
   "source": [
    "df_2015_2 = df_2015.drop(['Country','Region','Happiness Rank','Standard Error','Dystopia Residual'], axis=1, inplace=False)\n",
    "df_2015_2.head()"
   ]
  },
  {
   "cell_type": "code",
   "execution_count": 5,
   "metadata": {
    "colab": {
     "base_uri": "https://localhost:8080/",
     "height": 268
    },
    "executionInfo": {
     "elapsed": 71,
     "status": "ok",
     "timestamp": 1662136116473,
     "user": {
      "displayName": "Büşra Özgöde Yigin",
      "userId": "13797786838741619288"
     },
     "user_tz": -120
    },
    "id": "39a80b3b-68b9-4ae4-a7b0-d624eb5a3910",
    "outputId": "1400f1ce-66ff-44c6-bb1c-64b8b6845e83"
   },
   "outputs": [
    {
     "data": {
      "text/html": [
       "<div>\n",
       "<style scoped>\n",
       "    .dataframe tbody tr th:only-of-type {\n",
       "        vertical-align: middle;\n",
       "    }\n",
       "\n",
       "    .dataframe tbody tr th {\n",
       "        vertical-align: top;\n",
       "    }\n",
       "\n",
       "    .dataframe thead th {\n",
       "        text-align: right;\n",
       "    }\n",
       "</style>\n",
       "<table border=\"1\" class=\"dataframe\">\n",
       "  <thead>\n",
       "    <tr style=\"text-align: right;\">\n",
       "      <th></th>\n",
       "      <th>Happiness Score</th>\n",
       "      <th>Economy (GDP per Capita)</th>\n",
       "      <th>Family</th>\n",
       "      <th>Health (Life Expectancy)</th>\n",
       "      <th>Freedom</th>\n",
       "      <th>Trust (Government Corruption)</th>\n",
       "      <th>Generosity</th>\n",
       "    </tr>\n",
       "  </thead>\n",
       "  <tbody>\n",
       "    <tr>\n",
       "      <th>0</th>\n",
       "      <td>7.526</td>\n",
       "      <td>1.44178</td>\n",
       "      <td>1.16374</td>\n",
       "      <td>0.79504</td>\n",
       "      <td>0.57941</td>\n",
       "      <td>0.44453</td>\n",
       "      <td>0.36171</td>\n",
       "    </tr>\n",
       "    <tr>\n",
       "      <th>1</th>\n",
       "      <td>7.509</td>\n",
       "      <td>1.52733</td>\n",
       "      <td>1.14524</td>\n",
       "      <td>0.86303</td>\n",
       "      <td>0.58557</td>\n",
       "      <td>0.41203</td>\n",
       "      <td>0.28083</td>\n",
       "    </tr>\n",
       "    <tr>\n",
       "      <th>2</th>\n",
       "      <td>7.501</td>\n",
       "      <td>1.42666</td>\n",
       "      <td>1.18326</td>\n",
       "      <td>0.86733</td>\n",
       "      <td>0.56624</td>\n",
       "      <td>0.14975</td>\n",
       "      <td>0.47678</td>\n",
       "    </tr>\n",
       "    <tr>\n",
       "      <th>3</th>\n",
       "      <td>7.498</td>\n",
       "      <td>1.57744</td>\n",
       "      <td>1.12690</td>\n",
       "      <td>0.79579</td>\n",
       "      <td>0.59609</td>\n",
       "      <td>0.35776</td>\n",
       "      <td>0.37895</td>\n",
       "    </tr>\n",
       "    <tr>\n",
       "      <th>4</th>\n",
       "      <td>7.413</td>\n",
       "      <td>1.40598</td>\n",
       "      <td>1.13464</td>\n",
       "      <td>0.81091</td>\n",
       "      <td>0.57104</td>\n",
       "      <td>0.41004</td>\n",
       "      <td>0.25492</td>\n",
       "    </tr>\n",
       "  </tbody>\n",
       "</table>\n",
       "</div>"
      ],
      "text/plain": [
       "   Happiness Score  Economy (GDP per Capita)   Family  \\\n",
       "0            7.526                   1.44178  1.16374   \n",
       "1            7.509                   1.52733  1.14524   \n",
       "2            7.501                   1.42666  1.18326   \n",
       "3            7.498                   1.57744  1.12690   \n",
       "4            7.413                   1.40598  1.13464   \n",
       "\n",
       "   Health (Life Expectancy)  Freedom  Trust (Government Corruption)  \\\n",
       "0                   0.79504  0.57941                        0.44453   \n",
       "1                   0.86303  0.58557                        0.41203   \n",
       "2                   0.86733  0.56624                        0.14975   \n",
       "3                   0.79579  0.59609                        0.35776   \n",
       "4                   0.81091  0.57104                        0.41004   \n",
       "\n",
       "   Generosity  \n",
       "0     0.36171  \n",
       "1     0.28083  \n",
       "2     0.47678  \n",
       "3     0.37895  \n",
       "4     0.25492  "
      ]
     },
     "execution_count": 5,
     "metadata": {},
     "output_type": "execute_result"
    }
   ],
   "source": [
    "\n",
    "df_2016_2 = df_2016.drop(['Country','Region','Happiness Rank','Lower Confidence Interval','Upper Confidence Interval','Dystopia Residual'], axis=1, inplace=False)\n",
    "df_2016_2.head()"
   ]
  },
  {
   "cell_type": "markdown",
   "metadata": {
    "id": "kCxW2qwMPYKF"
   },
   "source": [
    "We can use 'concat' function from pandas library to concatanate two data file.\n",
    "\n",
    "\n",
    "\n"
   ]
  },
  {
   "cell_type": "code",
   "execution_count": 6,
   "metadata": {
    "colab": {
     "base_uri": "https://localhost:8080/"
    },
    "executionInfo": {
     "elapsed": 96,
     "status": "ok",
     "timestamp": 1662136116501,
     "user": {
      "displayName": "Büşra Özgöde Yigin",
      "userId": "13797786838741619288"
     },
     "user_tz": -120
    },
    "id": "0555b5d9-481b-43ae-9e58-ecf86e0d5537",
    "outputId": "d9475b59-e908-4999-d8ac-d6ddd58e78ba"
   },
   "outputs": [
    {
     "name": "stdout",
     "output_type": "stream",
     "text": [
      "(315, 7)\n"
     ]
    }
   ],
   "source": [
    "final_df= pd.concat([df_2015_2, df_2016_2], axis=0)\n",
    "print(final_df.shape)"
   ]
  },
  {
   "cell_type": "code",
   "execution_count": 7,
   "metadata": {
    "colab": {
     "base_uri": "https://localhost:8080/",
     "height": 362
    },
    "executionInfo": {
     "elapsed": 95,
     "status": "ok",
     "timestamp": 1662136116504,
     "user": {
      "displayName": "Büşra Özgöde Yigin",
      "userId": "13797786838741619288"
     },
     "user_tz": -120
    },
    "id": "1bde84c5-b225-41d0-9a3f-8770454f95d0",
    "outputId": "19963474-6997-4037-c963-208982854d2e"
   },
   "outputs": [
    {
     "data": {
      "text/html": [
       "<div>\n",
       "<style scoped>\n",
       "    .dataframe tbody tr th:only-of-type {\n",
       "        vertical-align: middle;\n",
       "    }\n",
       "\n",
       "    .dataframe tbody tr th {\n",
       "        vertical-align: top;\n",
       "    }\n",
       "\n",
       "    .dataframe thead th {\n",
       "        text-align: right;\n",
       "    }\n",
       "</style>\n",
       "<table border=\"1\" class=\"dataframe\">\n",
       "  <thead>\n",
       "    <tr style=\"text-align: right;\">\n",
       "      <th></th>\n",
       "      <th>Happiness Score</th>\n",
       "      <th>Economy (GDP per Capita)</th>\n",
       "      <th>Family</th>\n",
       "      <th>Health (Life Expectancy)</th>\n",
       "      <th>Freedom</th>\n",
       "      <th>Trust (Government Corruption)</th>\n",
       "      <th>Generosity</th>\n",
       "    </tr>\n",
       "  </thead>\n",
       "  <tbody>\n",
       "    <tr>\n",
       "      <th>count</th>\n",
       "      <td>315.000000</td>\n",
       "      <td>315.000000</td>\n",
       "      <td>315.000000</td>\n",
       "      <td>315.000000</td>\n",
       "      <td>315.000000</td>\n",
       "      <td>315.000000</td>\n",
       "      <td>315.000000</td>\n",
       "    </tr>\n",
       "    <tr>\n",
       "      <th>mean</th>\n",
       "      <td>5.378949</td>\n",
       "      <td>0.899837</td>\n",
       "      <td>0.892647</td>\n",
       "      <td>0.594054</td>\n",
       "      <td>0.399896</td>\n",
       "      <td>0.140532</td>\n",
       "      <td>0.239957</td>\n",
       "    </tr>\n",
       "    <tr>\n",
       "      <th>std</th>\n",
       "      <td>1.141531</td>\n",
       "      <td>0.410780</td>\n",
       "      <td>0.286718</td>\n",
       "      <td>0.240790</td>\n",
       "      <td>0.150684</td>\n",
       "      <td>0.115490</td>\n",
       "      <td>0.130077</td>\n",
       "    </tr>\n",
       "    <tr>\n",
       "      <th>min</th>\n",
       "      <td>2.839000</td>\n",
       "      <td>0.000000</td>\n",
       "      <td>0.000000</td>\n",
       "      <td>0.000000</td>\n",
       "      <td>0.000000</td>\n",
       "      <td>0.000000</td>\n",
       "      <td>0.000000</td>\n",
       "    </tr>\n",
       "    <tr>\n",
       "      <th>25%</th>\n",
       "      <td>4.510000</td>\n",
       "      <td>0.594900</td>\n",
       "      <td>0.739880</td>\n",
       "      <td>0.419645</td>\n",
       "      <td>0.295890</td>\n",
       "      <td>0.061315</td>\n",
       "      <td>0.151430</td>\n",
       "    </tr>\n",
       "    <tr>\n",
       "      <th>50%</th>\n",
       "      <td>5.286000</td>\n",
       "      <td>0.973060</td>\n",
       "      <td>0.937930</td>\n",
       "      <td>0.640450</td>\n",
       "      <td>0.413190</td>\n",
       "      <td>0.106130</td>\n",
       "      <td>0.218540</td>\n",
       "    </tr>\n",
       "    <tr>\n",
       "      <th>75%</th>\n",
       "      <td>6.269000</td>\n",
       "      <td>1.229000</td>\n",
       "      <td>1.087360</td>\n",
       "      <td>0.787640</td>\n",
       "      <td>0.516730</td>\n",
       "      <td>0.178610</td>\n",
       "      <td>0.311450</td>\n",
       "    </tr>\n",
       "    <tr>\n",
       "      <th>max</th>\n",
       "      <td>7.587000</td>\n",
       "      <td>1.824270</td>\n",
       "      <td>1.402230</td>\n",
       "      <td>1.025250</td>\n",
       "      <td>0.669730</td>\n",
       "      <td>0.551910</td>\n",
       "      <td>0.819710</td>\n",
       "    </tr>\n",
       "  </tbody>\n",
       "</table>\n",
       "</div>"
      ],
      "text/plain": [
       "       Happiness Score  Economy (GDP per Capita)      Family  \\\n",
       "count       315.000000                315.000000  315.000000   \n",
       "mean          5.378949                  0.899837    0.892647   \n",
       "std           1.141531                  0.410780    0.286718   \n",
       "min           2.839000                  0.000000    0.000000   \n",
       "25%           4.510000                  0.594900    0.739880   \n",
       "50%           5.286000                  0.973060    0.937930   \n",
       "75%           6.269000                  1.229000    1.087360   \n",
       "max           7.587000                  1.824270    1.402230   \n",
       "\n",
       "       Health (Life Expectancy)     Freedom  Trust (Government Corruption)  \\\n",
       "count                315.000000  315.000000                     315.000000   \n",
       "mean                   0.594054    0.399896                       0.140532   \n",
       "std                    0.240790    0.150684                       0.115490   \n",
       "min                    0.000000    0.000000                       0.000000   \n",
       "25%                    0.419645    0.295890                       0.061315   \n",
       "50%                    0.640450    0.413190                       0.106130   \n",
       "75%                    0.787640    0.516730                       0.178610   \n",
       "max                    1.025250    0.669730                       0.551910   \n",
       "\n",
       "       Generosity  \n",
       "count  315.000000  \n",
       "mean     0.239957  \n",
       "std      0.130077  \n",
       "min      0.000000  \n",
       "25%      0.151430  \n",
       "50%      0.218540  \n",
       "75%      0.311450  \n",
       "max      0.819710  "
      ]
     },
     "execution_count": 7,
     "metadata": {},
     "output_type": "execute_result"
    }
   ],
   "source": [
    "final_df.describe()"
   ]
  },
  {
   "cell_type": "code",
   "execution_count": 8,
   "metadata": {
    "colab": {
     "base_uri": "https://localhost:8080/"
    },
    "executionInfo": {
     "elapsed": 100,
     "status": "ok",
     "timestamp": 1662136116510,
     "user": {
      "displayName": "Büşra Özgöde Yigin",
      "userId": "13797786838741619288"
     },
     "user_tz": -120
    },
    "id": "1081b958-0efd-492e-ae77-d57607817849",
    "outputId": "a611f64c-2910-4a1f-c9d9-6f3b77cb5544"
   },
   "outputs": [
    {
     "data": {
      "text/plain": [
       "Happiness Score                  0\n",
       "Economy (GDP per Capita)         0\n",
       "Family                           0\n",
       "Health (Life Expectancy)         0\n",
       "Freedom                          0\n",
       "Trust (Government Corruption)    0\n",
       "Generosity                       0\n",
       "dtype: int64"
      ]
     },
     "execution_count": 8,
     "metadata": {},
     "output_type": "execute_result"
    }
   ],
   "source": [
    "final_df.isnull().sum()"
   ]
  },
  {
   "cell_type": "code",
   "execution_count": 9,
   "metadata": {
    "colab": {
     "base_uri": "https://localhost:8080/"
    },
    "executionInfo": {
     "elapsed": 135,
     "status": "ok",
     "timestamp": 1662136116553,
     "user": {
      "displayName": "Büşra Özgöde Yigin",
      "userId": "13797786838741619288"
     },
     "user_tz": -120
    },
    "id": "7cf62d8c-25a5-4916-89b9-15b75610ab7c",
    "outputId": "c8ceac6f-875a-4990-cb20-053648d9d015"
   },
   "outputs": [
    {
     "name": "stdout",
     "output_type": "stream",
     "text": [
      "(252, 6)\n",
      "(63, 6)\n",
      "(252, 1)\n",
      "(63, 1)\n"
     ]
    }
   ],
   "source": [
    "input_cols = final_df.columns.drop('Happiness Score')\n",
    "target_cols= ['Happiness Score']\n",
    "\n",
    "from sklearn.model_selection import train_test_split\n",
    "X_train, X_test, y_train, y_test = train_test_split(final_df[input_cols], final_df[target_cols], test_size= 0.2, shuffle=True, random_state=42)\n",
    "\n",
    "print(X_train.shape)\n",
    "print(X_test.shape)\n",
    "print(y_train.shape)\n",
    "print(y_test.shape)"
   ]
  },
  {
   "cell_type": "markdown",
   "metadata": {
    "id": "890c3f64-3772-416a-a1c5-5c906c3db17f"
   },
   "source": [
    "## Exercise 1 - Preparing the data\n",
    "\n",
    "\n",
    "The features composing the input data have different scales. For instance some values are proportions, which take values between 0 and 1, others take values between 1 and 12, others between 0 and 100... It would be problematic to feed into a neural network values that all take wildly different ranges. The network might be able to automatically adapt to such heterogeneous data, but it would definitely make learning more difficult. A widespread best practice to deal with such data is to do feature-wise standardization: for each feature in the input data (a column in the input data matrix), we will subtract the mean of the feature and divide by the standard deviation, so that the feature will be centered around 0 and will have a unit standard deviation.\n",
    "<br><br>\n",
    "\n",
    "<center><span style=\"font-size: 150%\">$ x_{standardized} = \\frac{x - \\mu}{\\sigma} $</span></center>\n",
    "\n",
    "<div class=\"alert alert-block alert-warning\">\n",
    "    <b>Note:</b>\n",
    "    The quantities that we use for normalizing the test data have to be computed using the training data. We should never use in our workflow any quantity computed on the test data, even for something as simple as data normalization.\n",
    "</div>"
   ]
  },
  {
   "cell_type": "code",
   "execution_count": 10,
   "metadata": {
    "id": "03058724-5165-4441-8445-9c214a770940"
   },
   "outputs": [],
   "source": [
    "# Standardization of training and testing input data\n",
    "\n",
    "### PUT YOUR CODE HERE ###\n",
    "# Computing mean and standard deviation of the training data\n",
    "mean = X_train.mean(axis=0)\n",
    "std = X_train.std(axis=0)\n",
    "\n",
    "# Standardizing training and test data\n",
    "X_train = (X_train - mean) / std\n",
    "X_test = (X_test - mean) / std\n",
    "### END ###"
   ]
  },
  {
   "cell_type": "markdown",
   "metadata": {
    "id": "bab81bae-f3ca-404b-a6ff-278c5a5a696b"
   },
   "source": [
    "## Exercise 2 - Building our network\n",
    "\n",
    "Because so few samples are available, we will be using a very small network with two hidden layers, each with 64 units. In general, the less training data you have, the worse overfitting will be, and using a small network is one way to mitigate overfitting.\n",
    "\n",
    "To instantiate the model, we will use [a sequential model](https://keras.io/getting-started/sequential-model-guide), which allows to create a neural network simply by stacking layers. Given some input data, Keras can then automatically perform the forward pass for us based on the network's definition. Backpropagation of the error is also handled automatically by the framework given an optimizer and a loss function (specified when we `compile` the model).\n",
    "\n",
    "`Dense` layer implements the operation: output = activation(dot(input, kernel) + bias) where activation is the element-wise activation function passed as the activation argument, kernel is a weights matrix created by the layer, and bias is a bias vector created by the layer (only applicable if use_bias is True).\n",
    "\n",
    "Create a sequential model and add the three layers (two hidden layers + the output layer). We will use the ReLU activation function for the two hidden layers. Compile the model using the `rmsprop` optimizer, an appropriate loss and the mean absolute error (`mae`) metric."
   ]
  },
  {
   "cell_type": "code",
   "execution_count": 11,
   "metadata": {
    "id": "c12fe011-cca1-4629-8e2b-13ff885a99c4"
   },
   "outputs": [],
   "source": [
    "from keras import models\n",
    "from keras import layers\n",
    "from keras import Input\n",
    "\n",
    "def build_model():\n",
    "    # Because we will need to instantiate\n",
    "    # the same model multiple times,\n",
    "    # we use a function to construct it.\n",
    "    \n",
    "    ### PUT YOUR CODE HERE ###\n",
    "    model = models.Sequential()\n",
    "    #input shape can be added sperately in an Input layer or in the first Dense layer.\n",
    "    #model.add(Input(shape=(X_train.shape[1],))) \n",
    "    model.add(layers.Dense(64, activation='relu',\n",
    "                           input_shape=(X_train.shape[1],)))\n",
    "    model.add(layers.Dense(64, activation='relu'))\n",
    "    model.add(layers.Dense(1))\n",
    "    model.compile(optimizer='rmsprop', loss='mse', metrics=['mae'])\n",
    "    \n",
    "    ### END ###\n",
    "    \n",
    "    return model"
   ]
  },
  {
   "cell_type": "markdown",
   "metadata": {
    "id": "VfmjAJ-pDI1O"
   },
   "source": [
    "<div class=\"alert alert-block alert-info\">\n",
    "<b>Additional information</b>\n",
    "    \n",
    "Our network ends with a single unit, and no activation (i.e. it will be a linear layer). This is a typical setup for scalar regression (i.e. regression where we are trying to predict a single continuous  value). Applying an activation function would constrain the range that the output can take; for instance if we applied a `sigmoid` activation function to our last layer, the network could only learn to predict values between 0 and 1. Here, because the last layer is purely linear, the network is free to learn to predict values in any range.\n",
    "\n",
    "Note that we are compiling the network with the `mse` loss function -- Mean Squared Error, the square of the difference between the predictions and the targets, a widely used loss function for regression problems.\n",
    "    \n",
    "We are also monitoring a new metric during training: `mae`. This stands for Mean Absolute Error. It is simply the absolute value of the difference between the predictions and the targets.\n",
    "</div>"
   ]
  },
  {
   "cell_type": "markdown",
   "metadata": {
    "id": "2c321cf3-d792-4562-8ed1-c4231302e0b3"
   },
   "source": [
    "## Exercise 3 - Visualizing the network\n",
    "\n",
    "You can check the architecture of your network with the `summary` function: "
   ]
  },
  {
   "cell_type": "code",
   "execution_count": 12,
   "metadata": {
    "colab": {
     "base_uri": "https://localhost:8080/"
    },
    "executionInfo": {
     "elapsed": 132,
     "status": "ok",
     "timestamp": 1662136116556,
     "user": {
      "displayName": "Büşra Özgöde Yigin",
      "userId": "13797786838741619288"
     },
     "user_tz": -120
    },
    "id": "1a545bc5-1cae-4b81-ad66-b08422322cd7",
    "outputId": "2ba82d41-9d12-4712-ab93-9d606217c57a"
   },
   "outputs": [
    {
     "name": "stdout",
     "output_type": "stream",
     "text": [
      "Model: \"sequential\"\n",
      "_________________________________________________________________\n",
      " Layer (type)                Output Shape              Param #   \n",
      "=================================================================\n",
      " dense (Dense)               (None, 64)                448       \n",
      "                                                                 \n",
      " dense_1 (Dense)             (None, 64)                4160      \n",
      "                                                                 \n",
      " dense_2 (Dense)             (None, 1)                 65        \n",
      "                                                                 \n",
      "=================================================================\n",
      "Total params: 4,673\n",
      "Trainable params: 4,673\n",
      "Non-trainable params: 0\n",
      "_________________________________________________________________\n"
     ]
    }
   ],
   "source": [
    "# Remove some unwanted warnings\n",
    "import logging\n",
    "logging.getLogger('tensorflow').disabled = True \n",
    "\n",
    "model = build_model()\n",
    "model.summary()"
   ]
  },
  {
   "cell_type": "markdown",
   "metadata": {
    "id": "3bf9765a-7b27-48a8-99a7-ca9e0da64f2f"
   },
   "source": [
    "**Question 3.1:** Which category do these layers belong to (input/hidden/output)?\n",
    "\n",
    "**Question 3.2:** Can you explain the number of parameters assigned to each layer?"
   ]
  },
  {
   "cell_type": "markdown",
   "metadata": {
    "id": "0-nv_F7QDpih"
   },
   "source": [
    "<div class=\"alert alert-block alert-info\">\n",
    "<b>Answer 3.1</b> \n",
    "    \n",
    "`train_data` contains the input values, the first two `Dense` layers (`dense_1` and `dense_2` in the summary) correspond to hidden layers and the last layer (`dense_3`) is the output layer.\n",
    "<br><br>    \n",
    "    \n",
    "<b>Answer 3.2</b>\n",
    "\n",
    "The first hidden layer contains 6 x 64 weights (number of input features x number of units in the layer) + 64 biases (one per unit), that is 448 parameters in total. Similarly, the second hidden layer as (64 x 64) + 64 = 4160 parameters and the last layer (composed of 1 unit only) 64 * 1 + 1 = 65 parameters.\n",
    "</div>"
   ]
  },
  {
   "cell_type": "markdown",
   "metadata": {
    "id": "f9f49597-f266-4f61-95fa-476cc7b032fb"
   },
   "source": [
    "You can also get direct access to the different sets of parameters and display them:"
   ]
  },
  {
   "cell_type": "code",
   "execution_count": 13,
   "metadata": {
    "colab": {
     "base_uri": "https://localhost:8080/"
    },
    "executionInfo": {
     "elapsed": 119,
     "status": "ok",
     "timestamp": 1662136116556,
     "user": {
      "displayName": "Büşra Özgöde Yigin",
      "userId": "13797786838741619288"
     },
     "user_tz": -120
    },
    "id": "a026ce72-e687-4062-9f22-51b93ba5b230",
    "outputId": "6678e6bf-701c-4f4f-f715-9f030f83087b"
   },
   "outputs": [
    {
     "name": "stdout",
     "output_type": "stream",
     "text": [
      "Layer  0\n",
      "First set of parameters, size: 6 x 64 - first value: -0.19943908\n",
      "Second set of parameters, size: 1 x 64 - first value: 0.0\n",
      "Layer  1\n",
      "First set of parameters, size: 64 x 64 - first value: -0.12852623\n",
      "Second set of parameters, size: 1 x 64 - first value: 0.0\n",
      "Layer  2\n",
      "First set of parameters, size: 64 x 1 - first value: -0.23618484\n",
      "Second set of parameters, size: 1 x 1 - first value: 0.0\n"
     ]
    }
   ],
   "source": [
    "for i, layer in enumerate(model.layers):\n",
    "    weights = layer.get_weights() # list of numpy arrays\n",
    "    print(\"Layer \", str(i))\n",
    "    print(\"First set of parameters, size:\", len(weights[0]), \"x\", len(weights[0][0]), \"- first value:\", weights[0][0][0])\n",
    "    print(\"Second set of parameters, size:\", \"1 x\", len(weights[1]), \"- first value:\", weights[1][0])"
   ]
  },
  {
   "cell_type": "markdown",
   "metadata": {
    "id": "2ad64314-d3f5-4806-b1e9-f1730958cfc6"
   },
   "source": [
    "**Question 3.3:** Relate each set of parameters to the following formula describing the operations performed:\n",
    "<br><br>\n",
    "<center>\n",
    "$y = W_3(g(W_2h(W_1x + b_1) + b_2) + b_3$\n",
    "</center>\n",
    "\n",
    "**Question 3.4:** How are the different sets of parameters initialized?"
   ]
  },
  {
   "cell_type": "markdown",
   "metadata": {
    "id": "sS5CZqyQEMCZ"
   },
   "source": [
    "<div class=\"alert alert-block alert-info\">\n",
    "<b>Answer 3.3</b> \n",
    "    \n",
    "The first set of parameters of layer 0 correspond to the weight matrix $W_1$ while the second set correspond to the bias vector $b_1$. Similarly, the python equivalents of $W_2$ and $W_3$ are respectively the first set of parameters of layer 1 and 2, whereas the second set of parameters of each layer correspond to $b_2$ and $b_3$.\n",
    "<br><br>    \n",
    "    \n",
    "<b>Answer 3.4</b>\n",
    "\n",
    "The weight parameters ($W_x$) are initialized to small random values (positive and negative) while the biases ($b_x$) are set to 0.\n",
    "</div>"
   ]
  },
  {
   "cell_type": "markdown",
   "metadata": {
    "id": "68f235d6-e9f8-40cf-afd1-ab56e144a379",
    "tags": []
   },
   "source": [
    "## Exercise 4 - Validating our approach using K-fold validation\n",
    "\n",
    "\n",
    "To evaluate our network while we keep adjusting  hyperparameters (such as the number of epochs used for training), we could simply split the data into a training set and a validation set. However, because we have so few data points, the validation set would end up being very small (e.g. about 100 examples). A consequence is that our validation scores may change a lot depending on _which_ data points we choose to use for validation and which we choose for training, i.e. the validation scores may have a high _variance_ with regard to the validation split. This would prevent us from reliably evaluating our model.\n",
    "\n",
    "The best practice in such situations is to use K-fold cross-validation. It consists of splitting the available data into K partitions, then instantiating K identical models, and training each one on K-1 partitions while evaluating on the remaining partition. The validation score for the model used would then be the average of the K validation scores obtained."
   ]
  },
  {
   "cell_type": "markdown",
   "metadata": {
    "id": "1a97d8e8-18cb-4d7d-819a-c02d79caf2b4"
   },
   "source": [
    "Fill in the following code to:\n",
    "1. Build the model.\n",
    "2. Train the model (as shown in the [model training example](https://keras.io/guides/training_with_built_in_methods/)) using a batch size of 1. You can use verbose=0 to limit the output produced by the training procedure.\n",
    "3. Evaluate the model (see e.g. [this example](https://keras.io/guides/training_with_built_in_methods/))."
   ]
  },
  {
   "cell_type": "code",
   "execution_count": 14,
   "metadata": {
    "colab": {
     "base_uri": "https://localhost:8080/"
    },
    "executionInfo": {
     "elapsed": 129710,
     "status": "ok",
     "timestamp": 1662136246150,
     "user": {
      "displayName": "Büşra Özgöde Yigin",
      "userId": "13797786838741619288"
     },
     "user_tz": -120
    },
    "id": "316e7784-2111-4ead-bc8b-83090167c49e",
    "outputId": "e01850d2-2a41-4698-86f7-e91689674954"
   },
   "outputs": [
    {
     "name": "stdout",
     "output_type": "stream",
     "text": [
      "processing fold # 0\n",
      "processing fold # 1\n",
      "processing fold # 2\n",
      "processing fold # 3\n"
     ]
    }
   ],
   "source": [
    "import numpy as np\n",
    "\n",
    "k = 4\n",
    "num_val_samples = len(X_train) // k\n",
    "num_epochs = 100\n",
    "all_scores = [] # Should add the score of each run at the end of the loop\n",
    "for i in range(k):\n",
    "    print('processing fold #', i)\n",
    "    # Prepare the validation data: data from partition # k\n",
    "    val_data = X_train[i * num_val_samples: (i + 1) * num_val_samples]\n",
    "    val_targets = y_train[i * num_val_samples: (i + 1) * num_val_samples]\n",
    "\n",
    "    # Prepare the training data: data from all other partitions\n",
    "    partial_train_data = np.concatenate(\n",
    "        [X_train[:i * num_val_samples],\n",
    "         X_train[(i + 1) * num_val_samples:]],\n",
    "        axis=0)\n",
    "    partial_train_targets = np.concatenate(\n",
    "        [y_train[:i * num_val_samples],\n",
    "         y_train[(i + 1) * num_val_samples:]],\n",
    "        axis=0)\n",
    "\n",
    "    ### PUT YOUR CODE HERE ###\n",
    "    # Build the Keras model (already compiled)\n",
    "    model = build_model()\n",
    "    # Train the model\n",
    "    model.fit(partial_train_data, partial_train_targets,\n",
    "              epochs=num_epochs, batch_size=1, verbose=0)\n",
    "    # Evaluate the model on the validation data\n",
    "    val_mse, val_mae = model.evaluate(val_data, val_targets, verbose=0)\n",
    "    all_scores.append(val_mae)\n",
    "    ### END ###"
   ]
  },
  {
   "cell_type": "code",
   "execution_count": 15,
   "metadata": {
    "colab": {
     "base_uri": "https://localhost:8080/"
    },
    "executionInfo": {
     "elapsed": 29,
     "status": "ok",
     "timestamp": 1662136246151,
     "user": {
      "displayName": "Büşra Özgöde Yigin",
      "userId": "13797786838741619288"
     },
     "user_tz": -120
    },
    "id": "06f59eef-fb99-4475-8b40-1ca600ce1164",
    "outputId": "13dcf8d8-0e59-4f11-f708-de62a6143ae5"
   },
   "outputs": [
    {
     "data": {
      "text/plain": [
       "[0.4963889718055725,\n",
       " 0.4891524016857147,\n",
       " 0.5460759401321411,\n",
       " 0.5966809988021851]"
      ]
     },
     "execution_count": 15,
     "metadata": {},
     "output_type": "execute_result"
    }
   ],
   "source": [
    "all_scores"
   ]
  },
  {
   "cell_type": "code",
   "execution_count": 16,
   "metadata": {
    "colab": {
     "base_uri": "https://localhost:8080/"
    },
    "executionInfo": {
     "elapsed": 25,
     "status": "ok",
     "timestamp": 1662136246152,
     "user": {
      "displayName": "Büşra Özgöde Yigin",
      "userId": "13797786838741619288"
     },
     "user_tz": -120
    },
    "id": "c5a2e688-707c-4a3b-b3f3-3b571686bd26",
    "outputId": "e2d80261-2a9b-4758-e40d-4c59db2edfb5"
   },
   "outputs": [
    {
     "data": {
      "text/plain": [
       "0.5320745781064034"
      ]
     },
     "execution_count": 16,
     "metadata": {},
     "output_type": "execute_result"
    }
   ],
   "source": [
    "np.mean(all_scores)"
   ]
  },
  {
   "cell_type": "markdown",
   "metadata": {
    "id": "1201ac7c-05ea-45f0-b7d5-f4e53b64f107"
   },
   "source": [
    "As you can notice, the different runs do indeed show rather different validation scores (~ from 0.49 to 0.59). Their average (around 0.54) is a much more reliable metric than any single of these scores -- that's the entire point of K-fold cross-validation. In this case, we are off by 0.54 on average, which is still significant considering that the scores range from 2.693 to 7.769. \n",
    "\n",
    "Let's try training the network for a bit longer: 250 epochs. To keep a record of how well the model did at each epoch, we will modify our training loop to save the per-epoch training and validation score log:"
   ]
  },
  {
   "cell_type": "code",
   "execution_count": 17,
   "metadata": {
    "id": "b4964d89-ce1e-4cca-b6d0-07680258eedd"
   },
   "outputs": [],
   "source": [
    "from keras import backend as K\n",
    "\n",
    "# Some memory clean-up\n",
    "K.clear_session()"
   ]
  },
  {
   "cell_type": "code",
   "execution_count": 18,
   "metadata": {
    "colab": {
     "base_uri": "https://localhost:8080/"
    },
    "executionInfo": {
     "elapsed": 160676,
     "status": "ok",
     "timestamp": 1662136406808,
     "user": {
      "displayName": "Büşra Özgöde Yigin",
      "userId": "13797786838741619288"
     },
     "user_tz": -120
    },
    "id": "0492cc07-a0a7-47b2-9916-c4af246d5258",
    "outputId": "e144a00a-33fd-4dff-c2ec-1228c6f3c665"
   },
   "outputs": [
    {
     "name": "stdout",
     "output_type": "stream",
     "text": [
      "processing fold # 0\n",
      "processing fold # 1\n",
      "processing fold # 2\n",
      "processing fold # 3\n"
     ]
    }
   ],
   "source": [
    "\n",
    "num_epochs = 250\n",
    "all_mae_histories = []\n",
    "val_all_mae_histories = []\n",
    "for i in range(k):\n",
    "    print('processing fold #', i)\n",
    "    # Prepare the validation data: data from partition # k\n",
    "    val_data = X_train[i * num_val_samples: (i + 1) * num_val_samples]\n",
    "    val_targets = y_train[i * num_val_samples: (i + 1) * num_val_samples]\n",
    "\n",
    "    # Prepare the training data: data from all other partitions\n",
    "    partial_train_data = np.concatenate(\n",
    "        [X_train[:i * num_val_samples],\n",
    "         X_train[(i + 1) * num_val_samples:]],\n",
    "        axis=0)\n",
    "    partial_train_targets = np.concatenate(\n",
    "        [y_train[:i * num_val_samples],\n",
    "         y_train[(i + 1) * num_val_samples:]],\n",
    "        axis=0)\n",
    "\n",
    "    # Build the Keras model (already compiled)\n",
    "    model = build_model()\n",
    "    # Train the model (in silent mode -> verbose=0)\n",
    "    history = model.fit(partial_train_data, partial_train_targets,\n",
    "                        validation_data=(val_data, val_targets),\n",
    "                        epochs=num_epochs, batch_size=4, verbose=0)\n",
    "    mae_history = history.history['mae']\n",
    "    all_mae_histories.append(mae_history)\n",
    "    val_mae_history = history.history['val_mae']\n",
    "    val_all_mae_histories.append(val_mae_history)"
   ]
  },
  {
   "cell_type": "markdown",
   "metadata": {
    "id": "4cffcd68-515b-46f4-b1e9-65ca8e338b9e"
   },
   "source": [
    "We can then compute the average of the per-epoch MAE scores for all folds:"
   ]
  },
  {
   "cell_type": "code",
   "execution_count": 19,
   "metadata": {
    "id": "def2b5cd-beba-460d-9dea-f71e87ebb5ba"
   },
   "outputs": [],
   "source": [
    "average_mae_history = [\n",
    "    np.mean([x[i] for x in all_mae_histories]) for i in range(num_epochs)]\n",
    "val_average_mae_history = [\n",
    "    np.mean([x[i] for x in val_all_mae_histories]) for i in range(num_epochs)]"
   ]
  },
  {
   "cell_type": "markdown",
   "metadata": {
    "id": "210114cf-f564-4bb7-9eaf-b630b8196958"
   },
   "source": [
    "Let's plot this:"
   ]
  },
  {
   "cell_type": "code",
   "execution_count": 20,
   "metadata": {
    "colab": {
     "base_uri": "https://localhost:8080/",
     "height": 279
    },
    "executionInfo": {
     "elapsed": 24,
     "status": "ok",
     "timestamp": 1662136406813,
     "user": {
      "displayName": "Büşra Özgöde Yigin",
      "userId": "13797786838741619288"
     },
     "user_tz": -120
    },
    "id": "b671dc72-5d8a-41fc-aa0f-03afc7291c2c",
    "outputId": "b6a181ce-660e-4b1f-fb39-ad578ad8c24f"
   },
   "outputs": [
    {
     "data": {
      "image/png": "[encoded data removed]",
      "text/plain": [
       "<Figure size 432x288 with 1 Axes>"
      ]
     },
     "metadata": {
      "needs_background": "light"
     },
     "output_type": "display_data"
    }
   ],
   "source": [
    "%matplotlib inline #it will make your plot outputs appear and be stored within the notebook.\n",
    "import matplotlib.pyplot as plt\n",
    "\n",
    "plt.plot(range(1, len(average_mae_history) + 1), average_mae_history)\n",
    "plt.plot(range(1, len(val_average_mae_history) + 1), val_average_mae_history)\n",
    "plt.xlabel('Epochs')\n",
    "plt.ylabel('MAE')\n",
    "plt.legend(['training', 'validation'])\n",
    "plt.show()"
   ]
  },
  {
   "cell_type": "markdown",
   "metadata": {
    "id": "a687c4cd-f54b-441f-aef3-1b77d9a0d3e2"
   },
   "source": [
    "It may be a bit hard to see the plot due to scaling issues and relatively high variance. Let's:\n",
    "\n",
    "* Omit the first 10 data points, which are on a different scale from the rest of the curve.\n",
    "* Replace each point with an exponential moving average of the previous points, to obtain a smooth curve."
   ]
  },
  {
   "cell_type": "code",
   "execution_count": 21,
   "metadata": {
    "colab": {
     "base_uri": "https://localhost:8080/",
     "height": 279
    },
    "executionInfo": {
     "elapsed": 732,
     "status": "ok",
     "timestamp": 1662136407525,
     "user": {
      "displayName": "Büşra Özgöde Yigin",
      "userId": "13797786838741619288"
     },
     "user_tz": -120
    },
    "id": "a39c1d01-986e-4da4-87b8-5a5eff1f4690",
    "outputId": "a578c487-7064-4a3d-9e87-3daa0e11c093"
   },
   "outputs": [
    {
     "data": {
      "image/png": "[encoded data removed]",
      "text/plain": [
       "<Figure size 432x288 with 1 Axes>"
      ]
     },
     "metadata": {
      "needs_background": "light"
     },
     "output_type": "display_data"
    }
   ],
   "source": [
    "def smooth_curve(points, factor=0.9):\n",
    "  smoothed_points = []\n",
    "  for point in points:\n",
    "    if smoothed_points:\n",
    "      previous = smoothed_points[-1]\n",
    "      smoothed_points.append(previous * factor + point * (1 - factor))\n",
    "    else:\n",
    "      smoothed_points.append(point)\n",
    "  return smoothed_points\n",
    "\n",
    "smooth_mae_history = smooth_curve(average_mae_history[10:])\n",
    "val_smooth_mae_history = smooth_curve(val_average_mae_history[10:])\n",
    "\n",
    "plt.plot(range(1, len(smooth_mae_history) + 1), smooth_mae_history)\n",
    "plt.plot(range(1, len(val_smooth_mae_history) + 1), val_smooth_mae_history)\n",
    "plt.xlabel('Epochs')\n",
    "plt.ylabel('MAE')\n",
    "plt.legend(['training', 'validation'])\n",
    "plt.show()"
   ]
  },
  {
   "cell_type": "markdown",
   "metadata": {
    "id": "9cffda8b-f9a2-45e6-af31-da1dfa9a76aa"
   },
   "source": [
    "According to this plot, it seems that validation MAE stops improving significantly after ~60 epochs. Past that point, we start overfitting.\n",
    "\n",
    "Once we are done tuning other parameters of our model with K-fold cross-validation (besides the number of epochs, we could also adjust the size of the hidden layers, their number, etc.), we can train a final \"production\" model on all of the training data, with the best parameters, then look at its performance on the test data:"
   ]
  },
  {
   "cell_type": "code",
   "execution_count": 22,
   "metadata": {
    "colab": {
     "base_uri": "https://localhost:8080/"
    },
    "executionInfo": {
     "elapsed": 5259,
     "status": "ok",
     "timestamp": 1662136412779,
     "user": {
      "displayName": "Büşra Özgöde Yigin",
      "userId": "13797786838741619288"
     },
     "user_tz": -120
    },
    "id": "0e56fb76-f90d-46d0-bee1-d93dabf35196",
    "outputId": "229674ab-37eb-411f-9bb8-9f06b854c7ba"
   },
   "outputs": [
    {
     "name": "stdout",
     "output_type": "stream",
     "text": [
      "2/2 [==============================] - 0s 2ms/step - loss: 0.3464 - mae: 0.4978\n"
     ]
    }
   ],
   "source": [
    "# Get a fresh, compiled model.\n",
    "model = build_model()\n",
    "# Train it on the entirety of the data.\n",
    "model.fit(X_train, y_train,\n",
    "          epochs=60, batch_size=4, verbose=0)\n",
    "test_mse_score, test_mae_score = model.evaluate(X_test, y_test)"
   ]
  },
  {
   "cell_type": "code",
   "execution_count": 23,
   "metadata": {
    "colab": {
     "base_uri": "https://localhost:8080/"
    },
    "executionInfo": {
     "elapsed": 56,
     "status": "ok",
     "timestamp": 1662136412780,
     "user": {
      "displayName": "Büşra Özgöde Yigin",
      "userId": "13797786838741619288"
     },
     "user_tz": -120
    },
    "id": "50af68d8-6d48-4fc4-96bf-fe54f63cdc54",
    "outputId": "3298c3a1-bbb1-4bdb-f7dc-ccccfe7c8128"
   },
   "outputs": [
    {
     "data": {
      "text/plain": [
       "0.49784043431282043"
      ]
     },
     "execution_count": 23,
     "metadata": {},
     "output_type": "execute_result"
    }
   ],
   "source": [
    "test_mae_score"
   ]
  },
  {
   "cell_type": "markdown",
   "metadata": {
    "id": "efcbbeb2-0bcd-4fb7-9c1f-2fdc18331d38"
   },
   "source": [
    "We are still off by about 0.49."
   ]
  },
  {
   "cell_type": "markdown",
   "metadata": {
    "id": "22b66f30-db8b-4cc3-81a2-40104642f39c"
   },
   "source": [
    "## Part 2 - Churn Prediction For Bank Customer: a binary classification example"
   ]
  },
  {
   "cell_type": "markdown",
   "metadata": {
    "id": "68a0afcf-0478-4e16-b8ea-63bffb00c76a"
   },
   "source": [
    "We have a dataset in which there are details of a bank's customers and the target variable is a binary variable reflecting the fact whether the customer left the bank (closed his account) or he continues to be a customer. We will use [Churn Modelling Dataset](https://www.kaggle.com/datasets/shrutimechlearn/churn-modelling?select=Churn_Modelling.csv) for binary classification.\n",
    "\n",
    "The features in the given dataset are:\n",
    "\n",
    "Rownumber: Row Numbers from 1 to 10000\n",
    "\n",
    "Customerid: A unique ID that identifies each customer.\n",
    "\n",
    "Surname: The customer’s surname.\n",
    "\n",
    "Creditscore: A credit score is a number between 300–850 that depicts a consumer's creditworthiness.\n",
    "\n",
    "Geography: The country from which the customer belongs to.\n",
    "\n",
    "Gender: The customer’s gender: Male, Female\n",
    "\n",
    "Age: The customer’s current age, in years, at the time of being customer.\n",
    "\n",
    "Tenure: The number of years for which the customer has been with the bank.\n",
    "\n",
    "Balance: Bank balance of the customer.\n",
    "\n",
    "Numofproducts: the number of bank products the customer is utilising.\n",
    "\n",
    "Hascrcard: The number of credit cards given to the customer by the bank.\n",
    "\n",
    "Isactivemember: Binary Flag for indicating if the client is active or not with the bank before the moment where the client exits the company (recorded in the variable \"exited\")\n",
    "\n",
    "EstimatedSalary: The estimated salary of the customer\n",
    "\n",
    "Exited: Binary flag 1 if the customer closed account with bank and 0 if the customer is retained."
   ]
  },
  {
   "cell_type": "code",
   "execution_count": 54,
   "metadata": {
    "colab": {
     "base_uri": "https://localhost:8080/",
     "height": 270
    },
    "executionInfo": {
     "elapsed": 52,
     "status": "ok",
     "timestamp": 1662136412782,
     "user": {
      "displayName": "Büşra Özgöde Yigin",
      "userId": "13797786838741619288"
     },
     "user_tz": -120
    },
    "id": "cbe6c156-f130-482c-9529-533975502b5e",
    "outputId": "0548fae0-c879-4435-8d8c-c5496b83d3ea"
   },
   "outputs": [
    {
     "data": {
      "text/html": [
       "<div>\n",
       "<style scoped>\n",
       "    .dataframe tbody tr th:only-of-type {\n",
       "        vertical-align: middle;\n",
       "    }\n",
       "\n",
       "    .dataframe tbody tr th {\n",
       "        vertical-align: top;\n",
       "    }\n",
       "\n",
       "    .dataframe thead th {\n",
       "        text-align: right;\n",
       "    }\n",
       "</style>\n",
       "<table border=\"1\" class=\"dataframe\">\n",
       "  <thead>\n",
       "    <tr style=\"text-align: right;\">\n",
       "      <th></th>\n",
       "      <th>RowNumber</th>\n",
       "      <th>CustomerId</th>\n",
       "      <th>Surname</th>\n",
       "      <th>CreditScore</th>\n",
       "      <th>Geography</th>\n",
       "      <th>Gender</th>\n",
       "      <th>Age</th>\n",
       "      <th>Tenure</th>\n",
       "      <th>Balance</th>\n",
       "      <th>NumOfProducts</th>\n",
       "      <th>HasCrCard</th>\n",
       "      <th>IsActiveMember</th>\n",
       "      <th>EstimatedSalary</th>\n",
       "      <th>Exited</th>\n",
       "    </tr>\n",
       "  </thead>\n",
       "  <tbody>\n",
       "    <tr>\n",
       "      <th>0</th>\n",
       "      <td>1</td>\n",
       "      <td>15634602</td>\n",
       "      <td>Hargrave</td>\n",
       "      <td>619</td>\n",
       "      <td>France</td>\n",
       "      <td>Female</td>\n",
       "      <td>42</td>\n",
       "      <td>2</td>\n",
       "      <td>0.00</td>\n",
       "      <td>1</td>\n",
       "      <td>1</td>\n",
       "      <td>1</td>\n",
       "      <td>101348.88</td>\n",
       "      <td>1</td>\n",
       "    </tr>\n",
       "    <tr>\n",
       "      <th>1</th>\n",
       "      <td>2</td>\n",
       "      <td>15647311</td>\n",
       "      <td>Hill</td>\n",
       "      <td>608</td>\n",
       "      <td>Spain</td>\n",
       "      <td>Female</td>\n",
       "      <td>41</td>\n",
       "      <td>1</td>\n",
       "      <td>83807.86</td>\n",
       "      <td>1</td>\n",
       "      <td>0</td>\n",
       "      <td>1</td>\n",
       "      <td>112542.58</td>\n",
       "      <td>0</td>\n",
       "    </tr>\n",
       "    <tr>\n",
       "      <th>2</th>\n",
       "      <td>3</td>\n",
       "      <td>15619304</td>\n",
       "      <td>Onio</td>\n",
       "      <td>502</td>\n",
       "      <td>France</td>\n",
       "      <td>Female</td>\n",
       "      <td>42</td>\n",
       "      <td>8</td>\n",
       "      <td>159660.80</td>\n",
       "      <td>3</td>\n",
       "      <td>1</td>\n",
       "      <td>0</td>\n",
       "      <td>113931.57</td>\n",
       "      <td>1</td>\n",
       "    </tr>\n",
       "    <tr>\n",
       "      <th>3</th>\n",
       "      <td>4</td>\n",
       "      <td>15701354</td>\n",
       "      <td>Boni</td>\n",
       "      <td>699</td>\n",
       "      <td>France</td>\n",
       "      <td>Female</td>\n",
       "      <td>39</td>\n",
       "      <td>1</td>\n",
       "      <td>0.00</td>\n",
       "      <td>2</td>\n",
       "      <td>0</td>\n",
       "      <td>0</td>\n",
       "      <td>93826.63</td>\n",
       "      <td>0</td>\n",
       "    </tr>\n",
       "    <tr>\n",
       "      <th>4</th>\n",
       "      <td>5</td>\n",
       "      <td>15737888</td>\n",
       "      <td>Mitchell</td>\n",
       "      <td>850</td>\n",
       "      <td>Spain</td>\n",
       "      <td>Female</td>\n",
       "      <td>43</td>\n",
       "      <td>2</td>\n",
       "      <td>125510.82</td>\n",
       "      <td>1</td>\n",
       "      <td>1</td>\n",
       "      <td>1</td>\n",
       "      <td>79084.10</td>\n",
       "      <td>0</td>\n",
       "    </tr>\n",
       "  </tbody>\n",
       "</table>\n",
       "</div>"
      ],
      "text/plain": [
       "   RowNumber  CustomerId   Surname  CreditScore Geography  Gender  Age  \\\n",
       "0          1    15634602  Hargrave          619    France  Female   42   \n",
       "1          2    15647311      Hill          608     Spain  Female   41   \n",
       "2          3    15619304      Onio          502    France  Female   42   \n",
       "3          4    15701354      Boni          699    France  Female   39   \n",
       "4          5    15737888  Mitchell          850     Spain  Female   43   \n",
       "\n",
       "   Tenure    Balance  NumOfProducts  HasCrCard  IsActiveMember  \\\n",
       "0       2       0.00              1          1               1   \n",
       "1       1   83807.86              1          0               1   \n",
       "2       8  159660.80              3          1               0   \n",
       "3       1       0.00              2          0               0   \n",
       "4       2  125510.82              1          1               1   \n",
       "\n",
       "   EstimatedSalary  Exited  \n",
       "0        101348.88       1  \n",
       "1        112542.58       0  \n",
       "2        113931.57       1  \n",
       "3         93826.63       0  \n",
       "4         79084.10       0  "
      ]
     },
     "execution_count": 54,
     "metadata": {},
     "output_type": "execute_result"
    }
   ],
   "source": [
    "import pandas as pd\n",
    "dataset = pd.read_csv('Churn_Modelling.csv')\n",
    "dataset.head()"
   ]
  },
  {
   "cell_type": "code",
   "execution_count": 55,
   "metadata": {
    "colab": {
     "base_uri": "https://localhost:8080/"
    },
    "executionInfo": {
     "elapsed": 4,
     "status": "ok",
     "timestamp": 1662144898993,
     "user": {
      "displayName": "Büşra Özgöde Yigin",
      "userId": "13797786838741619288"
     },
     "user_tz": -120
    },
    "id": "kWdzMuNEjk93",
    "outputId": "fe202165-bc75-45fe-af48-4adcb236975e"
   },
   "outputs": [
    {
     "name": "stdout",
     "output_type": "stream",
     "text": [
      "<class 'pandas.core.frame.DataFrame'>\n",
      "RangeIndex: 10000 entries, 0 to 9999\n",
      "Data columns (total 14 columns):\n",
      " #   Column           Non-Null Count  Dtype  \n",
      "---  ------           --------------  -----  \n",
      " 0   RowNumber        10000 non-null  int64  \n",
      " 1   CustomerId       10000 non-null  int64  \n",
      " 2   Surname          10000 non-null  object \n",
      " 3   CreditScore      10000 non-null  int64  \n",
      " 4   Geography        10000 non-null  object \n",
      " 5   Gender           10000 non-null  object \n",
      " 6   Age              10000 non-null  int64  \n",
      " 7   Tenure           10000 non-null  int64  \n",
      " 8   Balance          10000 non-null  float64\n",
      " 9   NumOfProducts    10000 non-null  int64  \n",
      " 10  HasCrCard        10000 non-null  int64  \n",
      " 11  IsActiveMember   10000 non-null  int64  \n",
      " 12  EstimatedSalary  10000 non-null  float64\n",
      " 13  Exited           10000 non-null  int64  \n",
      "dtypes: float64(2), int64(9), object(3)\n",
      "memory usage: 1.1+ MB\n"
     ]
    }
   ],
   "source": [
    "dataset.info()"
   ]
  },
  {
   "cell_type": "markdown",
   "metadata": {
    "id": "b65ab1ac-b6cc-4c03-bfee-bdc0cb792b17"
   },
   "source": [
    "### Data Preprocessing"
   ]
  },
  {
   "cell_type": "code",
   "execution_count": 56,
   "metadata": {
    "id": "4cbcb04d-a753-493b-97a9-6b064a5ed1c5"
   },
   "outputs": [],
   "source": [
    "X = dataset.iloc[:, 3:-1].values\n",
    "y = dataset.iloc[:, -1].values"
   ]
  },
  {
   "cell_type": "code",
   "execution_count": 57,
   "metadata": {
    "colab": {
     "base_uri": "https://localhost:8080/"
    },
    "executionInfo": {
     "elapsed": 52,
     "status": "ok",
     "timestamp": 1662136412784,
     "user": {
      "displayName": "Büşra Özgöde Yigin",
      "userId": "13797786838741619288"
     },
     "user_tz": -120
    },
    "id": "7e554c13-9334-4efb-9b02-0107dbb231a2",
    "outputId": "0d93fe31-64b6-49d5-9dda-051581aae599"
   },
   "outputs": [
    {
     "name": "stdout",
     "output_type": "stream",
     "text": [
      "[[619 'France' 'Female' ... 1 1 101348.88]\n",
      " [608 'Spain' 'Female' ... 0 1 112542.58]\n",
      " [502 'France' 'Female' ... 1 0 113931.57]\n",
      " ...\n",
      " [709 'France' 'Female' ... 0 1 42085.58]\n",
      " [772 'Germany' 'Male' ... 1 0 92888.52]\n",
      " [792 'France' 'Female' ... 1 0 38190.78]]\n"
     ]
    }
   ],
   "source": [
    "print(X)"
   ]
  },
  {
   "cell_type": "code",
   "execution_count": 58,
   "metadata": {
    "colab": {
     "base_uri": "https://localhost:8080/"
    },
    "executionInfo": {
     "elapsed": 484,
     "status": "ok",
     "timestamp": 1662143910125,
     "user": {
      "displayName": "Büşra Özgöde Yigin",
      "userId": "13797786838741619288"
     },
     "user_tz": -120
    },
    "id": "a64659a6-fc0a-4e50-acec-29e79ff63f06",
    "outputId": "aa8ec96a-dc53-4087-9c6d-5f85e14c0ed3"
   },
   "outputs": [
    {
     "name": "stdout",
     "output_type": "stream",
     "text": [
      "[1 0 1 ... 1 1 0]\n"
     ]
    }
   ],
   "source": [
    "print(y)"
   ]
  },
  {
   "cell_type": "code",
   "execution_count": 59,
   "metadata": {
    "colab": {
     "base_uri": "https://localhost:8080/",
     "height": 262
    },
    "executionInfo": {
     "elapsed": 706,
     "status": "ok",
     "timestamp": 1662144840042,
     "user": {
      "displayName": "Büşra Özgöde Yigin",
      "userId": "13797786838741619288"
     },
     "user_tz": -120
    },
    "id": "_lp_xrQ_iCKL",
    "outputId": "bcb8e278-d2ab-4dfd-edc8-cd68fb332641"
   },
   "outputs": [
    {
     "data": {
      "image/png": "[encoded data removed]",
      "text/plain": [
       "<Figure size 432x288 with 1 Axes>"
      ]
     },
     "metadata": {
      "needs_background": "light"
     },
     "output_type": "display_data"
    }
   ],
   "source": [
    "dataset['Exited'].value_counts(normalize=True).plot.bar();"
   ]
  },
  {
   "cell_type": "markdown",
   "metadata": {
    "id": "14c9925a-4dd0-44ae-b4a3-3ac9fe4ed9e4"
   },
   "source": [
    "#### Encoding categorical data"
   ]
  },
  {
   "cell_type": "markdown",
   "metadata": {
    "id": "16fecb36-587c-4052-b19f-967068291031"
   },
   "source": [
    "Label Encoding the \"Gender\" column"
   ]
  },
  {
   "cell_type": "code",
   "execution_count": 60,
   "metadata": {
    "id": "5bee7eee-b526-4c79-a266-ade39e718b69"
   },
   "outputs": [],
   "source": [
    "from sklearn.preprocessing import LabelEncoder\n",
    "le = LabelEncoder()\n",
    "X[:, 2] = le.fit_transform(X[:, 2])"
   ]
  },
  {
   "cell_type": "code",
   "execution_count": 61,
   "metadata": {
    "colab": {
     "base_uri": "https://localhost:8080/"
    },
    "executionInfo": {
     "elapsed": 46,
     "status": "ok",
     "timestamp": 1662136412787,
     "user": {
      "displayName": "Büşra Özgöde Yigin",
      "userId": "13797786838741619288"
     },
     "user_tz": -120
    },
    "id": "f7de5b21-ed25-41aa-af03-bab47ec9820f",
    "outputId": "b314ca14-912a-4516-f6c5-87d40908572f"
   },
   "outputs": [
    {
     "name": "stdout",
     "output_type": "stream",
     "text": [
      "[[619 'France' 0 ... 1 1 101348.88]\n",
      " [608 'Spain' 0 ... 0 1 112542.58]\n",
      " [502 'France' 0 ... 1 0 113931.57]\n",
      " ...\n",
      " [709 'France' 0 ... 0 1 42085.58]\n",
      " [772 'Germany' 1 ... 1 0 92888.52]\n",
      " [792 'France' 0 ... 1 0 38190.78]]\n"
     ]
    }
   ],
   "source": [
    "print(X)"
   ]
  },
  {
   "cell_type": "markdown",
   "metadata": {
    "id": "f618f371-d1d7-4ee9-9392-ffc07071a2c5"
   },
   "source": [
    "One Hot Encoding the \"Geography\" column"
   ]
  },
  {
   "cell_type": "code",
   "execution_count": 62,
   "metadata": {
    "id": "fd42b2c6-0786-4fcd-b466-728f2f40fea9"
   },
   "outputs": [],
   "source": [
    "import numpy as np\n",
    "from sklearn.compose import ColumnTransformer\n",
    "from sklearn.preprocessing import OneHotEncoder\n",
    "ct = ColumnTransformer(transformers=[('encoder', OneHotEncoder(), [1])], remainder='passthrough')\n",
    "X = np.array(ct.fit_transform(X))"
   ]
  },
  {
   "cell_type": "code",
   "execution_count": 63,
   "metadata": {
    "colab": {
     "base_uri": "https://localhost:8080/"
    },
    "executionInfo": {
     "elapsed": 44,
     "status": "ok",
     "timestamp": 1662136412790,
     "user": {
      "displayName": "Büşra Özgöde Yigin",
      "userId": "13797786838741619288"
     },
     "user_tz": -120
    },
    "id": "7466ba88-f8c2-430c-b168-712c03e6fa71",
    "outputId": "b115660a-e081-41ec-9373-621edbce0ae6"
   },
   "outputs": [
    {
     "name": "stdout",
     "output_type": "stream",
     "text": [
      "[[1.0 0.0 0.0 ... 1 1 101348.88]\n",
      " [0.0 0.0 1.0 ... 0 1 112542.58]\n",
      " [1.0 0.0 0.0 ... 1 0 113931.57]\n",
      " ...\n",
      " [1.0 0.0 0.0 ... 0 1 42085.58]\n",
      " [0.0 1.0 0.0 ... 1 0 92888.52]\n",
      " [1.0 0.0 0.0 ... 1 0 38190.78]]\n"
     ]
    }
   ],
   "source": [
    "print(X)"
   ]
  },
  {
   "cell_type": "markdown",
   "metadata": {
    "id": "3c968941-b2c2-42be-b809-5cb1a8b2e67b"
   },
   "source": [
    "You should notice that OneHotEncoder encodes 'France' as '1,0,0', 'Spain' as '0,0,1', 'Germany' as '0,1,0'."
   ]
  },
  {
   "cell_type": "markdown",
   "metadata": {
    "id": "ae2a8f95-5f96-4ad8-995b-d394def69e7f"
   },
   "source": [
    "### Exercise 5: Splitting the dataset into the Training, Validation and Test set"
   ]
  },
  {
   "cell_type": "markdown",
   "metadata": {
    "id": "650436d1-3ba2-4a0d-96c0-124713824995"
   },
   "source": [
    "Split the dataset as following: Training set (60%), Validation set (20%), Test set (20%)."
   ]
  },
  {
   "cell_type": "code",
   "execution_count": 64,
   "metadata": {
    "colab": {
     "base_uri": "https://localhost:8080/"
    },
    "executionInfo": {
     "elapsed": 438,
     "status": "ok",
     "timestamp": 1662136604721,
     "user": {
      "displayName": "Büşra Özgöde Yigin",
      "userId": "13797786838741619288"
     },
     "user_tz": -120
    },
    "id": "ccd9e4df-a3fb-4caa-b120-ac4f282c4afa",
    "outputId": "5cbe3502-c4ec-4496-d4e4-aa486a890df2"
   },
   "outputs": [
    {
     "name": "stdout",
     "output_type": "stream",
     "text": [
      "(6000, 12) (2000, 12) (2000, 12)\n"
     ]
    }
   ],
   "source": [
    "from sklearn.model_selection import train_test_split\n",
    "\n",
    "### PUT YOUR CODE HERE ###\n",
    "X_trainval, X_test, y_trainval, y_test = train_test_split(X, y, test_size = 0.2, stratify=y, random_state = 0)\n",
    "X_train, X_val, y_train, y_val = train_test_split(X_trainval, y_trainval, test_size = 0.25, stratify=y_trainval, random_state = 42)\n",
    "### END ###\n",
    "print(X_train.shape, X_val.shape, X_test.shape)"
   ]
  },
  {
   "cell_type": "markdown",
   "metadata": {
    "id": "544bfd21-f57e-4159-be44-5905d2d133d9"
   },
   "source": [
    "### Feature Scaling"
   ]
  },
  {
   "cell_type": "code",
   "execution_count": 65,
   "metadata": {
    "id": "6a1de4ce-0f67-4d8a-a261-49e281eb6d79"
   },
   "outputs": [],
   "source": [
    "from sklearn.preprocessing import StandardScaler\n",
    "sc = StandardScaler()\n",
    "X_train = sc.fit_transform(X_train)\n",
    "X_val = sc.transform(X_val)\n",
    "X_test = sc.transform(X_test)"
   ]
  },
  {
   "cell_type": "markdown",
   "metadata": {
    "id": "97889467-4d5d-4c71-be4a-89cab05ec2b0"
   },
   "source": [
    "### Exercise 6: Building and training a network for binary classification"
   ]
  },
  {
   "cell_type": "markdown",
   "metadata": {
    "id": "733fd2b6-8b2f-4dab-ba71-7b825cabbf30"
   },
   "source": [
    "Reusing what you have seen during the previous exercise, try to build and train a neural network for binary classification on the dataset we have just created. Keep the same number of layers we have used before and reduce the number units to 32 and 16, respectively as well as the ReLU activation function for the hidden layers. Use a batch size of 32 and 150 epochs for training. Use rmsprop as optimizer, and binary_crossentropy as loss function and set the metric as accuracy."
   ]
  },
  {
   "cell_type": "code",
   "execution_count": 66,
   "metadata": {
    "colab": {
     "base_uri": "https://localhost:8080/"
    },
    "executionInfo": {
     "elapsed": 83449,
     "status": "ok",
     "timestamp": 1662146700894,
     "user": {
      "displayName": "Büşra Özgöde Yigin",
      "userId": "13797786838741619288"
     },
     "user_tz": -120
    },
    "id": "c80673e8-dcbb-4b47-8bf0-76f933806f2e",
    "outputId": "6aa099f6-facf-4ca3-e332-c35ffefd6acc"
   },
   "outputs": [
    {
     "name": "stdout",
     "output_type": "stream",
     "text": [
      "Training...\n",
      "Training done.\n"
     ]
    }
   ],
   "source": [
    "from keras import models\n",
    "from keras import layers\n",
    "### PUT YOUR CODE HERE ###\n",
    "def build_model():\n",
    "    model = models.Sequential()\n",
    "    model.add(layers.Dense(32, activation='relu',\n",
    "                           input_shape=(X_train.shape[1],)))\n",
    "    model.add(layers.Dense(16, activation='relu'))\n",
    "    model.add(layers.Dense(1, activation='sigmoid'))\n",
    "    model.compile(optimizer='rmsprop', loss='binary_crossentropy', metrics=['accuracy'])\n",
    "    \n",
    "    return model\n",
    "\n",
    "# Build the Keras model (already compiled)\n",
    "model = build_model()\n",
    "# Train the model (in silent mode -> verbose=0)\n",
    "print('Training...')\n",
    "history = model.fit(X_train, y_train,\n",
    "                    validation_data=(X_val, y_val),\n",
    "                    epochs=150, batch_size=32, verbose=0)\n",
    "print('Training done.')\n",
    "### END ###"
   ]
  },
  {
   "cell_type": "markdown",
   "metadata": {
    "id": "a334f7c6-8f46-4065-a4f4-5d8f9e8fc839"
   },
   "source": [
    "Plot the training and validation accuracy history"
   ]
  },
  {
   "cell_type": "code",
   "execution_count": 67,
   "metadata": {
    "colab": {
     "base_uri": "https://localhost:8080/",
     "height": 541
    },
    "executionInfo": {
     "elapsed": 20,
     "status": "ok",
     "timestamp": 1662146700897,
     "user": {
      "displayName": "Büşra Özgöde Yigin",
      "userId": "13797786838741619288"
     },
     "user_tz": -120
    },
    "id": "a747ed02-7628-4915-88de-d785b9996f9f",
    "outputId": "cd2c3166-42cb-4f85-f55d-55d308f615ec"
   },
   "outputs": [
    {
     "data": {
      "image/png": "[encoded data removed]",
      "text/plain": [
       "<Figure size 432x288 with 1 Axes>"
      ]
     },
     "metadata": {
      "needs_background": "light"
     },
     "output_type": "display_data"
    },
    {
     "data": {
      "image/png": "[encoded data removed]",
      "text/plain": [
       "<Figure size 432x288 with 1 Axes>"
      ]
     },
     "metadata": {
      "needs_background": "light"
     },
     "output_type": "display_data"
    }
   ],
   "source": [
    "\n",
    "acc_history = history.history['accuracy']\n",
    "val_acc_history = history.history['val_accuracy']\n",
    "\n",
    "plt.plot(range(1, len(acc_history) + 1), acc_history)\n",
    "plt.plot(range(1, len(val_acc_history) + 1), val_acc_history)\n",
    "plt.xlabel('Epochs')\n",
    "plt.ylabel('Accuracy')\n",
    "plt.legend(['training', 'validation'])\n",
    "plt.show()\n",
    "\n",
    "smooth_acc_history = smooth_curve(acc_history)\n",
    "val_smooth_acc_history = smooth_curve(val_acc_history)\n",
    "\n",
    "plt.plot(range(1, len(smooth_acc_history) + 1), smooth_acc_history)\n",
    "plt.plot(range(1, len(val_smooth_acc_history) + 1), val_smooth_acc_history)\n",
    "plt.xlabel('Epochs')\n",
    "plt.ylabel('Accuracy')\n",
    "plt.legend(['training', 'validation'])\n",
    "plt.show()"
   ]
  },
  {
   "cell_type": "code",
   "execution_count": 68,
   "metadata": {
    "colab": {
     "base_uri": "https://localhost:8080/"
    },
    "executionInfo": {
     "elapsed": 351,
     "status": "ok",
     "timestamp": 1662146701231,
     "user": {
      "displayName": "Büşra Özgöde Yigin",
      "userId": "13797786838741619288"
     },
     "user_tz": -120
    },
    "id": "777b21b8-b5a6-4689-a0e6-9795a9c2ad11",
    "outputId": "6278702b-000b-4146-cc62-e1ff6fdbc41e"
   },
   "outputs": [
    {
     "name": "stdout",
     "output_type": "stream",
     "text": [
      "(8000, 12) (8000,)\n"
     ]
    }
   ],
   "source": [
    "##Rescale for whole training set (X_trval)\n",
    "X_trainval, X_test, y_trainval, y_test = train_test_split(X, y, test_size = 0.2, stratify=y, random_state = 0)\n",
    "\n",
    "sc = StandardScaler()\n",
    "X_trainval = sc.fit_transform(X_trainval)\n",
    "X_test = sc.transform(X_test)\n",
    "print(X_trainval.shape, y_trainval.shape)"
   ]
  },
  {
   "cell_type": "markdown",
   "metadata": {
    "id": "23b0df4a-0abc-4bcc-850d-0845e4a22c49"
   },
   "source": [
    "Train the final model on the whole training set, evaluate the model on test set."
   ]
  },
  {
   "cell_type": "code",
   "execution_count": 69,
   "metadata": {
    "colab": {
     "base_uri": "https://localhost:8080/"
    },
    "executionInfo": {
     "elapsed": 30715,
     "status": "ok",
     "timestamp": 1662146731938,
     "user": {
      "displayName": "Büşra Özgöde Yigin",
      "userId": "13797786838741619288"
     },
     "user_tz": -120
    },
    "id": "d20609cf-82ac-4a09-a52e-42afe5f98abf",
    "outputId": "ddb98436-968e-4716-bb91-3ed2d5815aed"
   },
   "outputs": [
    {
     "name": "stdout",
     "output_type": "stream",
     "text": [
      "63/63 [==============================] - 0s 3ms/step - loss: 0.3640 - accuracy: 0.8530\n",
      "Test accuracy: 0.8529999852180481\n"
     ]
    }
   ],
   "source": [
    "# Training the final model and the whole training set\n",
    "### PUT YOUR CODE HERE ###\n",
    "model = build_model()\n",
    "# Train it on the entirety of the data.\n",
    "model.fit(X_trainval, y_trainval,\n",
    "          epochs=50, batch_size=32, verbose=0)\n",
    "test_loss_score, test_acc_score = model.evaluate(X_test, y_test)\n",
    "print(\"Test accuracy:\", test_acc_score)\n",
    "### END ###"
   ]
  },
  {
   "cell_type": "code",
   "execution_count": 72,
   "metadata": {
    "colab": {
     "base_uri": "https://localhost:8080/"
    },
    "executionInfo": {
     "elapsed": 459,
     "status": "ok",
     "timestamp": 1662146732379,
     "user": {
      "displayName": "Büşra Özgöde Yigin",
      "userId": "13797786838741619288"
     },
     "user_tz": -120
    },
    "id": "56fdad91-9ab6-4e61-a3d6-0b4fc06d812a",
    "outputId": "da1d7fc9-f2ba-4691-da0f-920b67848153"
   },
   "outputs": [
    {
     "name": "stdout",
     "output_type": "stream",
     "text": [
      "[[0.07675067]\n",
      " [0.12055892]\n",
      " [0.02248731]\n",
      " ...\n",
      " [0.02310494]\n",
      " [0.9999846 ]\n",
      " [0.03758153]]\n",
      "[[False]\n",
      " [False]\n",
      " [False]\n",
      " ...\n",
      " [False]\n",
      " [ True]\n",
      " [False]]\n",
      "[[0 1]\n",
      " [0 0]\n",
      " [0 0]\n",
      " ...\n",
      " [0 0]\n",
      " [1 1]\n",
      " [0 0]]\n"
     ]
    }
   ],
   "source": [
    "y_pred = model.predict(X_test)\n",
    "print(y_pred)\n",
    "y_pred = (y_pred > 0.5)\n",
    "print(y_pred)\n",
    "print(np.concatenate((y_pred.reshape(len(y_pred),1), y_test.reshape(len(y_test),1)),1))"
   ]
  },
  {
   "cell_type": "code",
   "execution_count": 71,
   "metadata": {
    "colab": {
     "base_uri": "https://localhost:8080/"
    },
    "executionInfo": {
     "elapsed": 14,
     "status": "ok",
     "timestamp": 1662146732380,
     "user": {
      "displayName": "Büşra Özgöde Yigin",
      "userId": "13797786838741619288"
     },
     "user_tz": -120
    },
    "id": "64523093-9e04-4b1e-9dbd-14ce7ac40d81",
    "outputId": "b4eb3aa4-bd69-408a-8b41-90502858b033"
   },
   "outputs": [
    {
     "name": "stdout",
     "output_type": "stream",
     "text": [
      "[[1529   64]\n",
      " [ 230  177]]\n"
     ]
    },
    {
     "data": {
      "text/plain": [
       "0.853"
      ]
     },
     "execution_count": 71,
     "metadata": {},
     "output_type": "execute_result"
    }
   ],
   "source": [
    "from sklearn.metrics import confusion_matrix, accuracy_score\n",
    "cm = confusion_matrix(y_test, y_pred)\n",
    "print(cm)\n",
    "accuracy_score(y_test, y_pred)"
   ]
  },
  {
   "cell_type": "markdown",
   "metadata": {
    "id": "ad821f3d-1114-4723-ae9d-78ff5f3fc580"
   },
   "source": [
    "### Exercise 7: Use our ANN model to predict if the customer with the following informations will leave the bank: \n",
    "\n",
    "Geography: France\n",
    "\n",
    "Credit Score: 600\n",
    "\n",
    "Gender: Male\n",
    "\n",
    "Age: 40 years old\n",
    "\n",
    "Tenure: 3 years\n",
    "\n",
    "Balance: \\$ 60000\n",
    "\n",
    "Number of Products: 2\n",
    "\n",
    "Does this customer have a credit card ? Yes\n",
    "\n",
    "Is this customer an Active Member: Yes\n",
    "\n",
    "Estimated Salary: \\$ 50000\n",
    "\n",
    "So, should we say goodbye to that customer ? \n"
   ]
  },
  {
   "cell_type": "code",
   "execution_count": 209,
   "metadata": {
    "colab": {
     "base_uri": "https://localhost:8080/"
    },
    "executionInfo": {
     "elapsed": 480,
     "status": "ok",
     "timestamp": 1662146581927,
     "user": {
      "displayName": "Büşra Özgöde Yigin",
      "userId": "13797786838741619288"
     },
     "user_tz": -120
    },
    "id": "07566fe2-e713-4b16-b70d-bdb8f0ad8e27",
    "outputId": "ddb31164-8ad7-474f-b502-0dd2c889c6d9"
   },
   "outputs": [
    {
     "name": "stdout",
     "output_type": "stream",
     "text": [
      "[[False]]\n"
     ]
    }
   ],
   "source": [
    "### PUT YOUR CODE HERE ###\n",
    "\n",
    "print(model.predict(sc.transform([[1, 0, 0, 600, 1, 40, 3, 60000, 2, 1, 1, 50000]])) > 0.5)\n",
    "\n",
    "### END ###"
   ]
  },
  {
   "cell_type": "markdown",
   "metadata": {
    "id": "b98fef79-c585-4f91-a1c9-a52a54196b21"
   },
   "source": [
    "Therefore, our ANN model predicts that this customer stays in the bank!\n",
    "\n",
    "**Important note 1:** Notice that the values of the features were all input in a double pair of square brackets. That's because the \"predict\" method always expects a 2D array as the format of its inputs. And putting our values into a double pair of square brackets makes the input exactly a 2D array.\n",
    "\n",
    "**Important note 2:** Notice also that the \"France\" country was not input as a string in the last column but as \"1, 0, 0\" in the first three columns. That's because of course the predict method expects the one-hot-encoded values of the state, and as we see in the first row of the matrix of features X, \"France\" was encoded as \"1, 0, 0\". And be careful to include these values in the first three columns, because the dummy variables are always created in the first columns."
   ]
  },
  {
   "cell_type": "markdown",
   "metadata": {
    "id": "2279f8ec-33f7-4612-830e-a29ca3a622eb"
   },
   "source": [
    "# Wrapping up\n",
    "\n",
    "\n",
    "Here's what you should take away from this example:\n",
    "\n",
    "* Regression is commonly done using the Mean Squared Error (MSE) loss, while binary classification uses the binary cross-entropy loss.\n",
    "* Common metric are Mean Absolute Error (MAE) for regression and accuracy for classification.\n",
    "* When features in the input data have values in different ranges, each feature should be scaled independently as a preprocessing step.\n",
    "* When there is little data available, using K-Fold validation is a great way to reliably evaluate a model.\n",
    "* When little training data is available, it is preferable to use a small network with very few hidden layers (typically only one or two), in order to avoid severe overfitting.\n"
   ]
  },
  {
   "cell_type": "code",
   "execution_count": null,
   "metadata": {
    "id": "3c7f3629-cc08-4daa-9033-5a2d63c763b0"
   },
   "outputs": [],
   "source": []
  }
 ],
 "metadata": {
  "colab": {
   "collapsed_sections": [],
   "provenance": [
    {
     "file_id": "1MfC-VO09yMiMTiMGgSyx3dekrQeTCX9J",
     "timestamp": 1661245799936
    }
   ]
  },
  "kernelspec": {
   "display_name": "Python 3 (ipykernel)",
   "language": "python",
   "name": "python3"
  },
  "language_info": {
   "codemirror_mode": {
    "name": "ipython",
    "version": 3
   },
   "file_extension": ".py",
   "mimetype": "text/x-python",
   "name": "python",
   "nbconvert_exporter": "python",
   "pygments_lexer": "ipython3",
   "version": "3.7.4"
  }
 },
 "nbformat": 4,
 "nbformat_minor": 5
}
